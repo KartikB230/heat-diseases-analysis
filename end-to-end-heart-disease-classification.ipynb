{
 "cells": [
  {
   "cell_type": "markdown",
   "id": "1182b7ea",
   "metadata": {},
   "source": [
    "## Predicting heart disease using machine learning\n",
    "This notebook looks into using various Python-based machine learning and data science libraries in an attempt to build a machine learning model capable of predicting whether or not someone has heart disease based on their medical attributes.\n",
    "\n",
    "## We're going to take the following approach:\n",
    "\n",
    "1. Problem definition\n",
    "2. Data\n",
    "3. Evaluation\n",
    "4. Features\n",
    "5. Modelling\n",
    "6. Experimentation\n",
    "\n",
    "\n",
    "## 1. Problem Definition\n",
    "In a statement,\n",
    "> Given clinical parameters about a patient, can we predict whether or not they have heart disease?\n",
    "\n",
    "## 2. Data\n",
    "The original data came from the Cleavland data from the UCI Machine Learning Repository. https://archive.ics.uci.edu/ml/datasets/heart+Disease\n",
    "\n",
    "There is also a version of it available on Kaggle. https://www.kaggle.com/datasets/sumaiyatasmeem/heart-disease-classification-dataset\n",
    "\n",
    "## 3. Evaluation\n",
    "If we can reach 95% accuracy at predicting whether or not a patient has heart disease during the proof of concept, we'll pursue the project.\n",
    "\n",
    "## 4. Features\n",
    "This is where you'll get different information about each of the features in your data. You can do this via doing your own research (such as looking at the links above) or by talking to a subject matter expert (someone who knows about the dataset).\n",
    "\n",
    "**create data dictionary**\n",
    "\n",
    "1. age - age in years\n",
    "2. sex - (1 = male; 0 = female)\n",
    "3. cp - chest pain type\n",
    "* 0: Typical angina: chest pain related decrease blood supply to the heart\n",
    "* 1: Atypical angina: chest pain not related to heart\n",
    "* 2: Non-anginal pain: typically esophageal spasms (non heart related)\n",
    "* 3: Asymptomatic: chest pain not showing signs of disease\n",
    "4. trestbps - resting blood pressure (in mm Hg on admission to the hospital) anything above 130-140 is typically cause for concern\n",
    "5. chol - serum cholestoral in mg/dl\n",
    "* serum = LDL + HDL + .2 * triglycerides\n",
    "* above 200 is cause for concern\n",
    "6. fbs - (fasting blood sugar > 120 mg/dl) (1 = true; 0 = false)\n",
    "* '>126' mg/dL signals diabetes\n",
    "7. restecg - resting electrocardiographic results\n",
    "* 0: Nothing to note\n",
    "* 1: ST-T Wave abnormality\n",
    " * can range from mild symptoms to severe problems\n",
    " * signals non-normal heart beat\n",
    " * 2: Possible or definite left ventricular hypertrophy\n",
    "* Enlarged heart's main pumping chamber\n",
    "8. thalach - maximum heart rate achieved\n",
    "9. exang - exercise induced angina (1 = yes; 0 = no)\n",
    "10. oldpeak - ST depression induced by exercise relative to rest looks at stress of heart during excercise unhealthy heart will stress more\n",
    "11. slope - the slope of the peak exercise ST segment\n",
    "* 0: Upsloping: better heart rate with excercise (uncommon)\n",
    "* 1: Flatsloping: minimal change (typical healthy heart)\n",
    "* 2: Downslopins: signs of unhealthy heart\n",
    "12. ca - number of major vessels (0-3) colored by flourosopy\n",
    "* colored vessel means the doctor can see the blood passing through\n",
    "* the more blood movement the better (no clots)\n",
    "13. thal - thalium stress result\n",
    "* 1,3: normal\n",
    "* 6: fixed defect: used to be defect but ok now\n",
    "* 7: reversable defect: no proper blood movement when excercising\n",
    "14. target - have disease or not (1=yes, 0=no) (= the predicted attribute)\n",
    "\n",
    "### Preparing the tools\n",
    "We're going to use pandas, Matplotlib and NumPy for data analysis and manipulation."
   ]
  },
  {
   "cell_type": "code",
   "execution_count": 1,
   "id": "61e85d4b",
   "metadata": {},
   "outputs": [],
   "source": [
    "# import all tools we need\n",
    "\n",
    "#regular EDA(Exploratory Data Analysis) and plotting libraries\n",
    "import numpy as np\n",
    "import pandas as pd\n",
    "import matplotlib.pyplot as plt\n",
    "import seaborn as sns\n",
    "\n",
    "#To make plots appear inside the notebook\n",
    "%matplotlib inline \n",
    "\n",
    "\n",
    "#Models From Scikit-Learn\n",
    "from sklearn.linear_model import LogisticRegression\n",
    "from sklearn.neighbors import KNeighborsClassifier\n",
    "from sklearn.ensemble import RandomForestClassifier\n",
    "\n",
    "#Model Evaluation\n",
    "from sklearn.model_selection import train_test_split, cross_val_score\n",
    "from sklearn.model_selection import RandomizedSearchCV, GridSearchCV\n",
    "from sklearn.metrics import classification_report, confusion_matrix\n",
    "from sklearn.metrics import f1_score, precision_score, recall_score\n",
    "from sklearn.metrics import plot_roc_curve\n",
    "\n",
    "#Trying a new tool \n",
    "from catboost import CatBoostClassifier"
   ]
  },
  {
   "cell_type": "markdown",
   "id": "1f13ceb5",
   "metadata": {},
   "source": [
    "# Load Data"
   ]
  },
  {
   "cell_type": "code",
   "execution_count": 2,
   "id": "eb092d34",
   "metadata": {},
   "outputs": [
    {
     "data": {
      "text/plain": [
       "(303, 14)"
      ]
     },
     "execution_count": 2,
     "metadata": {},
     "output_type": "execute_result"
    }
   ],
   "source": [
    "data = pd.read_csv(\"heart-disease.csv\")\n",
    "data.shape"
   ]
  },
  {
   "cell_type": "markdown",
   "id": "4edb9e53",
   "metadata": {},
   "source": [
    "## Data Exploration (exploratory data analysis or EDA)\n",
    "\n",
    "The goal here is to find out more about the data and become a subject matter export on the dataset you're working with.\n",
    "\n",
    "1. What question(s) are you trying to solve?\n",
    "2. What kind of data do we have and how do we treat different types?\n",
    "3. What's missing from the data and how do you deal with it?\n",
    "4. Where are the outliers and why should you care about them?\n",
    "5. How can you add, change or remove features to get more out of your data?"
   ]
  },
  {
   "cell_type": "code",
   "execution_count": 3,
   "id": "3a601d11",
   "metadata": {},
   "outputs": [
    {
     "data": {
      "text/html": [
       "<div>\n",
       "<style scoped>\n",
       "    .dataframe tbody tr th:only-of-type {\n",
       "        vertical-align: middle;\n",
       "    }\n",
       "\n",
       "    .dataframe tbody tr th {\n",
       "        vertical-align: top;\n",
       "    }\n",
       "\n",
       "    .dataframe thead th {\n",
       "        text-align: right;\n",
       "    }\n",
       "</style>\n",
       "<table border=\"1\" class=\"dataframe\">\n",
       "  <thead>\n",
       "    <tr style=\"text-align: right;\">\n",
       "      <th></th>\n",
       "      <th>age</th>\n",
       "      <th>sex</th>\n",
       "      <th>cp</th>\n",
       "      <th>trestbps</th>\n",
       "      <th>chol</th>\n",
       "      <th>fbs</th>\n",
       "      <th>restecg</th>\n",
       "      <th>thalach</th>\n",
       "      <th>exang</th>\n",
       "      <th>oldpeak</th>\n",
       "      <th>slope</th>\n",
       "      <th>ca</th>\n",
       "      <th>thal</th>\n",
       "      <th>target</th>\n",
       "    </tr>\n",
       "  </thead>\n",
       "  <tbody>\n",
       "    <tr>\n",
       "      <th>0</th>\n",
       "      <td>63</td>\n",
       "      <td>1</td>\n",
       "      <td>3</td>\n",
       "      <td>145</td>\n",
       "      <td>233</td>\n",
       "      <td>1</td>\n",
       "      <td>0</td>\n",
       "      <td>150</td>\n",
       "      <td>0</td>\n",
       "      <td>2.3</td>\n",
       "      <td>0</td>\n",
       "      <td>0</td>\n",
       "      <td>1</td>\n",
       "      <td>1</td>\n",
       "    </tr>\n",
       "    <tr>\n",
       "      <th>1</th>\n",
       "      <td>37</td>\n",
       "      <td>1</td>\n",
       "      <td>2</td>\n",
       "      <td>130</td>\n",
       "      <td>250</td>\n",
       "      <td>0</td>\n",
       "      <td>1</td>\n",
       "      <td>187</td>\n",
       "      <td>0</td>\n",
       "      <td>3.5</td>\n",
       "      <td>0</td>\n",
       "      <td>0</td>\n",
       "      <td>2</td>\n",
       "      <td>1</td>\n",
       "    </tr>\n",
       "    <tr>\n",
       "      <th>2</th>\n",
       "      <td>41</td>\n",
       "      <td>0</td>\n",
       "      <td>1</td>\n",
       "      <td>130</td>\n",
       "      <td>204</td>\n",
       "      <td>0</td>\n",
       "      <td>0</td>\n",
       "      <td>172</td>\n",
       "      <td>0</td>\n",
       "      <td>1.4</td>\n",
       "      <td>2</td>\n",
       "      <td>0</td>\n",
       "      <td>2</td>\n",
       "      <td>1</td>\n",
       "    </tr>\n",
       "    <tr>\n",
       "      <th>3</th>\n",
       "      <td>56</td>\n",
       "      <td>1</td>\n",
       "      <td>1</td>\n",
       "      <td>120</td>\n",
       "      <td>236</td>\n",
       "      <td>0</td>\n",
       "      <td>1</td>\n",
       "      <td>178</td>\n",
       "      <td>0</td>\n",
       "      <td>0.8</td>\n",
       "      <td>2</td>\n",
       "      <td>0</td>\n",
       "      <td>2</td>\n",
       "      <td>1</td>\n",
       "    </tr>\n",
       "    <tr>\n",
       "      <th>4</th>\n",
       "      <td>57</td>\n",
       "      <td>0</td>\n",
       "      <td>0</td>\n",
       "      <td>120</td>\n",
       "      <td>354</td>\n",
       "      <td>0</td>\n",
       "      <td>1</td>\n",
       "      <td>163</td>\n",
       "      <td>1</td>\n",
       "      <td>0.6</td>\n",
       "      <td>2</td>\n",
       "      <td>0</td>\n",
       "      <td>2</td>\n",
       "      <td>1</td>\n",
       "    </tr>\n",
       "  </tbody>\n",
       "</table>\n",
       "</div>"
      ],
      "text/plain": [
       "   age  sex  cp  trestbps  chol  fbs  restecg  thalach  exang  oldpeak  slope  \\\n",
       "0   63    1   3       145   233    1        0      150      0      2.3      0   \n",
       "1   37    1   2       130   250    0        1      187      0      3.5      0   \n",
       "2   41    0   1       130   204    0        0      172      0      1.4      2   \n",
       "3   56    1   1       120   236    0        1      178      0      0.8      2   \n",
       "4   57    0   0       120   354    0        1      163      1      0.6      2   \n",
       "\n",
       "   ca  thal  target  \n",
       "0   0     1       1  \n",
       "1   0     2       1  \n",
       "2   0     2       1  \n",
       "3   0     2       1  \n",
       "4   0     2       1  "
      ]
     },
     "execution_count": 3,
     "metadata": {},
     "output_type": "execute_result"
    }
   ],
   "source": [
    "data.head()"
   ]
  },
  {
   "cell_type": "code",
   "execution_count": 4,
   "id": "417ad3a7",
   "metadata": {},
   "outputs": [
    {
     "data": {
      "text/html": [
       "<div>\n",
       "<style scoped>\n",
       "    .dataframe tbody tr th:only-of-type {\n",
       "        vertical-align: middle;\n",
       "    }\n",
       "\n",
       "    .dataframe tbody tr th {\n",
       "        vertical-align: top;\n",
       "    }\n",
       "\n",
       "    .dataframe thead th {\n",
       "        text-align: right;\n",
       "    }\n",
       "</style>\n",
       "<table border=\"1\" class=\"dataframe\">\n",
       "  <thead>\n",
       "    <tr style=\"text-align: right;\">\n",
       "      <th></th>\n",
       "      <th>age</th>\n",
       "      <th>sex</th>\n",
       "      <th>cp</th>\n",
       "      <th>trestbps</th>\n",
       "      <th>chol</th>\n",
       "      <th>fbs</th>\n",
       "      <th>restecg</th>\n",
       "      <th>thalach</th>\n",
       "      <th>exang</th>\n",
       "      <th>oldpeak</th>\n",
       "      <th>slope</th>\n",
       "      <th>ca</th>\n",
       "      <th>thal</th>\n",
       "      <th>target</th>\n",
       "    </tr>\n",
       "  </thead>\n",
       "  <tbody>\n",
       "    <tr>\n",
       "      <th>298</th>\n",
       "      <td>57</td>\n",
       "      <td>0</td>\n",
       "      <td>0</td>\n",
       "      <td>140</td>\n",
       "      <td>241</td>\n",
       "      <td>0</td>\n",
       "      <td>1</td>\n",
       "      <td>123</td>\n",
       "      <td>1</td>\n",
       "      <td>0.2</td>\n",
       "      <td>1</td>\n",
       "      <td>0</td>\n",
       "      <td>3</td>\n",
       "      <td>0</td>\n",
       "    </tr>\n",
       "    <tr>\n",
       "      <th>299</th>\n",
       "      <td>45</td>\n",
       "      <td>1</td>\n",
       "      <td>3</td>\n",
       "      <td>110</td>\n",
       "      <td>264</td>\n",
       "      <td>0</td>\n",
       "      <td>1</td>\n",
       "      <td>132</td>\n",
       "      <td>0</td>\n",
       "      <td>1.2</td>\n",
       "      <td>1</td>\n",
       "      <td>0</td>\n",
       "      <td>3</td>\n",
       "      <td>0</td>\n",
       "    </tr>\n",
       "    <tr>\n",
       "      <th>300</th>\n",
       "      <td>68</td>\n",
       "      <td>1</td>\n",
       "      <td>0</td>\n",
       "      <td>144</td>\n",
       "      <td>193</td>\n",
       "      <td>1</td>\n",
       "      <td>1</td>\n",
       "      <td>141</td>\n",
       "      <td>0</td>\n",
       "      <td>3.4</td>\n",
       "      <td>1</td>\n",
       "      <td>2</td>\n",
       "      <td>3</td>\n",
       "      <td>0</td>\n",
       "    </tr>\n",
       "    <tr>\n",
       "      <th>301</th>\n",
       "      <td>57</td>\n",
       "      <td>1</td>\n",
       "      <td>0</td>\n",
       "      <td>130</td>\n",
       "      <td>131</td>\n",
       "      <td>0</td>\n",
       "      <td>1</td>\n",
       "      <td>115</td>\n",
       "      <td>1</td>\n",
       "      <td>1.2</td>\n",
       "      <td>1</td>\n",
       "      <td>1</td>\n",
       "      <td>3</td>\n",
       "      <td>0</td>\n",
       "    </tr>\n",
       "    <tr>\n",
       "      <th>302</th>\n",
       "      <td>57</td>\n",
       "      <td>0</td>\n",
       "      <td>1</td>\n",
       "      <td>130</td>\n",
       "      <td>236</td>\n",
       "      <td>0</td>\n",
       "      <td>0</td>\n",
       "      <td>174</td>\n",
       "      <td>0</td>\n",
       "      <td>0.0</td>\n",
       "      <td>1</td>\n",
       "      <td>1</td>\n",
       "      <td>2</td>\n",
       "      <td>0</td>\n",
       "    </tr>\n",
       "  </tbody>\n",
       "</table>\n",
       "</div>"
      ],
      "text/plain": [
       "     age  sex  cp  trestbps  chol  fbs  restecg  thalach  exang  oldpeak  \\\n",
       "298   57    0   0       140   241    0        1      123      1      0.2   \n",
       "299   45    1   3       110   264    0        1      132      0      1.2   \n",
       "300   68    1   0       144   193    1        1      141      0      3.4   \n",
       "301   57    1   0       130   131    0        1      115      1      1.2   \n",
       "302   57    0   1       130   236    0        0      174      0      0.0   \n",
       "\n",
       "     slope  ca  thal  target  \n",
       "298      1   0     3       0  \n",
       "299      1   0     3       0  \n",
       "300      1   2     3       0  \n",
       "301      1   1     3       0  \n",
       "302      1   1     2       0  "
      ]
     },
     "execution_count": 4,
     "metadata": {},
     "output_type": "execute_result"
    }
   ],
   "source": [
    "data.tail()"
   ]
  },
  {
   "cell_type": "code",
   "execution_count": 5,
   "id": "9663be1d",
   "metadata": {},
   "outputs": [
    {
     "data": {
      "text/plain": [
       "1    165\n",
       "0    138\n",
       "Name: target, dtype: int64"
      ]
     },
     "execution_count": 5,
     "metadata": {},
     "output_type": "execute_result"
    }
   ],
   "source": [
    "data[\"target\"].value_counts()"
   ]
  },
  {
   "cell_type": "code",
   "execution_count": 6,
   "id": "e1a836b6",
   "metadata": {},
   "outputs": [
    {
     "data": {
      "image/png": "[encoded data removed]",
      "text/plain": [
       "<Figure size 432x288 with 1 Axes>"
      ]
     },
     "metadata": {
      "needs_background": "light"
     },
     "output_type": "display_data"
    }
   ],
   "source": [
    "data[\"target\"].value_counts().plot(kind=\"bar\", color = [\"Red\",\"green\"]);"
   ]
  },
  {
   "cell_type": "code",
   "execution_count": 7,
   "id": "672dc022",
   "metadata": {},
   "outputs": [
    {
     "name": "stdout",
     "output_type": "stream",
     "text": [
      "<class 'pandas.core.frame.DataFrame'>\n",
      "RangeIndex: 303 entries, 0 to 302\n",
      "Data columns (total 14 columns):\n",
      " #   Column    Non-Null Count  Dtype  \n",
      "---  ------    --------------  -----  \n",
      " 0   age       303 non-null    int64  \n",
      " 1   sex       303 non-null    int64  \n",
      " 2   cp        303 non-null    int64  \n",
      " 3   trestbps  303 non-null    int64  \n",
      " 4   chol      303 non-null    int64  \n",
      " 5   fbs       303 non-null    int64  \n",
      " 6   restecg   303 non-null    int64  \n",
      " 7   thalach   303 non-null    int64  \n",
      " 8   exang     303 non-null    int64  \n",
      " 9   oldpeak   303 non-null    float64\n",
      " 10  slope     303 non-null    int64  \n",
      " 11  ca        303 non-null    int64  \n",
      " 12  thal      303 non-null    int64  \n",
      " 13  target    303 non-null    int64  \n",
      "dtypes: float64(1), int64(13)\n",
      "memory usage: 33.3 KB\n"
     ]
    }
   ],
   "source": [
    "#Are there any missing value?\n",
    "data.info()"
   ]
  },
  {
   "cell_type": "code",
   "execution_count": 8,
   "id": "809a1977",
   "metadata": {},
   "outputs": [
    {
     "data": {
      "text/plain": [
       "age         0\n",
       "sex         0\n",
       "cp          0\n",
       "trestbps    0\n",
       "chol        0\n",
       "fbs         0\n",
       "restecg     0\n",
       "thalach     0\n",
       "exang       0\n",
       "oldpeak     0\n",
       "slope       0\n",
       "ca          0\n",
       "thal        0\n",
       "target      0\n",
       "dtype: int64"
      ]
     },
     "execution_count": 8,
     "metadata": {},
     "output_type": "execute_result"
    }
   ],
   "source": [
    "data.isna().sum()"
   ]
  },
  {
   "cell_type": "code",
   "execution_count": 9,
   "id": "e9f27b5c",
   "metadata": {},
   "outputs": [
    {
     "data": {
      "text/html": [
       "<div>\n",
       "<style scoped>\n",
       "    .dataframe tbody tr th:only-of-type {\n",
       "        vertical-align: middle;\n",
       "    }\n",
       "\n",
       "    .dataframe tbody tr th {\n",
       "        vertical-align: top;\n",
       "    }\n",
       "\n",
       "    .dataframe thead th {\n",
       "        text-align: right;\n",
       "    }\n",
       "</style>\n",
       "<table border=\"1\" class=\"dataframe\">\n",
       "  <thead>\n",
       "    <tr style=\"text-align: right;\">\n",
       "      <th></th>\n",
       "      <th>age</th>\n",
       "      <th>sex</th>\n",
       "      <th>cp</th>\n",
       "      <th>trestbps</th>\n",
       "      <th>chol</th>\n",
       "      <th>fbs</th>\n",
       "      <th>restecg</th>\n",
       "      <th>thalach</th>\n",
       "      <th>exang</th>\n",
       "      <th>oldpeak</th>\n",
       "      <th>slope</th>\n",
       "      <th>ca</th>\n",
       "      <th>thal</th>\n",
       "      <th>target</th>\n",
       "    </tr>\n",
       "  </thead>\n",
       "  <tbody>\n",
       "    <tr>\n",
       "      <th>count</th>\n",
       "      <td>303.000000</td>\n",
       "      <td>303.000000</td>\n",
       "      <td>303.000000</td>\n",
       "      <td>303.000000</td>\n",
       "      <td>303.000000</td>\n",
       "      <td>303.000000</td>\n",
       "      <td>303.000000</td>\n",
       "      <td>303.000000</td>\n",
       "      <td>303.000000</td>\n",
       "      <td>303.000000</td>\n",
       "      <td>303.000000</td>\n",
       "      <td>303.000000</td>\n",
       "      <td>303.000000</td>\n",
       "      <td>303.000000</td>\n",
       "    </tr>\n",
       "    <tr>\n",
       "      <th>mean</th>\n",
       "      <td>54.366337</td>\n",
       "      <td>0.683168</td>\n",
       "      <td>0.966997</td>\n",
       "      <td>131.623762</td>\n",
       "      <td>246.264026</td>\n",
       "      <td>0.148515</td>\n",
       "      <td>0.528053</td>\n",
       "      <td>149.646865</td>\n",
       "      <td>0.326733</td>\n",
       "      <td>1.039604</td>\n",
       "      <td>1.399340</td>\n",
       "      <td>0.729373</td>\n",
       "      <td>2.313531</td>\n",
       "      <td>0.544554</td>\n",
       "    </tr>\n",
       "    <tr>\n",
       "      <th>std</th>\n",
       "      <td>9.082101</td>\n",
       "      <td>0.466011</td>\n",
       "      <td>1.032052</td>\n",
       "      <td>17.538143</td>\n",
       "      <td>51.830751</td>\n",
       "      <td>0.356198</td>\n",
       "      <td>0.525860</td>\n",
       "      <td>22.905161</td>\n",
       "      <td>0.469794</td>\n",
       "      <td>1.161075</td>\n",
       "      <td>0.616226</td>\n",
       "      <td>1.022606</td>\n",
       "      <td>0.612277</td>\n",
       "      <td>0.498835</td>\n",
       "    </tr>\n",
       "    <tr>\n",
       "      <th>min</th>\n",
       "      <td>29.000000</td>\n",
       "      <td>0.000000</td>\n",
       "      <td>0.000000</td>\n",
       "      <td>94.000000</td>\n",
       "      <td>126.000000</td>\n",
       "      <td>0.000000</td>\n",
       "      <td>0.000000</td>\n",
       "      <td>71.000000</td>\n",
       "      <td>0.000000</td>\n",
       "      <td>0.000000</td>\n",
       "      <td>0.000000</td>\n",
       "      <td>0.000000</td>\n",
       "      <td>0.000000</td>\n",
       "      <td>0.000000</td>\n",
       "    </tr>\n",
       "    <tr>\n",
       "      <th>25%</th>\n",
       "      <td>47.500000</td>\n",
       "      <td>0.000000</td>\n",
       "      <td>0.000000</td>\n",
       "      <td>120.000000</td>\n",
       "      <td>211.000000</td>\n",
       "      <td>0.000000</td>\n",
       "      <td>0.000000</td>\n",
       "      <td>133.500000</td>\n",
       "      <td>0.000000</td>\n",
       "      <td>0.000000</td>\n",
       "      <td>1.000000</td>\n",
       "      <td>0.000000</td>\n",
       "      <td>2.000000</td>\n",
       "      <td>0.000000</td>\n",
       "    </tr>\n",
       "    <tr>\n",
       "      <th>50%</th>\n",
       "      <td>55.000000</td>\n",
       "      <td>1.000000</td>\n",
       "      <td>1.000000</td>\n",
       "      <td>130.000000</td>\n",
       "      <td>240.000000</td>\n",
       "      <td>0.000000</td>\n",
       "      <td>1.000000</td>\n",
       "      <td>153.000000</td>\n",
       "      <td>0.000000</td>\n",
       "      <td>0.800000</td>\n",
       "      <td>1.000000</td>\n",
       "      <td>0.000000</td>\n",
       "      <td>2.000000</td>\n",
       "      <td>1.000000</td>\n",
       "    </tr>\n",
       "    <tr>\n",
       "      <th>75%</th>\n",
       "      <td>61.000000</td>\n",
       "      <td>1.000000</td>\n",
       "      <td>2.000000</td>\n",
       "      <td>140.000000</td>\n",
       "      <td>274.500000</td>\n",
       "      <td>0.000000</td>\n",
       "      <td>1.000000</td>\n",
       "      <td>166.000000</td>\n",
       "      <td>1.000000</td>\n",
       "      <td>1.600000</td>\n",
       "      <td>2.000000</td>\n",
       "      <td>1.000000</td>\n",
       "      <td>3.000000</td>\n",
       "      <td>1.000000</td>\n",
       "    </tr>\n",
       "    <tr>\n",
       "      <th>max</th>\n",
       "      <td>77.000000</td>\n",
       "      <td>1.000000</td>\n",
       "      <td>3.000000</td>\n",
       "      <td>200.000000</td>\n",
       "      <td>564.000000</td>\n",
       "      <td>1.000000</td>\n",
       "      <td>2.000000</td>\n",
       "      <td>202.000000</td>\n",
       "      <td>1.000000</td>\n",
       "      <td>6.200000</td>\n",
       "      <td>2.000000</td>\n",
       "      <td>4.000000</td>\n",
       "      <td>3.000000</td>\n",
       "      <td>1.000000</td>\n",
       "    </tr>\n",
       "  </tbody>\n",
       "</table>\n",
       "</div>"
      ],
      "text/plain": [
       "              age         sex          cp    trestbps        chol         fbs  \\\n",
       "count  303.000000  303.000000  303.000000  303.000000  303.000000  303.000000   \n",
       "mean    54.366337    0.683168    0.966997  131.623762  246.264026    0.148515   \n",
       "std      9.082101    0.466011    1.032052   17.538143   51.830751    0.356198   \n",
       "min     29.000000    0.000000    0.000000   94.000000  126.000000    0.000000   \n",
       "25%     47.500000    0.000000    0.000000  120.000000  211.000000    0.000000   \n",
       "50%     55.000000    1.000000    1.000000  130.000000  240.000000    0.000000   \n",
       "75%     61.000000    1.000000    2.000000  140.000000  274.500000    0.000000   \n",
       "max     77.000000    1.000000    3.000000  200.000000  564.000000    1.000000   \n",
       "\n",
       "          restecg     thalach       exang     oldpeak       slope          ca  \\\n",
       "count  303.000000  303.000000  303.000000  303.000000  303.000000  303.000000   \n",
       "mean     0.528053  149.646865    0.326733    1.039604    1.399340    0.729373   \n",
       "std      0.525860   22.905161    0.469794    1.161075    0.616226    1.022606   \n",
       "min      0.000000   71.000000    0.000000    0.000000    0.000000    0.000000   \n",
       "25%      0.000000  133.500000    0.000000    0.000000    1.000000    0.000000   \n",
       "50%      1.000000  153.000000    0.000000    0.800000    1.000000    0.000000   \n",
       "75%      1.000000  166.000000    1.000000    1.600000    2.000000    1.000000   \n",
       "max      2.000000  202.000000    1.000000    6.200000    2.000000    4.000000   \n",
       "\n",
       "             thal      target  \n",
       "count  303.000000  303.000000  \n",
       "mean     2.313531    0.544554  \n",
       "std      0.612277    0.498835  \n",
       "min      0.000000    0.000000  \n",
       "25%      2.000000    0.000000  \n",
       "50%      2.000000    1.000000  \n",
       "75%      3.000000    1.000000  \n",
       "max      3.000000    1.000000  "
      ]
     },
     "execution_count": 9,
     "metadata": {},
     "output_type": "execute_result"
    }
   ],
   "source": [
    "data.describe()"
   ]
  },
  {
   "cell_type": "code",
   "execution_count": 10,
   "id": "8a0ce295",
   "metadata": {},
   "outputs": [
    {
     "data": {
      "text/html": [
       "<div>\n",
       "<style scoped>\n",
       "    .dataframe tbody tr th:only-of-type {\n",
       "        vertical-align: middle;\n",
       "    }\n",
       "\n",
       "    .dataframe tbody tr th {\n",
       "        vertical-align: top;\n",
       "    }\n",
       "\n",
       "    .dataframe thead th {\n",
       "        text-align: right;\n",
       "    }\n",
       "</style>\n",
       "<table border=\"1\" class=\"dataframe\">\n",
       "  <thead>\n",
       "    <tr style=\"text-align: right;\">\n",
       "      <th></th>\n",
       "      <th>age</th>\n",
       "      <th>sex</th>\n",
       "      <th>cp</th>\n",
       "      <th>trestbps</th>\n",
       "      <th>chol</th>\n",
       "      <th>fbs</th>\n",
       "      <th>restecg</th>\n",
       "      <th>thalach</th>\n",
       "      <th>exang</th>\n",
       "      <th>oldpeak</th>\n",
       "      <th>slope</th>\n",
       "      <th>ca</th>\n",
       "      <th>thal</th>\n",
       "      <th>target</th>\n",
       "    </tr>\n",
       "  </thead>\n",
       "  <tbody>\n",
       "    <tr>\n",
       "      <th>0</th>\n",
       "      <td>63</td>\n",
       "      <td>1</td>\n",
       "      <td>3</td>\n",
       "      <td>145</td>\n",
       "      <td>233</td>\n",
       "      <td>1</td>\n",
       "      <td>0</td>\n",
       "      <td>150</td>\n",
       "      <td>0</td>\n",
       "      <td>2.3</td>\n",
       "      <td>0</td>\n",
       "      <td>0</td>\n",
       "      <td>1</td>\n",
       "      <td>1</td>\n",
       "    </tr>\n",
       "    <tr>\n",
       "      <th>1</th>\n",
       "      <td>37</td>\n",
       "      <td>1</td>\n",
       "      <td>2</td>\n",
       "      <td>130</td>\n",
       "      <td>250</td>\n",
       "      <td>0</td>\n",
       "      <td>1</td>\n",
       "      <td>187</td>\n",
       "      <td>0</td>\n",
       "      <td>3.5</td>\n",
       "      <td>0</td>\n",
       "      <td>0</td>\n",
       "      <td>2</td>\n",
       "      <td>1</td>\n",
       "    </tr>\n",
       "    <tr>\n",
       "      <th>2</th>\n",
       "      <td>41</td>\n",
       "      <td>0</td>\n",
       "      <td>1</td>\n",
       "      <td>130</td>\n",
       "      <td>204</td>\n",
       "      <td>0</td>\n",
       "      <td>0</td>\n",
       "      <td>172</td>\n",
       "      <td>0</td>\n",
       "      <td>1.4</td>\n",
       "      <td>2</td>\n",
       "      <td>0</td>\n",
       "      <td>2</td>\n",
       "      <td>1</td>\n",
       "    </tr>\n",
       "    <tr>\n",
       "      <th>3</th>\n",
       "      <td>56</td>\n",
       "      <td>1</td>\n",
       "      <td>1</td>\n",
       "      <td>120</td>\n",
       "      <td>236</td>\n",
       "      <td>0</td>\n",
       "      <td>1</td>\n",
       "      <td>178</td>\n",
       "      <td>0</td>\n",
       "      <td>0.8</td>\n",
       "      <td>2</td>\n",
       "      <td>0</td>\n",
       "      <td>2</td>\n",
       "      <td>1</td>\n",
       "    </tr>\n",
       "    <tr>\n",
       "      <th>4</th>\n",
       "      <td>57</td>\n",
       "      <td>0</td>\n",
       "      <td>0</td>\n",
       "      <td>120</td>\n",
       "      <td>354</td>\n",
       "      <td>0</td>\n",
       "      <td>1</td>\n",
       "      <td>163</td>\n",
       "      <td>1</td>\n",
       "      <td>0.6</td>\n",
       "      <td>2</td>\n",
       "      <td>0</td>\n",
       "      <td>2</td>\n",
       "      <td>1</td>\n",
       "    </tr>\n",
       "    <tr>\n",
       "      <th>...</th>\n",
       "      <td>...</td>\n",
       "      <td>...</td>\n",
       "      <td>...</td>\n",
       "      <td>...</td>\n",
       "      <td>...</td>\n",
       "      <td>...</td>\n",
       "      <td>...</td>\n",
       "      <td>...</td>\n",
       "      <td>...</td>\n",
       "      <td>...</td>\n",
       "      <td>...</td>\n",
       "      <td>...</td>\n",
       "      <td>...</td>\n",
       "      <td>...</td>\n",
       "    </tr>\n",
       "    <tr>\n",
       "      <th>298</th>\n",
       "      <td>57</td>\n",
       "      <td>0</td>\n",
       "      <td>0</td>\n",
       "      <td>140</td>\n",
       "      <td>241</td>\n",
       "      <td>0</td>\n",
       "      <td>1</td>\n",
       "      <td>123</td>\n",
       "      <td>1</td>\n",
       "      <td>0.2</td>\n",
       "      <td>1</td>\n",
       "      <td>0</td>\n",
       "      <td>3</td>\n",
       "      <td>0</td>\n",
       "    </tr>\n",
       "    <tr>\n",
       "      <th>299</th>\n",
       "      <td>45</td>\n",
       "      <td>1</td>\n",
       "      <td>3</td>\n",
       "      <td>110</td>\n",
       "      <td>264</td>\n",
       "      <td>0</td>\n",
       "      <td>1</td>\n",
       "      <td>132</td>\n",
       "      <td>0</td>\n",
       "      <td>1.2</td>\n",
       "      <td>1</td>\n",
       "      <td>0</td>\n",
       "      <td>3</td>\n",
       "      <td>0</td>\n",
       "    </tr>\n",
       "    <tr>\n",
       "      <th>300</th>\n",
       "      <td>68</td>\n",
       "      <td>1</td>\n",
       "      <td>0</td>\n",
       "      <td>144</td>\n",
       "      <td>193</td>\n",
       "      <td>1</td>\n",
       "      <td>1</td>\n",
       "      <td>141</td>\n",
       "      <td>0</td>\n",
       "      <td>3.4</td>\n",
       "      <td>1</td>\n",
       "      <td>2</td>\n",
       "      <td>3</td>\n",
       "      <td>0</td>\n",
       "    </tr>\n",
       "    <tr>\n",
       "      <th>301</th>\n",
       "      <td>57</td>\n",
       "      <td>1</td>\n",
       "      <td>0</td>\n",
       "      <td>130</td>\n",
       "      <td>131</td>\n",
       "      <td>0</td>\n",
       "      <td>1</td>\n",
       "      <td>115</td>\n",
       "      <td>1</td>\n",
       "      <td>1.2</td>\n",
       "      <td>1</td>\n",
       "      <td>1</td>\n",
       "      <td>3</td>\n",
       "      <td>0</td>\n",
       "    </tr>\n",
       "    <tr>\n",
       "      <th>302</th>\n",
       "      <td>57</td>\n",
       "      <td>0</td>\n",
       "      <td>1</td>\n",
       "      <td>130</td>\n",
       "      <td>236</td>\n",
       "      <td>0</td>\n",
       "      <td>0</td>\n",
       "      <td>174</td>\n",
       "      <td>0</td>\n",
       "      <td>0.0</td>\n",
       "      <td>1</td>\n",
       "      <td>1</td>\n",
       "      <td>2</td>\n",
       "      <td>0</td>\n",
       "    </tr>\n",
       "  </tbody>\n",
       "</table>\n",
       "<p>303 rows × 14 columns</p>\n",
       "</div>"
      ],
      "text/plain": [
       "     age  sex  cp  trestbps  chol  fbs  restecg  thalach  exang  oldpeak  \\\n",
       "0     63    1   3       145   233    1        0      150      0      2.3   \n",
       "1     37    1   2       130   250    0        1      187      0      3.5   \n",
       "2     41    0   1       130   204    0        0      172      0      1.4   \n",
       "3     56    1   1       120   236    0        1      178      0      0.8   \n",
       "4     57    0   0       120   354    0        1      163      1      0.6   \n",
       "..   ...  ...  ..       ...   ...  ...      ...      ...    ...      ...   \n",
       "298   57    0   0       140   241    0        1      123      1      0.2   \n",
       "299   45    1   3       110   264    0        1      132      0      1.2   \n",
       "300   68    1   0       144   193    1        1      141      0      3.4   \n",
       "301   57    1   0       130   131    0        1      115      1      1.2   \n",
       "302   57    0   1       130   236    0        0      174      0      0.0   \n",
       "\n",
       "     slope  ca  thal  target  \n",
       "0        0   0     1       1  \n",
       "1        0   0     2       1  \n",
       "2        2   0     2       1  \n",
       "3        2   0     2       1  \n",
       "4        2   0     2       1  \n",
       "..     ...  ..   ...     ...  \n",
       "298      1   0     3       0  \n",
       "299      1   0     3       0  \n",
       "300      1   2     3       0  \n",
       "301      1   1     3       0  \n",
       "302      1   1     2       0  \n",
       "\n",
       "[303 rows x 14 columns]"
      ]
     },
     "execution_count": 10,
     "metadata": {},
     "output_type": "execute_result"
    }
   ],
   "source": [
    "data"
   ]
  },
  {
   "cell_type": "markdown",
   "id": "0248dd87",
   "metadata": {},
   "source": [
    "## Comparing one-on-one and visualization"
   ]
  },
  {
   "cell_type": "code",
   "execution_count": 11,
   "id": "a212804a",
   "metadata": {},
   "outputs": [
    {
     "data": {
      "text/plain": [
       "0    143\n",
       "2     87\n",
       "1     50\n",
       "3     23\n",
       "Name: cp, dtype: int64"
      ]
     },
     "execution_count": 11,
     "metadata": {},
     "output_type": "execute_result"
    }
   ],
   "source": [
    "data[\"cp\"].value_counts()"
   ]
  },
  {
   "cell_type": "code",
   "execution_count": 12,
   "id": "ce04a722",
   "metadata": {},
   "outputs": [],
   "source": [
    "CT=pd.crosstab(data[\"target\"],data[\"cp\"])"
   ]
  },
  {
   "cell_type": "code",
   "execution_count": 13,
   "id": "af4218e0",
   "metadata": {},
   "outputs": [
    {
     "data": {
      "image/png": "[encoded data removed]",
      "text/plain": [
       "<Figure size 720x720 with 1 Axes>"
      ]
     },
     "metadata": {
      "needs_background": "light"
     },
     "output_type": "display_data"
    }
   ],
   "source": [
    "CT.plot(kind=\"bar\",figsize=(10,10),color=[\"Red\", \"Green\",\"Yellow\",\"blue\"])\n",
    "plt.title(\"Heart Disease Analysis\")\n",
    "plt.xlabel(\"Chest Pain(CP)\")\n",
    "plt.ylabel(\"Amount\")\n",
    "plt.legend([\"Typical angina\",\"Atypical angina\",\"Non-anginal pain\",\"Asymptomatic\"])\n",
    "plt.xticks(rotation=0);"
   ]
  },
  {
   "cell_type": "code",
   "execution_count": 14,
   "id": "1449d99c",
   "metadata": {},
   "outputs": [
    {
     "data": {
      "image/png": "[encoded data removed]",
      "text/plain": [
       "<Figure size 432x288 with 1 Axes>"
      ]
     },
     "metadata": {
      "needs_background": "light"
     },
     "output_type": "display_data"
    }
   ],
   "source": [
    "pd.crosstab(data[\"target\"],data[\"sex\"]).plot(kind=\"bar\",color=[\"Red\",\"green\"])\n",
    "plt.xlabel(\"0-No, 1-Yes\")\n",
    "plt.ylabel(\"Amount\")\n",
    "plt.title(\"Heart-Disease Analysis\");"
   ]
  },
  {
   "cell_type": "markdown",
   "id": "c2d4db03",
   "metadata": {},
   "source": [
    "### Age and Thalach for Heart Disease Analysis"
   ]
  },
  {
   "cell_type": "code",
   "execution_count": 15,
   "id": "0cb96ff0",
   "metadata": {},
   "outputs": [
    {
     "data": {
      "text/plain": [
       "<matplotlib.legend.Legend at 0x189a89ee290>"
      ]
     },
     "execution_count": 15,
     "metadata": {},
     "output_type": "execute_result"
    },
    {
     "data": {
      "image/png": "[encoded data removed]",
      "text/plain": [
       "<Figure size 432x288 with 1 Axes>"
      ]
     },
     "metadata": {
      "needs_background": "light"
     },
     "output_type": "display_data"
    }
   ],
   "source": [
    "#Scatter with positive examples\n",
    "plt.scatter(data.age[data.target==1],\n",
    "            data.thalach[data.target==1], c=\"salmon\")\n",
    "\n",
    "#Scatter with negative examples\n",
    "plt.scatter(data.age[data.target==0],\n",
    "            data.thalach[data.target==0],c=\"lightblue\")\n",
    "\n",
    "plt.legend([\"Disease\", \"No Disease\"])"
   ]
  },
  {
   "cell_type": "code",
   "execution_count": 16,
   "id": "632ea2e2",
   "metadata": {},
   "outputs": [
    {
     "data": {
      "text/plain": [
       "<AxesSubplot:ylabel='Frequency'>"
      ]
     },
     "execution_count": 16,
     "metadata": {},
     "output_type": "execute_result"
    },
    {
     "data": {
      "image/png": "[encoded data removed]",
      "text/plain": [
       "<Figure size 432x288 with 1 Axes>"
      ]
     },
     "metadata": {
      "needs_background": "light"
     },
     "output_type": "display_data"
    }
   ],
   "source": [
    "#Distribution of the age column\n",
    "data.age.plot.hist()"
   ]
  },
  {
   "cell_type": "markdown",
   "id": "15352dbd",
   "metadata": {},
   "source": [
    "### Heart Dissease Frequency Per Chest Pain Type\n",
    "* 0: Typical angina: chest pain related decrease blood supply to the heart\n",
    "* 1: Atypical angina: chest pain not related to heart\n",
    "* 2: Non-anginal pain: typically esophageal spasms (non heart related)\n",
    "* 3: Asymptomatic: chest pain not showing signs of disease"
   ]
  },
  {
   "cell_type": "code",
   "execution_count": 17,
   "id": "33e45f41",
   "metadata": {},
   "outputs": [
    {
     "data": {
      "image/png": "[encoded data removed]",
      "text/plain": [
       "<Figure size 720x720 with 1 Axes>"
      ]
     },
     "metadata": {
      "needs_background": "light"
     },
     "output_type": "display_data"
    }
   ],
   "source": [
    "pd.crosstab(data.cp, data.target).plot(kind=\"bar\",figsize=(10,10))\n",
    "plt.title(\"Heart Disease Analysis\")\n",
    "plt.xlabel(\"Chest Pain Type\")\n",
    "plt.ylabel(\"Amount\")\n",
    "plt.legend([\"No Disease\", \"Disease\"])\n",
    "plt.xticks(rotation=0);"
   ]
  },
  {
   "cell_type": "code",
   "execution_count": 18,
   "id": "98d43b52",
   "metadata": {},
   "outputs": [
    {
     "data": {
      "text/html": [
       "<div>\n",
       "<style scoped>\n",
       "    .dataframe tbody tr th:only-of-type {\n",
       "        vertical-align: middle;\n",
       "    }\n",
       "\n",
       "    .dataframe tbody tr th {\n",
       "        vertical-align: top;\n",
       "    }\n",
       "\n",
       "    .dataframe thead th {\n",
       "        text-align: right;\n",
       "    }\n",
       "</style>\n",
       "<table border=\"1\" class=\"dataframe\">\n",
       "  <thead>\n",
       "    <tr style=\"text-align: right;\">\n",
       "      <th></th>\n",
       "      <th>age</th>\n",
       "      <th>sex</th>\n",
       "      <th>cp</th>\n",
       "      <th>trestbps</th>\n",
       "      <th>chol</th>\n",
       "      <th>fbs</th>\n",
       "      <th>restecg</th>\n",
       "      <th>thalach</th>\n",
       "      <th>exang</th>\n",
       "      <th>oldpeak</th>\n",
       "      <th>slope</th>\n",
       "      <th>ca</th>\n",
       "      <th>thal</th>\n",
       "      <th>target</th>\n",
       "    </tr>\n",
       "  </thead>\n",
       "  <tbody>\n",
       "    <tr>\n",
       "      <th>age</th>\n",
       "      <td>1.000000</td>\n",
       "      <td>-0.098447</td>\n",
       "      <td>-0.068653</td>\n",
       "      <td>0.279351</td>\n",
       "      <td>0.213678</td>\n",
       "      <td>0.121308</td>\n",
       "      <td>-0.116211</td>\n",
       "      <td>-0.398522</td>\n",
       "      <td>0.096801</td>\n",
       "      <td>0.210013</td>\n",
       "      <td>-0.168814</td>\n",
       "      <td>0.276326</td>\n",
       "      <td>0.068001</td>\n",
       "      <td>-0.225439</td>\n",
       "    </tr>\n",
       "    <tr>\n",
       "      <th>sex</th>\n",
       "      <td>-0.098447</td>\n",
       "      <td>1.000000</td>\n",
       "      <td>-0.049353</td>\n",
       "      <td>-0.056769</td>\n",
       "      <td>-0.197912</td>\n",
       "      <td>0.045032</td>\n",
       "      <td>-0.058196</td>\n",
       "      <td>-0.044020</td>\n",
       "      <td>0.141664</td>\n",
       "      <td>0.096093</td>\n",
       "      <td>-0.030711</td>\n",
       "      <td>0.118261</td>\n",
       "      <td>0.210041</td>\n",
       "      <td>-0.280937</td>\n",
       "    </tr>\n",
       "    <tr>\n",
       "      <th>cp</th>\n",
       "      <td>-0.068653</td>\n",
       "      <td>-0.049353</td>\n",
       "      <td>1.000000</td>\n",
       "      <td>0.047608</td>\n",
       "      <td>-0.076904</td>\n",
       "      <td>0.094444</td>\n",
       "      <td>0.044421</td>\n",
       "      <td>0.295762</td>\n",
       "      <td>-0.394280</td>\n",
       "      <td>-0.149230</td>\n",
       "      <td>0.119717</td>\n",
       "      <td>-0.181053</td>\n",
       "      <td>-0.161736</td>\n",
       "      <td>0.433798</td>\n",
       "    </tr>\n",
       "    <tr>\n",
       "      <th>trestbps</th>\n",
       "      <td>0.279351</td>\n",
       "      <td>-0.056769</td>\n",
       "      <td>0.047608</td>\n",
       "      <td>1.000000</td>\n",
       "      <td>0.123174</td>\n",
       "      <td>0.177531</td>\n",
       "      <td>-0.114103</td>\n",
       "      <td>-0.046698</td>\n",
       "      <td>0.067616</td>\n",
       "      <td>0.193216</td>\n",
       "      <td>-0.121475</td>\n",
       "      <td>0.101389</td>\n",
       "      <td>0.062210</td>\n",
       "      <td>-0.144931</td>\n",
       "    </tr>\n",
       "    <tr>\n",
       "      <th>chol</th>\n",
       "      <td>0.213678</td>\n",
       "      <td>-0.197912</td>\n",
       "      <td>-0.076904</td>\n",
       "      <td>0.123174</td>\n",
       "      <td>1.000000</td>\n",
       "      <td>0.013294</td>\n",
       "      <td>-0.151040</td>\n",
       "      <td>-0.009940</td>\n",
       "      <td>0.067023</td>\n",
       "      <td>0.053952</td>\n",
       "      <td>-0.004038</td>\n",
       "      <td>0.070511</td>\n",
       "      <td>0.098803</td>\n",
       "      <td>-0.085239</td>\n",
       "    </tr>\n",
       "    <tr>\n",
       "      <th>fbs</th>\n",
       "      <td>0.121308</td>\n",
       "      <td>0.045032</td>\n",
       "      <td>0.094444</td>\n",
       "      <td>0.177531</td>\n",
       "      <td>0.013294</td>\n",
       "      <td>1.000000</td>\n",
       "      <td>-0.084189</td>\n",
       "      <td>-0.008567</td>\n",
       "      <td>0.025665</td>\n",
       "      <td>0.005747</td>\n",
       "      <td>-0.059894</td>\n",
       "      <td>0.137979</td>\n",
       "      <td>-0.032019</td>\n",
       "      <td>-0.028046</td>\n",
       "    </tr>\n",
       "    <tr>\n",
       "      <th>restecg</th>\n",
       "      <td>-0.116211</td>\n",
       "      <td>-0.058196</td>\n",
       "      <td>0.044421</td>\n",
       "      <td>-0.114103</td>\n",
       "      <td>-0.151040</td>\n",
       "      <td>-0.084189</td>\n",
       "      <td>1.000000</td>\n",
       "      <td>0.044123</td>\n",
       "      <td>-0.070733</td>\n",
       "      <td>-0.058770</td>\n",
       "      <td>0.093045</td>\n",
       "      <td>-0.072042</td>\n",
       "      <td>-0.011981</td>\n",
       "      <td>0.137230</td>\n",
       "    </tr>\n",
       "    <tr>\n",
       "      <th>thalach</th>\n",
       "      <td>-0.398522</td>\n",
       "      <td>-0.044020</td>\n",
       "      <td>0.295762</td>\n",
       "      <td>-0.046698</td>\n",
       "      <td>-0.009940</td>\n",
       "      <td>-0.008567</td>\n",
       "      <td>0.044123</td>\n",
       "      <td>1.000000</td>\n",
       "      <td>-0.378812</td>\n",
       "      <td>-0.344187</td>\n",
       "      <td>0.386784</td>\n",
       "      <td>-0.213177</td>\n",
       "      <td>-0.096439</td>\n",
       "      <td>0.421741</td>\n",
       "    </tr>\n",
       "    <tr>\n",
       "      <th>exang</th>\n",
       "      <td>0.096801</td>\n",
       "      <td>0.141664</td>\n",
       "      <td>-0.394280</td>\n",
       "      <td>0.067616</td>\n",
       "      <td>0.067023</td>\n",
       "      <td>0.025665</td>\n",
       "      <td>-0.070733</td>\n",
       "      <td>-0.378812</td>\n",
       "      <td>1.000000</td>\n",
       "      <td>0.288223</td>\n",
       "      <td>-0.257748</td>\n",
       "      <td>0.115739</td>\n",
       "      <td>0.206754</td>\n",
       "      <td>-0.436757</td>\n",
       "    </tr>\n",
       "    <tr>\n",
       "      <th>oldpeak</th>\n",
       "      <td>0.210013</td>\n",
       "      <td>0.096093</td>\n",
       "      <td>-0.149230</td>\n",
       "      <td>0.193216</td>\n",
       "      <td>0.053952</td>\n",
       "      <td>0.005747</td>\n",
       "      <td>-0.058770</td>\n",
       "      <td>-0.344187</td>\n",
       "      <td>0.288223</td>\n",
       "      <td>1.000000</td>\n",
       "      <td>-0.577537</td>\n",
       "      <td>0.222682</td>\n",
       "      <td>0.210244</td>\n",
       "      <td>-0.430696</td>\n",
       "    </tr>\n",
       "    <tr>\n",
       "      <th>slope</th>\n",
       "      <td>-0.168814</td>\n",
       "      <td>-0.030711</td>\n",
       "      <td>0.119717</td>\n",
       "      <td>-0.121475</td>\n",
       "      <td>-0.004038</td>\n",
       "      <td>-0.059894</td>\n",
       "      <td>0.093045</td>\n",
       "      <td>0.386784</td>\n",
       "      <td>-0.257748</td>\n",
       "      <td>-0.577537</td>\n",
       "      <td>1.000000</td>\n",
       "      <td>-0.080155</td>\n",
       "      <td>-0.104764</td>\n",
       "      <td>0.345877</td>\n",
       "    </tr>\n",
       "    <tr>\n",
       "      <th>ca</th>\n",
       "      <td>0.276326</td>\n",
       "      <td>0.118261</td>\n",
       "      <td>-0.181053</td>\n",
       "      <td>0.101389</td>\n",
       "      <td>0.070511</td>\n",
       "      <td>0.137979</td>\n",
       "      <td>-0.072042</td>\n",
       "      <td>-0.213177</td>\n",
       "      <td>0.115739</td>\n",
       "      <td>0.222682</td>\n",
       "      <td>-0.080155</td>\n",
       "      <td>1.000000</td>\n",
       "      <td>0.151832</td>\n",
       "      <td>-0.391724</td>\n",
       "    </tr>\n",
       "    <tr>\n",
       "      <th>thal</th>\n",
       "      <td>0.068001</td>\n",
       "      <td>0.210041</td>\n",
       "      <td>-0.161736</td>\n",
       "      <td>0.062210</td>\n",
       "      <td>0.098803</td>\n",
       "      <td>-0.032019</td>\n",
       "      <td>-0.011981</td>\n",
       "      <td>-0.096439</td>\n",
       "      <td>0.206754</td>\n",
       "      <td>0.210244</td>\n",
       "      <td>-0.104764</td>\n",
       "      <td>0.151832</td>\n",
       "      <td>1.000000</td>\n",
       "      <td>-0.344029</td>\n",
       "    </tr>\n",
       "    <tr>\n",
       "      <th>target</th>\n",
       "      <td>-0.225439</td>\n",
       "      <td>-0.280937</td>\n",
       "      <td>0.433798</td>\n",
       "      <td>-0.144931</td>\n",
       "      <td>-0.085239</td>\n",
       "      <td>-0.028046</td>\n",
       "      <td>0.137230</td>\n",
       "      <td>0.421741</td>\n",
       "      <td>-0.436757</td>\n",
       "      <td>-0.430696</td>\n",
       "      <td>0.345877</td>\n",
       "      <td>-0.391724</td>\n",
       "      <td>-0.344029</td>\n",
       "      <td>1.000000</td>\n",
       "    </tr>\n",
       "  </tbody>\n",
       "</table>\n",
       "</div>"
      ],
      "text/plain": [
       "               age       sex        cp  trestbps      chol       fbs  \\\n",
       "age       1.000000 -0.098447 -0.068653  0.279351  0.213678  0.121308   \n",
       "sex      -0.098447  1.000000 -0.049353 -0.056769 -0.197912  0.045032   \n",
       "cp       -0.068653 -0.049353  1.000000  0.047608 -0.076904  0.094444   \n",
       "trestbps  0.279351 -0.056769  0.047608  1.000000  0.123174  0.177531   \n",
       "chol      0.213678 -0.197912 -0.076904  0.123174  1.000000  0.013294   \n",
       "fbs       0.121308  0.045032  0.094444  0.177531  0.013294  1.000000   \n",
       "restecg  -0.116211 -0.058196  0.044421 -0.114103 -0.151040 -0.084189   \n",
       "thalach  -0.398522 -0.044020  0.295762 -0.046698 -0.009940 -0.008567   \n",
       "exang     0.096801  0.141664 -0.394280  0.067616  0.067023  0.025665   \n",
       "oldpeak   0.210013  0.096093 -0.149230  0.193216  0.053952  0.005747   \n",
       "slope    -0.168814 -0.030711  0.119717 -0.121475 -0.004038 -0.059894   \n",
       "ca        0.276326  0.118261 -0.181053  0.101389  0.070511  0.137979   \n",
       "thal      0.068001  0.210041 -0.161736  0.062210  0.098803 -0.032019   \n",
       "target   -0.225439 -0.280937  0.433798 -0.144931 -0.085239 -0.028046   \n",
       "\n",
       "           restecg   thalach     exang   oldpeak     slope        ca  \\\n",
       "age      -0.116211 -0.398522  0.096801  0.210013 -0.168814  0.276326   \n",
       "sex      -0.058196 -0.044020  0.141664  0.096093 -0.030711  0.118261   \n",
       "cp        0.044421  0.295762 -0.394280 -0.149230  0.119717 -0.181053   \n",
       "trestbps -0.114103 -0.046698  0.067616  0.193216 -0.121475  0.101389   \n",
       "chol     -0.151040 -0.009940  0.067023  0.053952 -0.004038  0.070511   \n",
       "fbs      -0.084189 -0.008567  0.025665  0.005747 -0.059894  0.137979   \n",
       "restecg   1.000000  0.044123 -0.070733 -0.058770  0.093045 -0.072042   \n",
       "thalach   0.044123  1.000000 -0.378812 -0.344187  0.386784 -0.213177   \n",
       "exang    -0.070733 -0.378812  1.000000  0.288223 -0.257748  0.115739   \n",
       "oldpeak  -0.058770 -0.344187  0.288223  1.000000 -0.577537  0.222682   \n",
       "slope     0.093045  0.386784 -0.257748 -0.577537  1.000000 -0.080155   \n",
       "ca       -0.072042 -0.213177  0.115739  0.222682 -0.080155  1.000000   \n",
       "thal     -0.011981 -0.096439  0.206754  0.210244 -0.104764  0.151832   \n",
       "target    0.137230  0.421741 -0.436757 -0.430696  0.345877 -0.391724   \n",
       "\n",
       "              thal    target  \n",
       "age       0.068001 -0.225439  \n",
       "sex       0.210041 -0.280937  \n",
       "cp       -0.161736  0.433798  \n",
       "trestbps  0.062210 -0.144931  \n",
       "chol      0.098803 -0.085239  \n",
       "fbs      -0.032019 -0.028046  \n",
       "restecg  -0.011981  0.137230  \n",
       "thalach  -0.096439  0.421741  \n",
       "exang     0.206754 -0.436757  \n",
       "oldpeak   0.210244 -0.430696  \n",
       "slope    -0.104764  0.345877  \n",
       "ca        0.151832 -0.391724  \n",
       "thal      1.000000 -0.344029  \n",
       "target   -0.344029  1.000000  "
      ]
     },
     "execution_count": 18,
     "metadata": {},
     "output_type": "execute_result"
    }
   ],
   "source": [
    "data.corr()"
   ]
  },
  {
   "cell_type": "code",
   "execution_count": 19,
   "id": "133e13d4",
   "metadata": {},
   "outputs": [
    {
     "data": {
      "image/png": "[encoded data removed]",
      "text/plain": [
       "<Figure size 1080x720 with 2 Axes>"
      ]
     },
     "metadata": {
      "needs_background": "light"
     },
     "output_type": "display_data"
    }
   ],
   "source": [
    "# Correlation matrix heatmap using seaborn\n",
    "corr_mat = data.corr()\n",
    "fig, ax = plt.subplots(figsize=(15,10))\n",
    "ax = sns.heatmap(corr_mat,\n",
    "                 annot=True,\n",
    "                 linewidths=0.5,\n",
    "                 fmt=\".2f\",\n",
    "                 cmap=\"YlGnBu\"\n",
    "                );"
   ]
  },
  {
   "cell_type": "markdown",
   "id": "89802075",
   "metadata": {},
   "source": [
    "### 5. Modeling"
   ]
  },
  {
   "cell_type": "code",
   "execution_count": 20,
   "id": "a764e441",
   "metadata": {},
   "outputs": [],
   "source": [
    "# Split the data into X and Y\n",
    "\n",
    "X = data.drop(\"target\", axis=1)\n",
    "Y = data[\"target\"]"
   ]
  },
  {
   "cell_type": "code",
   "execution_count": 21,
   "id": "4f3d79a3",
   "metadata": {},
   "outputs": [
    {
     "data": {
      "text/plain": [
       "(242, 61, 242, 61)"
      ]
     },
     "execution_count": 21,
     "metadata": {},
     "output_type": "execute_result"
    }
   ],
   "source": [
    "#Split the data into train and test set\n",
    "np.random.seed(42)\n",
    "X_train, X_test, Y_train, Y_test = train_test_split(X,Y,test_size=0.2)\n",
    "len(X_train), len(X_test), len(Y_train), len(Y_test)"
   ]
  },
  {
   "cell_type": "code",
   "execution_count": 22,
   "id": "a3ea87df",
   "metadata": {},
   "outputs": [],
   "source": [
    "def fit_and_score(models, X_train, X_test, Y_train, Y_test):\n",
    "    model_scores = {}\n",
    "    for name,value in models.items():\n",
    "        model = value\n",
    "        model.fit(X_train,Y_train)\n",
    "        model_scores[name] = model.score(X_test,Y_test)\n",
    "    return model_scores"
   ]
  },
  {
   "cell_type": "code",
   "execution_count": 23,
   "id": "102af530",
   "metadata": {},
   "outputs": [
    {
     "name": "stderr",
     "output_type": "stream",
     "text": [
      "C:\\users\\kartik\\miniconda_projects\\env\\lib\\site-packages\\sklearn\\linear_model\\_logistic.py:444: ConvergenceWarning: lbfgs failed to converge (status=1):\n",
      "STOP: TOTAL NO. of ITERATIONS REACHED LIMIT.\n",
      "\n",
      "Increase the number of iterations (max_iter) or scale the data as shown in:\n",
      "    https://scikit-learn.org/stable/modules/preprocessing.html\n",
      "Please also refer to the documentation for alternative solver options:\n",
      "    https://scikit-learn.org/stable/modules/linear_model.html#logistic-regression\n",
      "  n_iter_i = _check_optimize_result(\n"
     ]
    }
   ],
   "source": [
    "models =  {\"LogisticReg\" : LogisticRegression(),\n",
    "          \"KNN\" : KNeighborsClassifier(),\n",
    "          \"RandomForest\" : RandomForestClassifier()}\n",
    "model_scores = fit_and_score(models, X_train, X_test, Y_train, Y_test)"
   ]
  },
  {
   "cell_type": "code",
   "execution_count": 24,
   "id": "53da6ee6",
   "metadata": {},
   "outputs": [
    {
     "data": {
      "text/plain": [
       "{'LogisticReg': 0.8852459016393442,\n",
       " 'KNN': 0.6885245901639344,\n",
       " 'RandomForest': 0.8524590163934426}"
      ]
     },
     "execution_count": 24,
     "metadata": {},
     "output_type": "execute_result"
    }
   ],
   "source": [
    "model_scores"
   ]
  },
  {
   "cell_type": "code",
   "execution_count": 25,
   "id": "39c0a169",
   "metadata": {},
   "outputs": [
    {
     "data": {
      "image/png": "[encoded data removed]",
      "text/plain": [
       "<Figure size 720x720 with 1 Axes>"
      ]
     },
     "metadata": {
      "needs_background": "light"
     },
     "output_type": "display_data"
    }
   ],
   "source": [
    "pd.DataFrame(model_scores, index = [\"Accuracy\"]).T.plot(kind=\"bar\", figsize=(10,10));"
   ]
  },
  {
   "cell_type": "markdown",
   "id": "4b606909",
   "metadata": {},
   "source": [
    "#### IMPORTANT\n",
    "* Hyperparameter Tuning    \n",
    "* Feature Importance\n",
    "#### Specifically for Classification\n",
    "\n",
    "* Confusion Matrix\n",
    "* Cross-Validation\n",
    "* Precision\n",
    "* Recall\n",
    "* F1 Score\n",
    "* Classification Report\n",
    "* ROC Curve\n",
    "* Area under the Curve(AUC)"
   ]
  },
  {
   "cell_type": "markdown",
   "id": "5a1cd12b",
   "metadata": {},
   "source": [
    "### HyperParameter Tuning(By Hand)"
   ]
  },
  {
   "cell_type": "code",
   "execution_count": 26,
   "id": "c927297c",
   "metadata": {},
   "outputs": [],
   "source": [
    "#List For Scores\n",
    "np.random.seed(42)\n",
    "trained_data = []\n",
    "tested_data = []\n",
    "\n",
    "#A range for neighbors\n",
    "neighbors = range(1,21)\n",
    "\n",
    "#Model Training with hyperparams\n",
    "model = KNeighborsClassifier()\n",
    "\n",
    "for i in neighbors:\n",
    "    \n",
    "    model.set_params(n_neighbors = i)\n",
    "    \n",
    "    #Training a model\n",
    "    model.fit(X_train, Y_train)\n",
    "    \n",
    "    #Updating Trained_data list\n",
    "    trained_data.append(model.score(X_train,Y_train))\n",
    "    \n",
    "    #Updating Tested_data list\n",
    "    tested_data.append(model.score(X_test, Y_test))\n",
    "    \n"
   ]
  },
  {
   "cell_type": "code",
   "execution_count": 27,
   "id": "386af232",
   "metadata": {},
   "outputs": [
    {
     "data": {
      "text/plain": [
       "[1.0,\n",
       " 0.8099173553719008,\n",
       " 0.7727272727272727,\n",
       " 0.743801652892562,\n",
       " 0.7603305785123967,\n",
       " 0.7520661157024794,\n",
       " 0.743801652892562,\n",
       " 0.7231404958677686,\n",
       " 0.71900826446281,\n",
       " 0.6942148760330579,\n",
       " 0.7272727272727273,\n",
       " 0.6983471074380165,\n",
       " 0.6900826446280992,\n",
       " 0.6942148760330579,\n",
       " 0.6859504132231405,\n",
       " 0.6735537190082644,\n",
       " 0.6859504132231405,\n",
       " 0.6652892561983471,\n",
       " 0.6818181818181818,\n",
       " 0.6694214876033058]"
      ]
     },
     "execution_count": 27,
     "metadata": {},
     "output_type": "execute_result"
    }
   ],
   "source": [
    "trained_data"
   ]
  },
  {
   "cell_type": "code",
   "execution_count": 28,
   "id": "9449e24a",
   "metadata": {},
   "outputs": [
    {
     "data": {
      "text/plain": [
       "[0.6229508196721312,\n",
       " 0.639344262295082,\n",
       " 0.6557377049180327,\n",
       " 0.6721311475409836,\n",
       " 0.6885245901639344,\n",
       " 0.7213114754098361,\n",
       " 0.7049180327868853,\n",
       " 0.6885245901639344,\n",
       " 0.6885245901639344,\n",
       " 0.7049180327868853,\n",
       " 0.7540983606557377,\n",
       " 0.7377049180327869,\n",
       " 0.7377049180327869,\n",
       " 0.7377049180327869,\n",
       " 0.6885245901639344,\n",
       " 0.7213114754098361,\n",
       " 0.6885245901639344,\n",
       " 0.6885245901639344,\n",
       " 0.7049180327868853,\n",
       " 0.6557377049180327]"
      ]
     },
     "execution_count": 28,
     "metadata": {},
     "output_type": "execute_result"
    }
   ],
   "source": [
    "tested_data"
   ]
  },
  {
   "cell_type": "code",
   "execution_count": 29,
   "id": "4b01a41e",
   "metadata": {},
   "outputs": [
    {
     "name": "stdout",
     "output_type": "stream",
     "text": [
      "Maximum Accuracy In test DataSet : 75.41%\n"
     ]
    },
    {
     "data": {
      "image/png": "[encoded data removed]",
      "text/plain": [
       "<Figure size 432x288 with 1 Axes>"
      ]
     },
     "metadata": {
      "needs_background": "light"
     },
     "output_type": "display_data"
    }
   ],
   "source": [
    "plt.plot(neighbors, trained_data, label=\"Trained Score\")\n",
    "plt.plot(neighbors, tested_data, label=\"Tested Score\")\n",
    "plt.xlabel(\"Number Of Neighbors\")\n",
    "plt.ylabel(\"Accuraccy\")\n",
    "plt.xticks(np.arange(1,21));\n",
    "# plt.yticks(np.arange(0,1,0.3));\n",
    "\n",
    "print(f\"Maximum Accuracy In test DataSet : {max(tested_data)*100:.2f}%\")"
   ]
  },
  {
   "cell_type": "markdown",
   "id": "b3c20581",
   "metadata": {},
   "source": [
    "### Hyperparameter Tuning by RandomizedSearchCV\n",
    "\n",
    "* LogisticRegression()\n",
    "* RandomForestClassifier()"
   ]
  },
  {
   "cell_type": "code",
   "execution_count": 30,
   "id": "a24949b0",
   "metadata": {},
   "outputs": [],
   "source": [
    "lr_grid = {\"C\" : np.logspace(-4, 4, 20),\n",
    "           \"solver\" : [\"liblinear\"]}\n",
    "\n",
    "rf_grid = {\"n_estimators\" : np.arange(10, 1000, 50),\n",
    "           \"max_depth\" : [None, 3, 5, 10],\n",
    "           \"min_samples_split\" : np.arange(2,20,2),\n",
    "           \"min_samples_leaf\" : np.arange(1,20,2)}"
   ]
  },
  {
   "cell_type": "code",
   "execution_count": 31,
   "id": "94ff3bb3",
   "metadata": {},
   "outputs": [
    {
     "name": "stdout",
     "output_type": "stream",
     "text": [
      "Fitting 5 folds for each of 20 candidates, totalling 100 fits\n"
     ]
    }
   ],
   "source": [
    "model = LogisticRegression()\n",
    "\n",
    "np.random.seed(42)\n",
    "\n",
    "#setup RandomSearchCv for hyperparameters of LogisticRegression\n",
    "rs_log_reg = RandomizedSearchCV(LogisticRegression(),\n",
    "                                param_distributions=lr_grid,\n",
    "                                n_iter = 20,\n",
    "                                verbose=2,\n",
    "                                n_jobs=2,\n",
    "                                cv=5)\n",
    "\n",
    "#Fit random Hyperparameter search model for LogisticRegression\n",
    "rs_log_reg.fit(X_train, Y_train);"
   ]
  },
  {
   "cell_type": "code",
   "execution_count": 32,
   "id": "b345f22c",
   "metadata": {},
   "outputs": [
    {
     "data": {
      "text/plain": [
       "{'solver': 'liblinear', 'C': 0.23357214690901212}"
      ]
     },
     "execution_count": 32,
     "metadata": {},
     "output_type": "execute_result"
    }
   ],
   "source": [
    "rs_log_reg.best_params_"
   ]
  },
  {
   "cell_type": "code",
   "execution_count": 33,
   "id": "69590e70",
   "metadata": {},
   "outputs": [
    {
     "data": {
      "text/plain": [
       "0.8852459016393442"
      ]
     },
     "execution_count": 33,
     "metadata": {},
     "output_type": "execute_result"
    }
   ],
   "source": [
    "rs_log_reg.score(X_test,Y_test)"
   ]
  },
  {
   "cell_type": "code",
   "execution_count": 34,
   "id": "04632e87",
   "metadata": {},
   "outputs": [
    {
     "name": "stdout",
     "output_type": "stream",
     "text": [
      "Fitting 5 folds for each of 50 candidates, totalling 250 fits\n"
     ]
    },
    {
     "data": {
      "text/html": [
       "<style>#sk-container-id-1 {color: black;background-color: white;}#sk-container-id-1 pre{padding: 0;}#sk-container-id-1 div.sk-toggleable {background-color: white;}#sk-container-id-1 label.sk-toggleable__label {cursor: pointer;display: block;width: 100%;margin-bottom: 0;padding: 0.3em;box-sizing: border-box;text-align: center;}#sk-container-id-1 label.sk-toggleable__label-arrow:before {content: \"▸\";float: left;margin-right: 0.25em;color: #696969;}#sk-container-id-1 label.sk-toggleable__label-arrow:hover:before {color: black;}#sk-container-id-1 div.sk-estimator:hover label.sk-toggleable__label-arrow:before {color: black;}#sk-container-id-1 div.sk-toggleable__content {max-height: 0;max-width: 0;overflow: hidden;text-align: left;background-color: #f0f8ff;}#sk-container-id-1 div.sk-toggleable__content pre {margin: 0.2em;color: black;border-radius: 0.25em;background-color: #f0f8ff;}#sk-container-id-1 input.sk-toggleable__control:checked~div.sk-toggleable__content {max-height: 200px;max-width: 100%;overflow: auto;}#sk-container-id-1 input.sk-toggleable__control:checked~label.sk-toggleable__label-arrow:before {content: \"▾\";}#sk-container-id-1 div.sk-estimator input.sk-toggleable__control:checked~label.sk-toggleable__label {background-color: #d4ebff;}#sk-container-id-1 div.sk-label input.sk-toggleable__control:checked~label.sk-toggleable__label {background-color: #d4ebff;}#sk-container-id-1 input.sk-hidden--visually {border: 0;clip: rect(1px 1px 1px 1px);clip: rect(1px, 1px, 1px, 1px);height: 1px;margin: -1px;overflow: hidden;padding: 0;position: absolute;width: 1px;}#sk-container-id-1 div.sk-estimator {font-family: monospace;background-color: #f0f8ff;border: 1px dotted black;border-radius: 0.25em;box-sizing: border-box;margin-bottom: 0.5em;}#sk-container-id-1 div.sk-estimator:hover {background-color: #d4ebff;}#sk-container-id-1 div.sk-parallel-item::after {content: \"\";width: 100%;border-bottom: 1px solid gray;flex-grow: 1;}#sk-container-id-1 div.sk-label:hover label.sk-toggleable__label {background-color: #d4ebff;}#sk-container-id-1 div.sk-serial::before {content: \"\";position: absolute;border-left: 1px solid gray;box-sizing: border-box;top: 0;bottom: 0;left: 50%;z-index: 0;}#sk-container-id-1 div.sk-serial {display: flex;flex-direction: column;align-items: center;background-color: white;padding-right: 0.2em;padding-left: 0.2em;position: relative;}#sk-container-id-1 div.sk-item {position: relative;z-index: 1;}#sk-container-id-1 div.sk-parallel {display: flex;align-items: stretch;justify-content: center;background-color: white;position: relative;}#sk-container-id-1 div.sk-item::before, #sk-container-id-1 div.sk-parallel-item::before {content: \"\";position: absolute;border-left: 1px solid gray;box-sizing: border-box;top: 0;bottom: 0;left: 50%;z-index: -1;}#sk-container-id-1 div.sk-parallel-item {display: flex;flex-direction: column;z-index: 1;position: relative;background-color: white;}#sk-container-id-1 div.sk-parallel-item:first-child::after {align-self: flex-end;width: 50%;}#sk-container-id-1 div.sk-parallel-item:last-child::after {align-self: flex-start;width: 50%;}#sk-container-id-1 div.sk-parallel-item:only-child::after {width: 0;}#sk-container-id-1 div.sk-dashed-wrapped {border: 1px dashed gray;margin: 0 0.4em 0.5em 0.4em;box-sizing: border-box;padding-bottom: 0.4em;background-color: white;}#sk-container-id-1 div.sk-label label {font-family: monospace;font-weight: bold;display: inline-block;line-height: 1.2em;}#sk-container-id-1 div.sk-label-container {text-align: center;}#sk-container-id-1 div.sk-container {/* jupyter's `normalize.less` sets `[hidden] { display: none; }` but bootstrap.min.css set `[hidden] { display: none !important; }` so we also need the `!important` here to be able to override the default hidden behavior on the sphinx rendered scikit-learn.org. See: https://github.com/scikit-learn/scikit-learn/issues/21755 */display: inline-block !important;position: relative;}#sk-container-id-1 div.sk-text-repr-fallback {display: none;}</style><div id=\"sk-container-id-1\" class=\"sk-top-container\"><div class=\"sk-text-repr-fallback\"><pre>RandomizedSearchCV(cv=5, estimator=RandomForestClassifier(), n_iter=50,\n",
       "                   n_jobs=2,\n",
       "                   param_distributions={&#x27;max_depth&#x27;: [None, 3, 5, 10],\n",
       "                                        &#x27;min_samples_leaf&#x27;: array([ 1,  3,  5,  7,  9, 11, 13, 15, 17, 19]),\n",
       "                                        &#x27;min_samples_split&#x27;: array([ 2,  4,  6,  8, 10, 12, 14, 16, 18]),\n",
       "                                        &#x27;n_estimators&#x27;: array([ 10,  60, 110, 160, 210, 260, 310, 360, 410, 460, 510, 560, 610,\n",
       "       660, 710, 760, 810, 860, 910, 960])},\n",
       "                   verbose=2)</pre><b>In a Jupyter environment, please rerun this cell to show the HTML representation or trust the notebook. <br />On GitHub, the HTML representation is unable to render, please try loading this page with nbviewer.org.</b></div><div class=\"sk-container\" hidden><div class=\"sk-item sk-dashed-wrapped\"><div class=\"sk-label-container\"><div class=\"sk-label sk-toggleable\"><input class=\"sk-toggleable__control sk-hidden--visually\" id=\"sk-estimator-id-1\" type=\"checkbox\" ><label for=\"sk-estimator-id-1\" class=\"sk-toggleable__label sk-toggleable__label-arrow\">RandomizedSearchCV</label><div class=\"sk-toggleable__content\"><pre>RandomizedSearchCV(cv=5, estimator=RandomForestClassifier(), n_iter=50,\n",
       "                   n_jobs=2,\n",
       "                   param_distributions={&#x27;max_depth&#x27;: [None, 3, 5, 10],\n",
       "                                        &#x27;min_samples_leaf&#x27;: array([ 1,  3,  5,  7,  9, 11, 13, 15, 17, 19]),\n",
       "                                        &#x27;min_samples_split&#x27;: array([ 2,  4,  6,  8, 10, 12, 14, 16, 18]),\n",
       "                                        &#x27;n_estimators&#x27;: array([ 10,  60, 110, 160, 210, 260, 310, 360, 410, 460, 510, 560, 610,\n",
       "       660, 710, 760, 810, 860, 910, 960])},\n",
       "                   verbose=2)</pre></div></div></div><div class=\"sk-parallel\"><div class=\"sk-parallel-item\"><div class=\"sk-item\"><div class=\"sk-label-container\"><div class=\"sk-label sk-toggleable\"><input class=\"sk-toggleable__control sk-hidden--visually\" id=\"sk-estimator-id-2\" type=\"checkbox\" ><label for=\"sk-estimator-id-2\" class=\"sk-toggleable__label sk-toggleable__label-arrow\">estimator: RandomForestClassifier</label><div class=\"sk-toggleable__content\"><pre>RandomForestClassifier()</pre></div></div></div><div class=\"sk-serial\"><div class=\"sk-item\"><div class=\"sk-estimator sk-toggleable\"><input class=\"sk-toggleable__control sk-hidden--visually\" id=\"sk-estimator-id-3\" type=\"checkbox\" ><label for=\"sk-estimator-id-3\" class=\"sk-toggleable__label sk-toggleable__label-arrow\">RandomForestClassifier</label><div class=\"sk-toggleable__content\"><pre>RandomForestClassifier()</pre></div></div></div></div></div></div></div></div></div></div>"
      ],
      "text/plain": [
       "RandomizedSearchCV(cv=5, estimator=RandomForestClassifier(), n_iter=50,\n",
       "                   n_jobs=2,\n",
       "                   param_distributions={'max_depth': [None, 3, 5, 10],\n",
       "                                        'min_samples_leaf': array([ 1,  3,  5,  7,  9, 11, 13, 15, 17, 19]),\n",
       "                                        'min_samples_split': array([ 2,  4,  6,  8, 10, 12, 14, 16, 18]),\n",
       "                                        'n_estimators': array([ 10,  60, 110, 160, 210, 260, 310, 360, 410, 460, 510, 560, 610,\n",
       "       660, 710, 760, 810, 860, 910, 960])},\n",
       "                   verbose=2)"
      ]
     },
     "execution_count": 34,
     "metadata": {},
     "output_type": "execute_result"
    }
   ],
   "source": [
    "clf = RandomForestClassifier()\n",
    "\n",
    "rs_clf = RandomizedSearchCV(RandomForestClassifier(),\n",
    "                            param_distributions = rf_grid,\n",
    "                            cv=5,\n",
    "                            verbose = 2,\n",
    "                            n_iter = 50,\n",
    "                            n_jobs = 2)\n",
    "rs_clf.fit(X_train, Y_train)"
   ]
  },
  {
   "cell_type": "code",
   "execution_count": 35,
   "id": "8171920a",
   "metadata": {},
   "outputs": [
    {
     "data": {
      "text/plain": [
       "0.859504132231405"
      ]
     },
     "execution_count": 35,
     "metadata": {},
     "output_type": "execute_result"
    }
   ],
   "source": [
    "rs_clf.score(X_train,Y_train) "
   ]
  },
  {
   "cell_type": "code",
   "execution_count": null,
   "id": "9f5765f5",
   "metadata": {},
   "outputs": [],
   "source": [
    "\n"
   ]
  },
  {
   "cell_type": "code",
   "execution_count": 36,
   "id": "5ea78081",
   "metadata": {},
   "outputs": [
    {
     "name": "stdout",
     "output_type": "stream",
     "text": [
      "Fitting 5 folds for each of 30 candidates, totalling 150 fits\n"
     ]
    },
    {
     "data": {
      "text/html": [
       "<style>#sk-container-id-2 {color: black;background-color: white;}#sk-container-id-2 pre{padding: 0;}#sk-container-id-2 div.sk-toggleable {background-color: white;}#sk-container-id-2 label.sk-toggleable__label {cursor: pointer;display: block;width: 100%;margin-bottom: 0;padding: 0.3em;box-sizing: border-box;text-align: center;}#sk-container-id-2 label.sk-toggleable__label-arrow:before {content: \"▸\";float: left;margin-right: 0.25em;color: #696969;}#sk-container-id-2 label.sk-toggleable__label-arrow:hover:before {color: black;}#sk-container-id-2 div.sk-estimator:hover label.sk-toggleable__label-arrow:before {color: black;}#sk-container-id-2 div.sk-toggleable__content {max-height: 0;max-width: 0;overflow: hidden;text-align: left;background-color: #f0f8ff;}#sk-container-id-2 div.sk-toggleable__content pre {margin: 0.2em;color: black;border-radius: 0.25em;background-color: #f0f8ff;}#sk-container-id-2 input.sk-toggleable__control:checked~div.sk-toggleable__content {max-height: 200px;max-width: 100%;overflow: auto;}#sk-container-id-2 input.sk-toggleable__control:checked~label.sk-toggleable__label-arrow:before {content: \"▾\";}#sk-container-id-2 div.sk-estimator input.sk-toggleable__control:checked~label.sk-toggleable__label {background-color: #d4ebff;}#sk-container-id-2 div.sk-label input.sk-toggleable__control:checked~label.sk-toggleable__label {background-color: #d4ebff;}#sk-container-id-2 input.sk-hidden--visually {border: 0;clip: rect(1px 1px 1px 1px);clip: rect(1px, 1px, 1px, 1px);height: 1px;margin: -1px;overflow: hidden;padding: 0;position: absolute;width: 1px;}#sk-container-id-2 div.sk-estimator {font-family: monospace;background-color: #f0f8ff;border: 1px dotted black;border-radius: 0.25em;box-sizing: border-box;margin-bottom: 0.5em;}#sk-container-id-2 div.sk-estimator:hover {background-color: #d4ebff;}#sk-container-id-2 div.sk-parallel-item::after {content: \"\";width: 100%;border-bottom: 1px solid gray;flex-grow: 1;}#sk-container-id-2 div.sk-label:hover label.sk-toggleable__label {background-color: #d4ebff;}#sk-container-id-2 div.sk-serial::before {content: \"\";position: absolute;border-left: 1px solid gray;box-sizing: border-box;top: 0;bottom: 0;left: 50%;z-index: 0;}#sk-container-id-2 div.sk-serial {display: flex;flex-direction: column;align-items: center;background-color: white;padding-right: 0.2em;padding-left: 0.2em;position: relative;}#sk-container-id-2 div.sk-item {position: relative;z-index: 1;}#sk-container-id-2 div.sk-parallel {display: flex;align-items: stretch;justify-content: center;background-color: white;position: relative;}#sk-container-id-2 div.sk-item::before, #sk-container-id-2 div.sk-parallel-item::before {content: \"\";position: absolute;border-left: 1px solid gray;box-sizing: border-box;top: 0;bottom: 0;left: 50%;z-index: -1;}#sk-container-id-2 div.sk-parallel-item {display: flex;flex-direction: column;z-index: 1;position: relative;background-color: white;}#sk-container-id-2 div.sk-parallel-item:first-child::after {align-self: flex-end;width: 50%;}#sk-container-id-2 div.sk-parallel-item:last-child::after {align-self: flex-start;width: 50%;}#sk-container-id-2 div.sk-parallel-item:only-child::after {width: 0;}#sk-container-id-2 div.sk-dashed-wrapped {border: 1px dashed gray;margin: 0 0.4em 0.5em 0.4em;box-sizing: border-box;padding-bottom: 0.4em;background-color: white;}#sk-container-id-2 div.sk-label label {font-family: monospace;font-weight: bold;display: inline-block;line-height: 1.2em;}#sk-container-id-2 div.sk-label-container {text-align: center;}#sk-container-id-2 div.sk-container {/* jupyter's `normalize.less` sets `[hidden] { display: none; }` but bootstrap.min.css set `[hidden] { display: none !important; }` so we also need the `!important` here to be able to override the default hidden behavior on the sphinx rendered scikit-learn.org. See: https://github.com/scikit-learn/scikit-learn/issues/21755 */display: inline-block !important;position: relative;}#sk-container-id-2 div.sk-text-repr-fallback {display: none;}</style><div id=\"sk-container-id-2\" class=\"sk-top-container\"><div class=\"sk-text-repr-fallback\"><pre>GridSearchCV(cv=5, estimator=LogisticRegression(),\n",
       "             param_grid={&#x27;C&#x27;: array([1.00000000e-04, 1.88739182e-04, 3.56224789e-04, 6.72335754e-04,\n",
       "       1.26896100e-03, 2.39502662e-03, 4.52035366e-03, 8.53167852e-03,\n",
       "       1.61026203e-02, 3.03919538e-02, 5.73615251e-02, 1.08263673e-01,\n",
       "       2.04335972e-01, 3.85662042e-01, 7.27895384e-01, 1.37382380e+00,\n",
       "       2.59294380e+00, 4.89390092e+00, 9.23670857e+00, 1.74332882e+01,\n",
       "       3.29034456e+01, 6.21016942e+01, 1.17210230e+02, 2.21221629e+02,\n",
       "       4.17531894e+02, 7.88046282e+02, 1.48735211e+03, 2.80721620e+03,\n",
       "       5.29831691e+03, 1.00000000e+04]),\n",
       "                         &#x27;solver&#x27;: [&#x27;liblinear&#x27;]},\n",
       "             verbose=True)</pre><b>In a Jupyter environment, please rerun this cell to show the HTML representation or trust the notebook. <br />On GitHub, the HTML representation is unable to render, please try loading this page with nbviewer.org.</b></div><div class=\"sk-container\" hidden><div class=\"sk-item sk-dashed-wrapped\"><div class=\"sk-label-container\"><div class=\"sk-label sk-toggleable\"><input class=\"sk-toggleable__control sk-hidden--visually\" id=\"sk-estimator-id-4\" type=\"checkbox\" ><label for=\"sk-estimator-id-4\" class=\"sk-toggleable__label sk-toggleable__label-arrow\">GridSearchCV</label><div class=\"sk-toggleable__content\"><pre>GridSearchCV(cv=5, estimator=LogisticRegression(),\n",
       "             param_grid={&#x27;C&#x27;: array([1.00000000e-04, 1.88739182e-04, 3.56224789e-04, 6.72335754e-04,\n",
       "       1.26896100e-03, 2.39502662e-03, 4.52035366e-03, 8.53167852e-03,\n",
       "       1.61026203e-02, 3.03919538e-02, 5.73615251e-02, 1.08263673e-01,\n",
       "       2.04335972e-01, 3.85662042e-01, 7.27895384e-01, 1.37382380e+00,\n",
       "       2.59294380e+00, 4.89390092e+00, 9.23670857e+00, 1.74332882e+01,\n",
       "       3.29034456e+01, 6.21016942e+01, 1.17210230e+02, 2.21221629e+02,\n",
       "       4.17531894e+02, 7.88046282e+02, 1.48735211e+03, 2.80721620e+03,\n",
       "       5.29831691e+03, 1.00000000e+04]),\n",
       "                         &#x27;solver&#x27;: [&#x27;liblinear&#x27;]},\n",
       "             verbose=True)</pre></div></div></div><div class=\"sk-parallel\"><div class=\"sk-parallel-item\"><div class=\"sk-item\"><div class=\"sk-label-container\"><div class=\"sk-label sk-toggleable\"><input class=\"sk-toggleable__control sk-hidden--visually\" id=\"sk-estimator-id-5\" type=\"checkbox\" ><label for=\"sk-estimator-id-5\" class=\"sk-toggleable__label sk-toggleable__label-arrow\">estimator: LogisticRegression</label><div class=\"sk-toggleable__content\"><pre>LogisticRegression()</pre></div></div></div><div class=\"sk-serial\"><div class=\"sk-item\"><div class=\"sk-estimator sk-toggleable\"><input class=\"sk-toggleable__control sk-hidden--visually\" id=\"sk-estimator-id-6\" type=\"checkbox\" ><label for=\"sk-estimator-id-6\" class=\"sk-toggleable__label sk-toggleable__label-arrow\">LogisticRegression</label><div class=\"sk-toggleable__content\"><pre>LogisticRegression()</pre></div></div></div></div></div></div></div></div></div></div>"
      ],
      "text/plain": [
       "GridSearchCV(cv=5, estimator=LogisticRegression(),\n",
       "             param_grid={'C': array([1.00000000e-04, 1.88739182e-04, 3.56224789e-04, 6.72335754e-04,\n",
       "       1.26896100e-03, 2.39502662e-03, 4.52035366e-03, 8.53167852e-03,\n",
       "       1.61026203e-02, 3.03919538e-02, 5.73615251e-02, 1.08263673e-01,\n",
       "       2.04335972e-01, 3.85662042e-01, 7.27895384e-01, 1.37382380e+00,\n",
       "       2.59294380e+00, 4.89390092e+00, 9.23670857e+00, 1.74332882e+01,\n",
       "       3.29034456e+01, 6.21016942e+01, 1.17210230e+02, 2.21221629e+02,\n",
       "       4.17531894e+02, 7.88046282e+02, 1.48735211e+03, 2.80721620e+03,\n",
       "       5.29831691e+03, 1.00000000e+04]),\n",
       "                         'solver': ['liblinear']},\n",
       "             verbose=True)"
      ]
     },
     "execution_count": 36,
     "metadata": {},
     "output_type": "execute_result"
    }
   ],
   "source": [
    "log_reg_grid = {\"C\" : np.logspace(-4,4,30),\n",
    "                \"solver\" : [\"liblinear\"]}\n",
    "    \n",
    "gs_cv = GridSearchCV(model,\n",
    "                     param_grid=log_reg_grid,\n",
    "                     verbose=True,\n",
    "                     cv=5)\n",
    "gs_cv.fit(X_train,Y_train)"
   ]
  },
  {
   "cell_type": "code",
   "execution_count": 37,
   "id": "bca685f0",
   "metadata": {},
   "outputs": [
    {
     "data": {
      "text/plain": [
       "{'C': 0.20433597178569418, 'solver': 'liblinear'}"
      ]
     },
     "execution_count": 37,
     "metadata": {},
     "output_type": "execute_result"
    }
   ],
   "source": [
    "gs_cv.best_params_"
   ]
  },
  {
   "cell_type": "code",
   "execution_count": 38,
   "id": "46efd512",
   "metadata": {},
   "outputs": [
    {
     "data": {
      "text/plain": [
       "0.8852459016393442"
      ]
     },
     "execution_count": 38,
     "metadata": {},
     "output_type": "execute_result"
    }
   ],
   "source": [
    "gs_cv.score(X_test,Y_test)"
   ]
  },
  {
   "cell_type": "markdown",
   "id": "c794dcbf",
   "metadata": {},
   "source": [
    "### Evaluating Our tuned model learning classifier beyond accuracy\n",
    "\n",
    "* ROC curve & AUC Score\n",
    "* Confusion Matrix\n",
    "* Classification Report\n",
    "* Precision\n",
    "* Recall\n",
    "* F1 - Score\n",
    "\n",
    "... Use CV as most as possible"
   ]
  },
  {
   "cell_type": "markdown",
   "id": "e22e02b6",
   "metadata": {},
   "source": [
    "### Area under the receiever operating characteristic curve(ROC)\n",
    "\n",
    "* Area under Curve\n",
    "* Roc Curve\n",
    "\n",
    "<img src = \"PN_rates.png\">\n",
    "\n",
    "#### Roc curves ar a a comparison of a model's true positive rate(TPR) vs model's false positive rate(FPR)\n",
    "\n",
    "* True Positive = model predicts 1 when truth is 1\n",
    "* False Positive = model predicts 1 when truth is 0\n",
    "\n",
    "* True Negative = model predicts 0 when truth is 0\n",
    "* False Negative = model predicts 0 when truth is 1"
   ]
  },
  {
   "cell_type": "code",
   "execution_count": 39,
   "id": "55d01ece",
   "metadata": {},
   "outputs": [
    {
     "name": "stderr",
     "output_type": "stream",
     "text": [
      "C:\\users\\kartik\\miniconda_projects\\env\\lib\\site-packages\\sklearn\\utils\\deprecation.py:87: FutureWarning: Function plot_roc_curve is deprecated; Function :func:`plot_roc_curve` is deprecated in 1.0 and will be removed in 1.2. Use one of the class methods: :meth:`sklearn.metric.RocCurveDisplay.from_predictions` or :meth:`sklearn.metric.RocCurveDisplay.from_estimator`.\n",
      "  warnings.warn(msg, category=FutureWarning)\n"
     ]
    },
    {
     "data": {
      "image/png": "[encoded data removed]",
      "text/plain": [
       "<Figure size 432x288 with 1 Axes>"
      ]
     },
     "metadata": {
      "needs_background": "light"
     },
     "output_type": "display_data"
    }
   ],
   "source": [
    "plot_roc_curve(gs_cv, X_test, Y_test);"
   ]
  },
  {
   "cell_type": "code",
   "execution_count": 40,
   "id": "99be8845",
   "metadata": {},
   "outputs": [
    {
     "name": "stdout",
     "output_type": "stream",
     "text": [
      "[[25  4]\n",
      " [ 3 29]]\n"
     ]
    }
   ],
   "source": [
    "Y_preds = gs_cv.predict(X_test)\n",
    "print(confusion_matrix(Y_test, Y_preds))"
   ]
  },
  {
   "cell_type": "code",
   "execution_count": 41,
   "id": "9d880090",
   "metadata": {},
   "outputs": [
    {
     "data": {
      "image/png": "[encoded data removed]",
      "text/plain": [
       "<Figure size 216x216 with 1 Axes>"
      ]
     },
     "metadata": {},
     "output_type": "display_data"
    }
   ],
   "source": [
    "sns.set(font_scale=1.5)\n",
    "def plot_conf_mat(y_test, y_preds):\n",
    "    \n",
    "    fig, ax = plt.subplots(figsize=(3,3))\n",
    "    ax = sns.heatmap(confusion_matrix(y_test, y_preds),\n",
    "                     annot = True,\n",
    "                     cbar = False)\n",
    "    plt.ylabel(\"True Label\")\n",
    "    plt.xlabel(\"Predicted Label\")\n",
    "    \n",
    "#     bottom, top = ax.get_ylim()\n",
    "#     ax.set_ylim(bottom + 0.5, top - 0.5)\n",
    "\n",
    "plot_conf_mat(Y_test, Y_preds)"
   ]
  },
  {
   "cell_type": "markdown",
   "id": "c04009a0",
   "metadata": {},
   "source": [
    "&rarr; Classification report with Cross - Validation"
   ]
  },
  {
   "cell_type": "code",
   "execution_count": 42,
   "id": "e170f170",
   "metadata": {},
   "outputs": [
    {
     "name": "stdout",
     "output_type": "stream",
     "text": [
      "              precision    recall  f1-score   support\n",
      "\n",
      "           0       0.89      0.86      0.88        29\n",
      "           1       0.88      0.91      0.89        32\n",
      "\n",
      "    accuracy                           0.89        61\n",
      "   macro avg       0.89      0.88      0.88        61\n",
      "weighted avg       0.89      0.89      0.89        61\n",
      "\n"
     ]
    }
   ],
   "source": [
    "print(classification_report(Y_test,Y_preds))"
   ]
  },
  {
   "cell_type": "markdown",
   "id": "4c1df842",
   "metadata": {},
   "source": [
    "## Calculate evaluation metrics using cross-validation"
   ]
  },
  {
   "cell_type": "code",
   "execution_count": 43,
   "id": "a66fe8f9",
   "metadata": {},
   "outputs": [
    {
     "data": {
      "text/plain": [
       "{'C': 0.20433597178569418, 'solver': 'liblinear'}"
      ]
     },
     "execution_count": 43,
     "metadata": {},
     "output_type": "execute_result"
    }
   ],
   "source": [
    "gs_cv.best_params_"
   ]
  },
  {
   "cell_type": "code",
   "execution_count": 44,
   "id": "47589bf5",
   "metadata": {},
   "outputs": [
    {
     "data": {
      "text/plain": [
       "array([0.81967213, 0.90163934, 0.86885246, 0.88333333, 0.75      ])"
      ]
     },
     "execution_count": 44,
     "metadata": {},
     "output_type": "execute_result"
    }
   ],
   "source": [
    "#Calculating Accuracy\n",
    "\n",
    "model = LogisticRegression(C=0.20433597178569418,\n",
    "                           solver='liblinear')\n",
    "cv_acc = cross_val_score(model,\n",
    "                        X,\n",
    "                        Y,\n",
    "                        cv=5,\n",
    "                        scoring=\"accuracy\");\n",
    "\n",
    "cv_acc"
   ]
  },
  {
   "cell_type": "code",
   "execution_count": 45,
   "id": "fa3bca6c",
   "metadata": {},
   "outputs": [
    {
     "data": {
      "text/plain": [
       "0.8446994535519124"
      ]
     },
     "execution_count": 45,
     "metadata": {},
     "output_type": "execute_result"
    }
   ],
   "source": [
    "cv_acc = np.mean(cv_acc)\n",
    "cv_acc"
   ]
  },
  {
   "cell_type": "code",
   "execution_count": 46,
   "id": "4eb683d7",
   "metadata": {},
   "outputs": [
    {
     "data": {
      "text/plain": [
       "array([0.775     , 0.88571429, 0.85714286, 0.86111111, 0.725     ])"
      ]
     },
     "execution_count": 46,
     "metadata": {},
     "output_type": "execute_result"
    }
   ],
   "source": [
    "#Calculating Precision\n",
    "\n",
    "\n",
    "cv_pre = cross_val_score(model,\n",
    "                        X,\n",
    "                        Y,\n",
    "                        cv=5,\n",
    "                        scoring=\"precision\");\n",
    "\n",
    "cv_pre"
   ]
  },
  {
   "cell_type": "code",
   "execution_count": 47,
   "id": "06e8a719",
   "metadata": {},
   "outputs": [
    {
     "data": {
      "text/plain": [
       "0.8207936507936507"
      ]
     },
     "execution_count": 47,
     "metadata": {},
     "output_type": "execute_result"
    }
   ],
   "source": [
    "cv_pre = np.mean(cv_pre)\n",
    "cv_pre"
   ]
  },
  {
   "cell_type": "code",
   "execution_count": 48,
   "id": "a3d90843",
   "metadata": {},
   "outputs": [
    {
     "data": {
      "text/plain": [
       "array([0.93939394, 0.93939394, 0.90909091, 0.93939394, 0.87878788])"
      ]
     },
     "execution_count": 48,
     "metadata": {},
     "output_type": "execute_result"
    }
   ],
   "source": [
    "#Calculating recall\n",
    "\n",
    "\n",
    "cv_recall = cross_val_score(model,\n",
    "                        X,\n",
    "                        Y,\n",
    "                        cv=5,\n",
    "                        scoring=\"recall\");\n",
    "\n",
    "cv_recall"
   ]
  },
  {
   "cell_type": "code",
   "execution_count": 49,
   "id": "4fcf95dc",
   "metadata": {},
   "outputs": [
    {
     "data": {
      "text/plain": [
       "0.9212121212121213"
      ]
     },
     "execution_count": 49,
     "metadata": {},
     "output_type": "execute_result"
    }
   ],
   "source": [
    "cv_recall = np.mean(cv_recall)\n",
    "cv_recall"
   ]
  },
  {
   "cell_type": "code",
   "execution_count": 50,
   "id": "9e7ec9c9",
   "metadata": {},
   "outputs": [
    {
     "data": {
      "text/plain": [
       "array([0.84931507, 0.91176471, 0.88235294, 0.89855072, 0.79452055])"
      ]
     },
     "execution_count": 50,
     "metadata": {},
     "output_type": "execute_result"
    }
   ],
   "source": [
    "#Calculating F1\n",
    "\n",
    "\n",
    "cv_F1 = cross_val_score(model,\n",
    "                        X,\n",
    "                        Y,\n",
    "                        cv=5,\n",
    "                        scoring=\"f1\");\n",
    "\n",
    "cv_F1"
   ]
  },
  {
   "cell_type": "code",
   "execution_count": 51,
   "id": "8a6b6be0",
   "metadata": {},
   "outputs": [
    {
     "data": {
      "text/plain": [
       "0.8673007976269721"
      ]
     },
     "execution_count": 51,
     "metadata": {},
     "output_type": "execute_result"
    }
   ],
   "source": [
    "cv_F1 = np.mean(cv_F1)\n",
    "cv_F1"
   ]
  },
  {
   "cell_type": "code",
   "execution_count": 52,
   "id": "c6ae5485",
   "metadata": {},
   "outputs": [],
   "source": [
    "all_scores = pd.DataFrame({\"Accuracy\" : cv_acc,\n",
    "             \"Precision\" : cv_pre,\n",
    "             \"Recall\" : cv_recall,\n",
    "             \"F1\" : cv_F1},\n",
    "              index = [0])\n"
   ]
  },
  {
   "cell_type": "code",
   "execution_count": 53,
   "id": "22f5f319",
   "metadata": {},
   "outputs": [
    {
     "data": {
      "text/plain": [
       "<AxesSubplot:title={'center':'Evaluation metrics using cross-validation'}>"
      ]
     },
     "execution_count": 53,
     "metadata": {},
     "output_type": "execute_result"
    },
    {
     "data": {
      "image/png": "[encoded data removed]",
      "text/plain": [
       "<Figure size 432x288 with 1 Axes>"
      ]
     },
     "metadata": {},
     "output_type": "display_data"
    }
   ],
   "source": [
    "all_scores.T.plot.bar(title = \"Evaluation metrics using cross-validation\",\n",
    "                     legend = False)"
   ]
  },
  {
   "cell_type": "markdown",
   "id": "d57d5bd6",
   "metadata": {},
   "source": [
    "### Feature Importance\n",
    "\n",
    "* Feature Importance is the feature which contributes the most in a model's outcome and how they contribute?\n",
    "\n",
    "* Feature Importance is different for every model\n",
    "\n",
    "* One way to find Feature Importance of a model is to search \"(model_name) Feature Importance\"\n",
    "\n",
    "* Here we are finding Feature Importance of Logistic Regression...\n"
   ]
  },
  {
   "cell_type": "code",
   "execution_count": 54,
   "id": "2200c2ac",
   "metadata": {},
   "outputs": [
    {
     "data": {
      "text/plain": [
       "{'C': 0.20433597178569418, 'solver': 'liblinear'}"
      ]
     },
     "execution_count": 54,
     "metadata": {},
     "output_type": "execute_result"
    }
   ],
   "source": [
    "gs_cv.best_params_"
   ]
  },
  {
   "cell_type": "code",
   "execution_count": 55,
   "id": "ba786fe3",
   "metadata": {},
   "outputs": [
    {
     "data": {
      "text/html": [
       "<style>#sk-container-id-3 {color: black;background-color: white;}#sk-container-id-3 pre{padding: 0;}#sk-container-id-3 div.sk-toggleable {background-color: white;}#sk-container-id-3 label.sk-toggleable__label {cursor: pointer;display: block;width: 100%;margin-bottom: 0;padding: 0.3em;box-sizing: border-box;text-align: center;}#sk-container-id-3 label.sk-toggleable__label-arrow:before {content: \"▸\";float: left;margin-right: 0.25em;color: #696969;}#sk-container-id-3 label.sk-toggleable__label-arrow:hover:before {color: black;}#sk-container-id-3 div.sk-estimator:hover label.sk-toggleable__label-arrow:before {color: black;}#sk-container-id-3 div.sk-toggleable__content {max-height: 0;max-width: 0;overflow: hidden;text-align: left;background-color: #f0f8ff;}#sk-container-id-3 div.sk-toggleable__content pre {margin: 0.2em;color: black;border-radius: 0.25em;background-color: #f0f8ff;}#sk-container-id-3 input.sk-toggleable__control:checked~div.sk-toggleable__content {max-height: 200px;max-width: 100%;overflow: auto;}#sk-container-id-3 input.sk-toggleable__control:checked~label.sk-toggleable__label-arrow:before {content: \"▾\";}#sk-container-id-3 div.sk-estimator input.sk-toggleable__control:checked~label.sk-toggleable__label {background-color: #d4ebff;}#sk-container-id-3 div.sk-label input.sk-toggleable__control:checked~label.sk-toggleable__label {background-color: #d4ebff;}#sk-container-id-3 input.sk-hidden--visually {border: 0;clip: rect(1px 1px 1px 1px);clip: rect(1px, 1px, 1px, 1px);height: 1px;margin: -1px;overflow: hidden;padding: 0;position: absolute;width: 1px;}#sk-container-id-3 div.sk-estimator {font-family: monospace;background-color: #f0f8ff;border: 1px dotted black;border-radius: 0.25em;box-sizing: border-box;margin-bottom: 0.5em;}#sk-container-id-3 div.sk-estimator:hover {background-color: #d4ebff;}#sk-container-id-3 div.sk-parallel-item::after {content: \"\";width: 100%;border-bottom: 1px solid gray;flex-grow: 1;}#sk-container-id-3 div.sk-label:hover label.sk-toggleable__label {background-color: #d4ebff;}#sk-container-id-3 div.sk-serial::before {content: \"\";position: absolute;border-left: 1px solid gray;box-sizing: border-box;top: 0;bottom: 0;left: 50%;z-index: 0;}#sk-container-id-3 div.sk-serial {display: flex;flex-direction: column;align-items: center;background-color: white;padding-right: 0.2em;padding-left: 0.2em;position: relative;}#sk-container-id-3 div.sk-item {position: relative;z-index: 1;}#sk-container-id-3 div.sk-parallel {display: flex;align-items: stretch;justify-content: center;background-color: white;position: relative;}#sk-container-id-3 div.sk-item::before, #sk-container-id-3 div.sk-parallel-item::before {content: \"\";position: absolute;border-left: 1px solid gray;box-sizing: border-box;top: 0;bottom: 0;left: 50%;z-index: -1;}#sk-container-id-3 div.sk-parallel-item {display: flex;flex-direction: column;z-index: 1;position: relative;background-color: white;}#sk-container-id-3 div.sk-parallel-item:first-child::after {align-self: flex-end;width: 50%;}#sk-container-id-3 div.sk-parallel-item:last-child::after {align-self: flex-start;width: 50%;}#sk-container-id-3 div.sk-parallel-item:only-child::after {width: 0;}#sk-container-id-3 div.sk-dashed-wrapped {border: 1px dashed gray;margin: 0 0.4em 0.5em 0.4em;box-sizing: border-box;padding-bottom: 0.4em;background-color: white;}#sk-container-id-3 div.sk-label label {font-family: monospace;font-weight: bold;display: inline-block;line-height: 1.2em;}#sk-container-id-3 div.sk-label-container {text-align: center;}#sk-container-id-3 div.sk-container {/* jupyter's `normalize.less` sets `[hidden] { display: none; }` but bootstrap.min.css set `[hidden] { display: none !important; }` so we also need the `!important` here to be able to override the default hidden behavior on the sphinx rendered scikit-learn.org. See: https://github.com/scikit-learn/scikit-learn/issues/21755 */display: inline-block !important;position: relative;}#sk-container-id-3 div.sk-text-repr-fallback {display: none;}</style><div id=\"sk-container-id-3\" class=\"sk-top-container\"><div class=\"sk-text-repr-fallback\"><pre>LogisticRegression(C=0.20433597178569418, solver=&#x27;liblinear&#x27;)</pre><b>In a Jupyter environment, please rerun this cell to show the HTML representation or trust the notebook. <br />On GitHub, the HTML representation is unable to render, please try loading this page with nbviewer.org.</b></div><div class=\"sk-container\" hidden><div class=\"sk-item\"><div class=\"sk-estimator sk-toggleable\"><input class=\"sk-toggleable__control sk-hidden--visually\" id=\"sk-estimator-id-7\" type=\"checkbox\" checked><label for=\"sk-estimator-id-7\" class=\"sk-toggleable__label sk-toggleable__label-arrow\">LogisticRegression</label><div class=\"sk-toggleable__content\"><pre>LogisticRegression(C=0.20433597178569418, solver=&#x27;liblinear&#x27;)</pre></div></div></div></div></div>"
      ],
      "text/plain": [
       "LogisticRegression(C=0.20433597178569418, solver='liblinear')"
      ]
     },
     "execution_count": 55,
     "metadata": {},
     "output_type": "execute_result"
    }
   ],
   "source": [
    "clf = LogisticRegression(C= 0.20433597178569418, solver= 'liblinear')\n",
    "clf.fit(X_train,Y_train)"
   ]
  },
  {
   "cell_type": "code",
   "execution_count": 56,
   "id": "f1b11361",
   "metadata": {},
   "outputs": [
    {
     "data": {
      "text/plain": [
       "array([[ 0.00316728, -0.86044651,  0.66067041, -0.01156993, -0.00166374,\n",
       "         0.04386107,  0.31275847,  0.02459361, -0.6041308 , -0.56862804,\n",
       "         0.45051628, -0.63609897, -0.67663373]])"
      ]
     },
     "execution_count": 56,
     "metadata": {},
     "output_type": "execute_result"
    }
   ],
   "source": [
    "clf.coef_"
   ]
  },
  {
   "cell_type": "code",
   "execution_count": 57,
   "id": "b9ec438c",
   "metadata": {},
   "outputs": [
    {
     "data": {
      "text/plain": [
       "{'age': 0.0031672801993431563,\n",
       " 'sex': -0.8604465072345515,\n",
       " 'cp': 0.6606704082033799,\n",
       " 'trestbps': -0.01156993168080875,\n",
       " 'chol': -0.001663744504776871,\n",
       " 'fbs': 0.043861071652469864,\n",
       " 'restecg': 0.31275846822418324,\n",
       " 'thalach': 0.024593613737779126,\n",
       " 'exang': -0.6041308000615746,\n",
       " 'oldpeak': -0.5686280368396555,\n",
       " 'slope': 0.4505162797258308,\n",
       " 'ca': -0.6360989676086223,\n",
       " 'thal': -0.6766337263029825}"
      ]
     },
     "execution_count": 57,
     "metadata": {},
     "output_type": "execute_result"
    }
   ],
   "source": [
    "relations = dict(zip(data.columns,list(clf.coef_[0])))\n",
    "relations"
   ]
  },
  {
   "cell_type": "code",
   "execution_count": 58,
   "id": "747804f7",
   "metadata": {},
   "outputs": [
    {
     "data": {
      "text/plain": [
       "<AxesSubplot:title={'center':'Feature Importance Visulations'}>"
      ]
     },
     "execution_count": 58,
     "metadata": {},
     "output_type": "execute_result"
    },
    {
     "data": {
      "image/png": "[encoded data removed]",
      "text/plain": [
       "<Figure size 432x288 with 1 Axes>"
      ]
     },
     "metadata": {},
     "output_type": "display_data"
    }
   ],
   "source": [
    "# visualize Feature Importance\n",
    "\n",
    "relations = pd.DataFrame(relations, index=[0])\n",
    "relations.T.plot.bar(title = \"Feature Importance Visulations\", legend=False)"
   ]
  },
  {
   "cell_type": "code",
   "execution_count": 59,
   "id": "317472c9",
   "metadata": {},
   "outputs": [
    {
     "data": {
      "text/html": [
       "<div>\n",
       "<style scoped>\n",
       "    .dataframe tbody tr th:only-of-type {\n",
       "        vertical-align: middle;\n",
       "    }\n",
       "\n",
       "    .dataframe tbody tr th {\n",
       "        vertical-align: top;\n",
       "    }\n",
       "\n",
       "    .dataframe thead th {\n",
       "        text-align: right;\n",
       "    }\n",
       "</style>\n",
       "<table border=\"1\" class=\"dataframe\">\n",
       "  <thead>\n",
       "    <tr style=\"text-align: right;\">\n",
       "      <th>target</th>\n",
       "      <th>0</th>\n",
       "      <th>1</th>\n",
       "    </tr>\n",
       "    <tr>\n",
       "      <th>sex</th>\n",
       "      <th></th>\n",
       "      <th></th>\n",
       "    </tr>\n",
       "  </thead>\n",
       "  <tbody>\n",
       "    <tr>\n",
       "      <th>0</th>\n",
       "      <td>24</td>\n",
       "      <td>72</td>\n",
       "    </tr>\n",
       "    <tr>\n",
       "      <th>1</th>\n",
       "      <td>114</td>\n",
       "      <td>93</td>\n",
       "    </tr>\n",
       "  </tbody>\n",
       "</table>\n",
       "</div>"
      ],
      "text/plain": [
       "target    0   1\n",
       "sex            \n",
       "0        24  72\n",
       "1       114  93"
      ]
     },
     "execution_count": 59,
     "metadata": {},
     "output_type": "execute_result"
    }
   ],
   "source": [
    "pd.crosstab(data[\"sex\"],data[\"target\"])"
   ]
  },
  {
   "cell_type": "code",
   "execution_count": 60,
   "id": "582acfa7",
   "metadata": {},
   "outputs": [
    {
     "data": {
      "text/html": [
       "<div>\n",
       "<style scoped>\n",
       "    .dataframe tbody tr th:only-of-type {\n",
       "        vertical-align: middle;\n",
       "    }\n",
       "\n",
       "    .dataframe tbody tr th {\n",
       "        vertical-align: top;\n",
       "    }\n",
       "\n",
       "    .dataframe thead th {\n",
       "        text-align: right;\n",
       "    }\n",
       "</style>\n",
       "<table border=\"1\" class=\"dataframe\">\n",
       "  <thead>\n",
       "    <tr style=\"text-align: right;\">\n",
       "      <th>target</th>\n",
       "      <th>0</th>\n",
       "      <th>1</th>\n",
       "    </tr>\n",
       "    <tr>\n",
       "      <th>slope</th>\n",
       "      <th></th>\n",
       "      <th></th>\n",
       "    </tr>\n",
       "  </thead>\n",
       "  <tbody>\n",
       "    <tr>\n",
       "      <th>0</th>\n",
       "      <td>12</td>\n",
       "      <td>9</td>\n",
       "    </tr>\n",
       "    <tr>\n",
       "      <th>1</th>\n",
       "      <td>91</td>\n",
       "      <td>49</td>\n",
       "    </tr>\n",
       "    <tr>\n",
       "      <th>2</th>\n",
       "      <td>35</td>\n",
       "      <td>107</td>\n",
       "    </tr>\n",
       "  </tbody>\n",
       "</table>\n",
       "</div>"
      ],
      "text/plain": [
       "target   0    1\n",
       "slope          \n",
       "0       12    9\n",
       "1       91   49\n",
       "2       35  107"
      ]
     },
     "execution_count": 60,
     "metadata": {},
     "output_type": "execute_result"
    }
   ],
   "source": [
    "# slope - the slope of the peak exercise ST segment\n",
    "# 0: Upsloping: better heart rate with excercise (uncommon)\n",
    "# 1: Flatsloping: minimal change (typical healthy heart)\n",
    "# 2: Downslopins: signs of unhealthy heart\n",
    "pd.crosstab(data[\"slope\"],data[\"target\"])"
   ]
  },
  {
   "cell_type": "markdown",
   "id": "e4d99d58",
   "metadata": {},
   "source": [
    "## 6. Experimentation\n",
    "\n",
    "If u havent hit enough with ur eval metrics yet... then..\n",
    "\n",
    "* Could u collect more data ?\n",
    "* Try a better model like xgboost and catboost?\n",
    "* could u improve current model\n",
    "* Is your model is good enough(you have hit ur eval metrics)\n"
   ]
  },
  {
   "cell_type": "code",
   "execution_count": 61,
   "id": "2b474307",
   "metadata": {},
   "outputs": [
    {
     "name": "stdout",
     "output_type": "stream",
     "text": [
      "Learning rate set to 0.005621\n",
      "0:\tlearn: 0.6884219\ttotal: 196ms\tremaining: 3m 16s\n",
      "1:\tlearn: 0.6846994\ttotal: 198ms\tremaining: 1m 38s\n",
      "2:\tlearn: 0.6804470\ttotal: 199ms\tremaining: 1m 6s\n",
      "3:\tlearn: 0.6762242\ttotal: 201ms\tremaining: 50s\n",
      "4:\tlearn: 0.6716784\ttotal: 202ms\tremaining: 40.3s\n",
      "5:\tlearn: 0.6672808\ttotal: 204ms\tremaining: 33.8s\n",
      "6:\tlearn: 0.6639958\ttotal: 205ms\tremaining: 29.1s\n",
      "7:\tlearn: 0.6601980\ttotal: 207ms\tremaining: 25.6s\n",
      "8:\tlearn: 0.6563766\ttotal: 208ms\tremaining: 23s\n",
      "9:\tlearn: 0.6525103\ttotal: 210ms\tremaining: 20.8s\n",
      "10:\tlearn: 0.6483670\ttotal: 211ms\tremaining: 19s\n",
      "11:\tlearn: 0.6448827\ttotal: 213ms\tremaining: 17.5s\n",
      "12:\tlearn: 0.6412767\ttotal: 214ms\tremaining: 16.3s\n",
      "13:\tlearn: 0.6374286\ttotal: 215ms\tremaining: 15.2s\n",
      "14:\tlearn: 0.6335427\ttotal: 217ms\tremaining: 14.2s\n",
      "15:\tlearn: 0.6288052\ttotal: 218ms\tremaining: 13.4s\n",
      "16:\tlearn: 0.6250489\ttotal: 220ms\tremaining: 12.7s\n",
      "17:\tlearn: 0.6209495\ttotal: 221ms\tremaining: 12.1s\n",
      "18:\tlearn: 0.6181899\ttotal: 223ms\tremaining: 11.5s\n",
      "19:\tlearn: 0.6146362\ttotal: 224ms\tremaining: 11s\n",
      "20:\tlearn: 0.6112041\ttotal: 225ms\tremaining: 10.5s\n",
      "21:\tlearn: 0.6082182\ttotal: 227ms\tremaining: 10.1s\n",
      "22:\tlearn: 0.6041938\ttotal: 228ms\tremaining: 9.68s\n",
      "23:\tlearn: 0.6012245\ttotal: 230ms\tremaining: 9.33s\n",
      "24:\tlearn: 0.5971808\ttotal: 231ms\tremaining: 9.01s\n",
      "25:\tlearn: 0.5939190\ttotal: 232ms\tremaining: 8.71s\n",
      "26:\tlearn: 0.5906135\ttotal: 234ms\tremaining: 8.43s\n",
      "27:\tlearn: 0.5867869\ttotal: 236ms\tremaining: 8.18s\n",
      "28:\tlearn: 0.5834052\ttotal: 237ms\tremaining: 7.93s\n",
      "29:\tlearn: 0.5797824\ttotal: 238ms\tremaining: 7.71s\n",
      "30:\tlearn: 0.5776782\ttotal: 240ms\tremaining: 7.5s\n",
      "31:\tlearn: 0.5752082\ttotal: 241ms\tremaining: 7.3s\n",
      "32:\tlearn: 0.5724439\ttotal: 243ms\tremaining: 7.11s\n",
      "33:\tlearn: 0.5707612\ttotal: 244ms\tremaining: 6.93s\n",
      "34:\tlearn: 0.5674214\ttotal: 246ms\tremaining: 6.77s\n",
      "35:\tlearn: 0.5642510\ttotal: 247ms\tremaining: 6.61s\n",
      "36:\tlearn: 0.5621999\ttotal: 249ms\tremaining: 6.47s\n",
      "37:\tlearn: 0.5606167\ttotal: 250ms\tremaining: 6.32s\n",
      "38:\tlearn: 0.5581487\ttotal: 251ms\tremaining: 6.19s\n",
      "39:\tlearn: 0.5555236\ttotal: 253ms\tremaining: 6.07s\n",
      "40:\tlearn: 0.5527430\ttotal: 255ms\tremaining: 5.95s\n",
      "41:\tlearn: 0.5511562\ttotal: 256ms\tremaining: 5.84s\n",
      "42:\tlearn: 0.5483097\ttotal: 257ms\tremaining: 5.73s\n",
      "43:\tlearn: 0.5453413\ttotal: 259ms\tremaining: 5.62s\n",
      "44:\tlearn: 0.5425074\ttotal: 261ms\tremaining: 5.53s\n",
      "45:\tlearn: 0.5395103\ttotal: 262ms\tremaining: 5.43s\n",
      "46:\tlearn: 0.5370888\ttotal: 264ms\tremaining: 5.35s\n",
      "47:\tlearn: 0.5350939\ttotal: 265ms\tremaining: 5.26s\n",
      "48:\tlearn: 0.5324621\ttotal: 267ms\tremaining: 5.17s\n",
      "49:\tlearn: 0.5300657\ttotal: 268ms\tremaining: 5.09s\n",
      "50:\tlearn: 0.5274698\ttotal: 270ms\tremaining: 5.01s\n",
      "51:\tlearn: 0.5256377\ttotal: 271ms\tremaining: 4.94s\n",
      "52:\tlearn: 0.5226939\ttotal: 273ms\tremaining: 4.87s\n",
      "53:\tlearn: 0.5202590\ttotal: 274ms\tremaining: 4.8s\n",
      "54:\tlearn: 0.5175060\ttotal: 276ms\tremaining: 4.74s\n",
      "55:\tlearn: 0.5150969\ttotal: 277ms\tremaining: 4.67s\n",
      "56:\tlearn: 0.5130761\ttotal: 279ms\tremaining: 4.62s\n",
      "57:\tlearn: 0.5106011\ttotal: 281ms\tremaining: 4.56s\n",
      "58:\tlearn: 0.5083897\ttotal: 282ms\tremaining: 4.5s\n",
      "59:\tlearn: 0.5064678\ttotal: 284ms\tremaining: 4.44s\n",
      "60:\tlearn: 0.5038611\ttotal: 285ms\tremaining: 4.39s\n",
      "61:\tlearn: 0.5018347\ttotal: 286ms\tremaining: 4.33s\n",
      "62:\tlearn: 0.4991950\ttotal: 288ms\tremaining: 4.28s\n",
      "63:\tlearn: 0.4967576\ttotal: 289ms\tremaining: 4.23s\n",
      "64:\tlearn: 0.4944839\ttotal: 291ms\tremaining: 4.18s\n",
      "65:\tlearn: 0.4919298\ttotal: 292ms\tremaining: 4.14s\n",
      "66:\tlearn: 0.4897220\ttotal: 294ms\tremaining: 4.09s\n",
      "67:\tlearn: 0.4874680\ttotal: 295ms\tremaining: 4.05s\n",
      "68:\tlearn: 0.4856960\ttotal: 296ms\tremaining: 4s\n",
      "69:\tlearn: 0.4833879\ttotal: 298ms\tremaining: 3.96s\n",
      "70:\tlearn: 0.4817161\ttotal: 299ms\tremaining: 3.91s\n",
      "71:\tlearn: 0.4797199\ttotal: 300ms\tremaining: 3.87s\n",
      "72:\tlearn: 0.4783723\ttotal: 302ms\tremaining: 3.83s\n",
      "73:\tlearn: 0.4767995\ttotal: 303ms\tremaining: 3.79s\n",
      "74:\tlearn: 0.4746551\ttotal: 305ms\tremaining: 3.76s\n",
      "75:\tlearn: 0.4730415\ttotal: 306ms\tremaining: 3.72s\n",
      "76:\tlearn: 0.4707586\ttotal: 308ms\tremaining: 3.69s\n",
      "77:\tlearn: 0.4690712\ttotal: 309ms\tremaining: 3.65s\n",
      "78:\tlearn: 0.4666029\ttotal: 311ms\tremaining: 3.62s\n",
      "79:\tlearn: 0.4646342\ttotal: 312ms\tremaining: 3.59s\n",
      "80:\tlearn: 0.4625428\ttotal: 314ms\tremaining: 3.56s\n",
      "81:\tlearn: 0.4606289\ttotal: 315ms\tremaining: 3.53s\n",
      "82:\tlearn: 0.4587033\ttotal: 317ms\tremaining: 3.5s\n",
      "83:\tlearn: 0.4576719\ttotal: 318ms\tremaining: 3.46s\n",
      "84:\tlearn: 0.4564185\ttotal: 319ms\tremaining: 3.44s\n",
      "85:\tlearn: 0.4547319\ttotal: 321ms\tremaining: 3.41s\n",
      "86:\tlearn: 0.4528074\ttotal: 322ms\tremaining: 3.38s\n",
      "87:\tlearn: 0.4517429\ttotal: 323ms\tremaining: 3.35s\n",
      "88:\tlearn: 0.4502672\ttotal: 325ms\tremaining: 3.32s\n",
      "89:\tlearn: 0.4486611\ttotal: 326ms\tremaining: 3.3s\n",
      "90:\tlearn: 0.4472516\ttotal: 327ms\tremaining: 3.27s\n",
      "91:\tlearn: 0.4454880\ttotal: 329ms\tremaining: 3.24s\n",
      "92:\tlearn: 0.4438721\ttotal: 330ms\tremaining: 3.22s\n",
      "93:\tlearn: 0.4431041\ttotal: 331ms\tremaining: 3.19s\n",
      "94:\tlearn: 0.4413443\ttotal: 332ms\tremaining: 3.17s\n",
      "95:\tlearn: 0.4395736\ttotal: 334ms\tremaining: 3.14s\n",
      "96:\tlearn: 0.4378321\ttotal: 335ms\tremaining: 3.12s\n",
      "97:\tlearn: 0.4358835\ttotal: 336ms\tremaining: 3.1s\n",
      "98:\tlearn: 0.4342623\ttotal: 338ms\tremaining: 3.07s\n",
      "99:\tlearn: 0.4331924\ttotal: 339ms\tremaining: 3.05s\n",
      "100:\tlearn: 0.4314598\ttotal: 340ms\tremaining: 3.03s\n",
      "101:\tlearn: 0.4307201\ttotal: 341ms\tremaining: 3s\n",
      "102:\tlearn: 0.4292806\ttotal: 343ms\tremaining: 2.98s\n",
      "103:\tlearn: 0.4278744\ttotal: 344ms\tremaining: 2.96s\n",
      "104:\tlearn: 0.4265553\ttotal: 345ms\tremaining: 2.94s\n",
      "105:\tlearn: 0.4250854\ttotal: 347ms\tremaining: 2.92s\n",
      "106:\tlearn: 0.4239722\ttotal: 348ms\tremaining: 2.9s\n",
      "107:\tlearn: 0.4222499\ttotal: 349ms\tremaining: 2.89s\n",
      "108:\tlearn: 0.4211466\ttotal: 351ms\tremaining: 2.87s\n",
      "109:\tlearn: 0.4202052\ttotal: 352ms\tremaining: 2.85s\n",
      "110:\tlearn: 0.4198398\ttotal: 353ms\tremaining: 2.83s\n",
      "111:\tlearn: 0.4179643\ttotal: 355ms\tremaining: 2.81s\n",
      "112:\tlearn: 0.4159749\ttotal: 356ms\tremaining: 2.8s\n",
      "113:\tlearn: 0.4142229\ttotal: 358ms\tremaining: 2.78s\n",
      "114:\tlearn: 0.4123983\ttotal: 359ms\tremaining: 2.77s\n",
      "115:\tlearn: 0.4109712\ttotal: 361ms\tremaining: 2.75s\n",
      "116:\tlearn: 0.4095154\ttotal: 363ms\tremaining: 2.74s\n",
      "117:\tlearn: 0.4084045\ttotal: 364ms\tremaining: 2.72s\n",
      "118:\tlearn: 0.4070735\ttotal: 366ms\tremaining: 2.71s\n",
      "119:\tlearn: 0.4057138\ttotal: 368ms\tremaining: 2.69s\n",
      "120:\tlearn: 0.4042736\ttotal: 369ms\tremaining: 2.68s\n",
      "121:\tlearn: 0.4025832\ttotal: 371ms\tremaining: 2.67s\n",
      "122:\tlearn: 0.4014188\ttotal: 373ms\tremaining: 2.66s\n",
      "123:\tlearn: 0.3998699\ttotal: 374ms\tremaining: 2.64s\n",
      "124:\tlearn: 0.3986860\ttotal: 376ms\tremaining: 2.63s\n",
      "125:\tlearn: 0.3983882\ttotal: 377ms\tremaining: 2.61s\n",
      "126:\tlearn: 0.3973890\ttotal: 378ms\tremaining: 2.6s\n",
      "127:\tlearn: 0.3964258\ttotal: 380ms\tremaining: 2.59s\n",
      "128:\tlearn: 0.3952852\ttotal: 381ms\tremaining: 2.57s\n",
      "129:\tlearn: 0.3934945\ttotal: 383ms\tremaining: 2.56s\n",
      "130:\tlearn: 0.3919449\ttotal: 384ms\tremaining: 2.55s\n",
      "131:\tlearn: 0.3903188\ttotal: 386ms\tremaining: 2.54s\n",
      "132:\tlearn: 0.3890457\ttotal: 387ms\tremaining: 2.52s\n",
      "133:\tlearn: 0.3881590\ttotal: 389ms\tremaining: 2.51s\n",
      "134:\tlearn: 0.3873008\ttotal: 390ms\tremaining: 2.5s\n",
      "135:\tlearn: 0.3861825\ttotal: 392ms\tremaining: 2.49s\n",
      "136:\tlearn: 0.3849519\ttotal: 393ms\tremaining: 2.48s\n",
      "137:\tlearn: 0.3838707\ttotal: 395ms\tremaining: 2.47s\n",
      "138:\tlearn: 0.3829818\ttotal: 396ms\tremaining: 2.46s\n",
      "139:\tlearn: 0.3817104\ttotal: 398ms\tremaining: 2.44s\n",
      "140:\tlearn: 0.3802652\ttotal: 399ms\tremaining: 2.43s\n",
      "141:\tlearn: 0.3789940\ttotal: 401ms\tremaining: 2.42s\n",
      "142:\tlearn: 0.3779138\ttotal: 402ms\tremaining: 2.41s\n",
      "143:\tlearn: 0.3762468\ttotal: 404ms\tremaining: 2.4s\n",
      "144:\tlearn: 0.3750480\ttotal: 405ms\tremaining: 2.39s\n",
      "145:\tlearn: 0.3739932\ttotal: 407ms\tremaining: 2.38s\n",
      "146:\tlearn: 0.3730230\ttotal: 408ms\tremaining: 2.37s\n",
      "147:\tlearn: 0.3719307\ttotal: 410ms\tremaining: 2.36s\n",
      "148:\tlearn: 0.3706839\ttotal: 411ms\tremaining: 2.35s\n",
      "149:\tlearn: 0.3700590\ttotal: 412ms\tremaining: 2.33s\n",
      "150:\tlearn: 0.3690719\ttotal: 413ms\tremaining: 2.32s\n",
      "151:\tlearn: 0.3677278\ttotal: 415ms\tremaining: 2.31s\n",
      "152:\tlearn: 0.3668142\ttotal: 416ms\tremaining: 2.3s\n",
      "153:\tlearn: 0.3658328\ttotal: 418ms\tremaining: 2.29s\n",
      "154:\tlearn: 0.3647510\ttotal: 419ms\tremaining: 2.29s\n",
      "155:\tlearn: 0.3638268\ttotal: 421ms\tremaining: 2.27s\n",
      "156:\tlearn: 0.3629022\ttotal: 422ms\tremaining: 2.27s\n",
      "157:\tlearn: 0.3615538\ttotal: 424ms\tremaining: 2.26s\n",
      "158:\tlearn: 0.3601676\ttotal: 425ms\tremaining: 2.25s\n",
      "159:\tlearn: 0.3590459\ttotal: 427ms\tremaining: 2.24s\n",
      "160:\tlearn: 0.3580772\ttotal: 428ms\tremaining: 2.23s\n",
      "161:\tlearn: 0.3569114\ttotal: 429ms\tremaining: 2.22s\n",
      "162:\tlearn: 0.3561146\ttotal: 431ms\tremaining: 2.21s\n",
      "163:\tlearn: 0.3550432\ttotal: 433ms\tremaining: 2.21s\n",
      "164:\tlearn: 0.3539570\ttotal: 434ms\tremaining: 2.2s\n",
      "165:\tlearn: 0.3526363\ttotal: 436ms\tremaining: 2.19s\n",
      "166:\tlearn: 0.3519054\ttotal: 437ms\tremaining: 2.18s\n",
      "167:\tlearn: 0.3507184\ttotal: 439ms\tremaining: 2.17s\n",
      "168:\tlearn: 0.3495327\ttotal: 440ms\tremaining: 2.16s\n",
      "169:\tlearn: 0.3486015\ttotal: 442ms\tremaining: 2.15s\n",
      "170:\tlearn: 0.3478077\ttotal: 443ms\tremaining: 2.15s\n",
      "171:\tlearn: 0.3464457\ttotal: 445ms\tremaining: 2.14s\n",
      "172:\tlearn: 0.3455120\ttotal: 446ms\tremaining: 2.13s\n",
      "173:\tlearn: 0.3446286\ttotal: 448ms\tremaining: 2.12s\n",
      "174:\tlearn: 0.3434681\ttotal: 449ms\tremaining: 2.12s\n",
      "175:\tlearn: 0.3430162\ttotal: 450ms\tremaining: 2.11s\n",
      "176:\tlearn: 0.3423742\ttotal: 451ms\tremaining: 2.1s\n",
      "177:\tlearn: 0.3422003\ttotal: 452ms\tremaining: 2.09s\n",
      "178:\tlearn: 0.3414762\ttotal: 454ms\tremaining: 2.08s\n",
      "179:\tlearn: 0.3401759\ttotal: 455ms\tremaining: 2.07s\n",
      "180:\tlearn: 0.3397173\ttotal: 457ms\tremaining: 2.07s\n",
      "181:\tlearn: 0.3388977\ttotal: 458ms\tremaining: 2.06s\n",
      "182:\tlearn: 0.3379224\ttotal: 459ms\tremaining: 2.05s\n",
      "183:\tlearn: 0.3371813\ttotal: 461ms\tremaining: 2.04s\n",
      "184:\tlearn: 0.3368890\ttotal: 462ms\tremaining: 2.03s\n",
      "185:\tlearn: 0.3357595\ttotal: 463ms\tremaining: 2.03s\n",
      "186:\tlearn: 0.3350316\ttotal: 465ms\tremaining: 2.02s\n",
      "187:\tlearn: 0.3339623\ttotal: 467ms\tremaining: 2.02s\n",
      "188:\tlearn: 0.3333955\ttotal: 468ms\tremaining: 2.01s\n",
      "189:\tlearn: 0.3321844\ttotal: 469ms\tremaining: 2s\n",
      "190:\tlearn: 0.3318179\ttotal: 470ms\tremaining: 1.99s\n",
      "191:\tlearn: 0.3310974\ttotal: 472ms\tremaining: 1.99s\n",
      "192:\tlearn: 0.3300926\ttotal: 473ms\tremaining: 1.98s\n",
      "193:\tlearn: 0.3293827\ttotal: 475ms\tremaining: 1.97s\n",
      "194:\tlearn: 0.3287322\ttotal: 477ms\tremaining: 1.97s\n",
      "195:\tlearn: 0.3276139\ttotal: 478ms\tremaining: 1.96s\n",
      "196:\tlearn: 0.3268063\ttotal: 480ms\tremaining: 1.96s\n",
      "197:\tlearn: 0.3259827\ttotal: 482ms\tremaining: 1.95s\n",
      "198:\tlearn: 0.3250021\ttotal: 483ms\tremaining: 1.95s\n",
      "199:\tlearn: 0.3246581\ttotal: 485ms\tremaining: 1.94s\n",
      "200:\tlearn: 0.3238983\ttotal: 486ms\tremaining: 1.93s\n",
      "201:\tlearn: 0.3230335\ttotal: 488ms\tremaining: 1.93s\n",
      "202:\tlearn: 0.3218599\ttotal: 490ms\tremaining: 1.92s\n",
      "203:\tlearn: 0.3211197\ttotal: 492ms\tremaining: 1.92s\n",
      "204:\tlearn: 0.3207440\ttotal: 493ms\tremaining: 1.91s\n",
      "205:\tlearn: 0.3199465\ttotal: 495ms\tremaining: 1.91s\n",
      "206:\tlearn: 0.3191743\ttotal: 497ms\tremaining: 1.9s\n",
      "207:\tlearn: 0.3183277\ttotal: 499ms\tremaining: 1.9s\n",
      "208:\tlearn: 0.3175781\ttotal: 501ms\tremaining: 1.9s\n",
      "209:\tlearn: 0.3167503\ttotal: 503ms\tremaining: 1.89s\n",
      "210:\tlearn: 0.3161683\ttotal: 505ms\tremaining: 1.89s\n",
      "211:\tlearn: 0.3153324\ttotal: 507ms\tremaining: 1.88s\n",
      "212:\tlearn: 0.3147977\ttotal: 508ms\tremaining: 1.88s\n",
      "213:\tlearn: 0.3140384\ttotal: 510ms\tremaining: 1.87s\n",
      "214:\tlearn: 0.3134157\ttotal: 512ms\tremaining: 1.87s\n",
      "215:\tlearn: 0.3124251\ttotal: 513ms\tremaining: 1.86s\n",
      "216:\tlearn: 0.3119032\ttotal: 515ms\tremaining: 1.86s\n"
     ]
    },
    {
     "name": "stdout",
     "output_type": "stream",
     "text": [
      "217:\tlearn: 0.3111628\ttotal: 518ms\tremaining: 1.86s\n",
      "218:\tlearn: 0.3106289\ttotal: 519ms\tremaining: 1.85s\n",
      "219:\tlearn: 0.3096439\ttotal: 521ms\tremaining: 1.85s\n",
      "220:\tlearn: 0.3087572\ttotal: 523ms\tremaining: 1.84s\n",
      "221:\tlearn: 0.3080645\ttotal: 526ms\tremaining: 1.84s\n",
      "222:\tlearn: 0.3077284\ttotal: 529ms\tremaining: 1.84s\n",
      "223:\tlearn: 0.3068238\ttotal: 530ms\tremaining: 1.84s\n",
      "224:\tlearn: 0.3060865\ttotal: 532ms\tremaining: 1.83s\n",
      "225:\tlearn: 0.3053261\ttotal: 534ms\tremaining: 1.83s\n",
      "226:\tlearn: 0.3049830\ttotal: 536ms\tremaining: 1.82s\n",
      "227:\tlearn: 0.3043831\ttotal: 538ms\tremaining: 1.82s\n",
      "228:\tlearn: 0.3036527\ttotal: 539ms\tremaining: 1.81s\n",
      "229:\tlearn: 0.3029137\ttotal: 544ms\tremaining: 1.82s\n",
      "230:\tlearn: 0.3023233\ttotal: 545ms\tremaining: 1.81s\n",
      "231:\tlearn: 0.3019126\ttotal: 547ms\tremaining: 1.81s\n",
      "232:\tlearn: 0.3011656\ttotal: 549ms\tremaining: 1.81s\n",
      "233:\tlearn: 0.3004942\ttotal: 551ms\tremaining: 1.8s\n",
      "234:\tlearn: 0.2999039\ttotal: 552ms\tremaining: 1.8s\n",
      "235:\tlearn: 0.2989374\ttotal: 555ms\tremaining: 1.79s\n",
      "236:\tlearn: 0.2983051\ttotal: 556ms\tremaining: 1.79s\n",
      "237:\tlearn: 0.2973948\ttotal: 558ms\tremaining: 1.79s\n",
      "238:\tlearn: 0.2966949\ttotal: 560ms\tremaining: 1.78s\n",
      "239:\tlearn: 0.2958804\ttotal: 561ms\tremaining: 1.78s\n",
      "240:\tlearn: 0.2953489\ttotal: 563ms\tremaining: 1.77s\n",
      "241:\tlearn: 0.2947417\ttotal: 565ms\tremaining: 1.77s\n",
      "242:\tlearn: 0.2940497\ttotal: 567ms\tremaining: 1.77s\n",
      "243:\tlearn: 0.2932209\ttotal: 569ms\tremaining: 1.76s\n",
      "244:\tlearn: 0.2924235\ttotal: 570ms\tremaining: 1.76s\n",
      "245:\tlearn: 0.2919598\ttotal: 572ms\tremaining: 1.75s\n",
      "246:\tlearn: 0.2914943\ttotal: 574ms\tremaining: 1.75s\n",
      "247:\tlearn: 0.2908997\ttotal: 575ms\tremaining: 1.75s\n",
      "248:\tlearn: 0.2905064\ttotal: 577ms\tremaining: 1.74s\n",
      "249:\tlearn: 0.2898832\ttotal: 579ms\tremaining: 1.74s\n",
      "250:\tlearn: 0.2892827\ttotal: 580ms\tremaining: 1.73s\n",
      "251:\tlearn: 0.2886365\ttotal: 582ms\tremaining: 1.73s\n",
      "252:\tlearn: 0.2879287\ttotal: 583ms\tremaining: 1.72s\n",
      "253:\tlearn: 0.2872204\ttotal: 585ms\tremaining: 1.72s\n",
      "254:\tlearn: 0.2866839\ttotal: 586ms\tremaining: 1.71s\n",
      "255:\tlearn: 0.2860201\ttotal: 588ms\tremaining: 1.71s\n",
      "256:\tlearn: 0.2853212\ttotal: 589ms\tremaining: 1.7s\n",
      "257:\tlearn: 0.2846211\ttotal: 591ms\tremaining: 1.7s\n",
      "258:\tlearn: 0.2841678\ttotal: 592ms\tremaining: 1.69s\n",
      "259:\tlearn: 0.2836010\ttotal: 594ms\tremaining: 1.69s\n",
      "260:\tlearn: 0.2830725\ttotal: 596ms\tremaining: 1.69s\n",
      "261:\tlearn: 0.2825041\ttotal: 597ms\tremaining: 1.68s\n",
      "262:\tlearn: 0.2819187\ttotal: 599ms\tremaining: 1.68s\n",
      "263:\tlearn: 0.2812888\ttotal: 600ms\tremaining: 1.67s\n",
      "264:\tlearn: 0.2805886\ttotal: 602ms\tremaining: 1.67s\n",
      "265:\tlearn: 0.2800103\ttotal: 603ms\tremaining: 1.66s\n",
      "266:\tlearn: 0.2792622\ttotal: 605ms\tremaining: 1.66s\n",
      "267:\tlearn: 0.2787674\ttotal: 606ms\tremaining: 1.66s\n",
      "268:\tlearn: 0.2780206\ttotal: 608ms\tremaining: 1.65s\n",
      "269:\tlearn: 0.2773174\ttotal: 610ms\tremaining: 1.65s\n",
      "270:\tlearn: 0.2768602\ttotal: 611ms\tremaining: 1.64s\n",
      "271:\tlearn: 0.2764747\ttotal: 613ms\tremaining: 1.64s\n",
      "272:\tlearn: 0.2760351\ttotal: 615ms\tremaining: 1.64s\n",
      "273:\tlearn: 0.2757365\ttotal: 616ms\tremaining: 1.63s\n",
      "274:\tlearn: 0.2754043\ttotal: 618ms\tremaining: 1.63s\n",
      "275:\tlearn: 0.2748379\ttotal: 620ms\tremaining: 1.63s\n",
      "276:\tlearn: 0.2745783\ttotal: 621ms\tremaining: 1.62s\n",
      "277:\tlearn: 0.2739180\ttotal: 623ms\tremaining: 1.62s\n",
      "278:\tlearn: 0.2734329\ttotal: 625ms\tremaining: 1.61s\n",
      "279:\tlearn: 0.2728267\ttotal: 626ms\tremaining: 1.61s\n",
      "280:\tlearn: 0.2722132\ttotal: 628ms\tremaining: 1.61s\n",
      "281:\tlearn: 0.2715882\ttotal: 629ms\tremaining: 1.6s\n",
      "282:\tlearn: 0.2710644\ttotal: 631ms\tremaining: 1.6s\n",
      "283:\tlearn: 0.2706833\ttotal: 632ms\tremaining: 1.59s\n",
      "284:\tlearn: 0.2700916\ttotal: 634ms\tremaining: 1.59s\n",
      "285:\tlearn: 0.2694722\ttotal: 635ms\tremaining: 1.59s\n",
      "286:\tlearn: 0.2689542\ttotal: 637ms\tremaining: 1.58s\n",
      "287:\tlearn: 0.2683942\ttotal: 639ms\tremaining: 1.58s\n",
      "288:\tlearn: 0.2678942\ttotal: 640ms\tremaining: 1.57s\n",
      "289:\tlearn: 0.2675461\ttotal: 642ms\tremaining: 1.57s\n",
      "290:\tlearn: 0.2670632\ttotal: 643ms\tremaining: 1.57s\n",
      "291:\tlearn: 0.2663278\ttotal: 645ms\tremaining: 1.56s\n",
      "292:\tlearn: 0.2658532\ttotal: 647ms\tremaining: 1.56s\n",
      "293:\tlearn: 0.2653164\ttotal: 648ms\tremaining: 1.56s\n",
      "294:\tlearn: 0.2646422\ttotal: 650ms\tremaining: 1.55s\n",
      "295:\tlearn: 0.2641413\ttotal: 651ms\tremaining: 1.55s\n",
      "296:\tlearn: 0.2636675\ttotal: 653ms\tremaining: 1.54s\n",
      "297:\tlearn: 0.2632606\ttotal: 654ms\tremaining: 1.54s\n",
      "298:\tlearn: 0.2626313\ttotal: 656ms\tremaining: 1.54s\n",
      "299:\tlearn: 0.2624862\ttotal: 657ms\tremaining: 1.53s\n",
      "300:\tlearn: 0.2620969\ttotal: 659ms\tremaining: 1.53s\n",
      "301:\tlearn: 0.2616635\ttotal: 660ms\tremaining: 1.52s\n",
      "302:\tlearn: 0.2611311\ttotal: 662ms\tremaining: 1.52s\n",
      "303:\tlearn: 0.2604132\ttotal: 663ms\tremaining: 1.52s\n",
      "304:\tlearn: 0.2599923\ttotal: 665ms\tremaining: 1.51s\n",
      "305:\tlearn: 0.2597564\ttotal: 666ms\tremaining: 1.51s\n",
      "306:\tlearn: 0.2591276\ttotal: 668ms\tremaining: 1.51s\n",
      "307:\tlearn: 0.2584747\ttotal: 669ms\tremaining: 1.5s\n",
      "308:\tlearn: 0.2581753\ttotal: 671ms\tremaining: 1.5s\n",
      "309:\tlearn: 0.2576667\ttotal: 672ms\tremaining: 1.5s\n",
      "310:\tlearn: 0.2573675\ttotal: 674ms\tremaining: 1.49s\n",
      "311:\tlearn: 0.2568758\ttotal: 675ms\tremaining: 1.49s\n",
      "312:\tlearn: 0.2566434\ttotal: 677ms\tremaining: 1.49s\n",
      "313:\tlearn: 0.2560432\ttotal: 679ms\tremaining: 1.48s\n",
      "314:\tlearn: 0.2553799\ttotal: 681ms\tremaining: 1.48s\n",
      "315:\tlearn: 0.2549712\ttotal: 683ms\tremaining: 1.48s\n",
      "316:\tlearn: 0.2544300\ttotal: 684ms\tremaining: 1.47s\n",
      "317:\tlearn: 0.2540810\ttotal: 686ms\tremaining: 1.47s\n",
      "318:\tlearn: 0.2537609\ttotal: 688ms\tremaining: 1.47s\n",
      "319:\tlearn: 0.2533680\ttotal: 689ms\tremaining: 1.46s\n",
      "320:\tlearn: 0.2528448\ttotal: 691ms\tremaining: 1.46s\n",
      "321:\tlearn: 0.2524575\ttotal: 692ms\tremaining: 1.46s\n",
      "322:\tlearn: 0.2520433\ttotal: 694ms\tremaining: 1.45s\n",
      "323:\tlearn: 0.2513768\ttotal: 695ms\tremaining: 1.45s\n",
      "324:\tlearn: 0.2509293\ttotal: 697ms\tremaining: 1.45s\n",
      "325:\tlearn: 0.2503777\ttotal: 699ms\tremaining: 1.44s\n",
      "326:\tlearn: 0.2501443\ttotal: 700ms\tremaining: 1.44s\n",
      "327:\tlearn: 0.2497329\ttotal: 702ms\tremaining: 1.44s\n",
      "328:\tlearn: 0.2492151\ttotal: 703ms\tremaining: 1.43s\n",
      "329:\tlearn: 0.2489656\ttotal: 705ms\tremaining: 1.43s\n",
      "330:\tlearn: 0.2485583\ttotal: 707ms\tremaining: 1.43s\n",
      "331:\tlearn: 0.2480637\ttotal: 708ms\tremaining: 1.43s\n",
      "332:\tlearn: 0.2477888\ttotal: 710ms\tremaining: 1.42s\n",
      "333:\tlearn: 0.2474850\ttotal: 711ms\tremaining: 1.42s\n",
      "334:\tlearn: 0.2469451\ttotal: 713ms\tremaining: 1.42s\n",
      "335:\tlearn: 0.2463614\ttotal: 714ms\tremaining: 1.41s\n",
      "336:\tlearn: 0.2458106\ttotal: 716ms\tremaining: 1.41s\n",
      "337:\tlearn: 0.2453766\ttotal: 717ms\tremaining: 1.41s\n",
      "338:\tlearn: 0.2450810\ttotal: 719ms\tremaining: 1.4s\n",
      "339:\tlearn: 0.2445433\ttotal: 721ms\tremaining: 1.4s\n",
      "340:\tlearn: 0.2444972\ttotal: 721ms\tremaining: 1.39s\n",
      "341:\tlearn: 0.2440022\ttotal: 723ms\tremaining: 1.39s\n",
      "342:\tlearn: 0.2436683\ttotal: 725ms\tremaining: 1.39s\n",
      "343:\tlearn: 0.2432819\ttotal: 726ms\tremaining: 1.39s\n",
      "344:\tlearn: 0.2427989\ttotal: 728ms\tremaining: 1.38s\n",
      "345:\tlearn: 0.2420940\ttotal: 730ms\tremaining: 1.38s\n",
      "346:\tlearn: 0.2416286\ttotal: 731ms\tremaining: 1.38s\n",
      "347:\tlearn: 0.2413824\ttotal: 733ms\tremaining: 1.37s\n",
      "348:\tlearn: 0.2410783\ttotal: 734ms\tremaining: 1.37s\n",
      "349:\tlearn: 0.2406212\ttotal: 736ms\tremaining: 1.37s\n",
      "350:\tlearn: 0.2403829\ttotal: 738ms\tremaining: 1.36s\n",
      "351:\tlearn: 0.2396747\ttotal: 740ms\tremaining: 1.36s\n",
      "352:\tlearn: 0.2394747\ttotal: 742ms\tremaining: 1.36s\n",
      "353:\tlearn: 0.2390715\ttotal: 743ms\tremaining: 1.36s\n",
      "354:\tlearn: 0.2388158\ttotal: 745ms\tremaining: 1.35s\n",
      "355:\tlearn: 0.2382697\ttotal: 747ms\tremaining: 1.35s\n",
      "356:\tlearn: 0.2379337\ttotal: 749ms\tremaining: 1.35s\n",
      "357:\tlearn: 0.2377239\ttotal: 751ms\tremaining: 1.35s\n",
      "358:\tlearn: 0.2371700\ttotal: 753ms\tremaining: 1.34s\n",
      "359:\tlearn: 0.2367061\ttotal: 754ms\tremaining: 1.34s\n",
      "360:\tlearn: 0.2363905\ttotal: 756ms\tremaining: 1.34s\n",
      "361:\tlearn: 0.2360850\ttotal: 758ms\tremaining: 1.33s\n",
      "362:\tlearn: 0.2359405\ttotal: 759ms\tremaining: 1.33s\n",
      "363:\tlearn: 0.2355968\ttotal: 761ms\tremaining: 1.33s\n",
      "364:\tlearn: 0.2352190\ttotal: 763ms\tremaining: 1.33s\n",
      "365:\tlearn: 0.2348178\ttotal: 765ms\tremaining: 1.32s\n",
      "366:\tlearn: 0.2343459\ttotal: 766ms\tremaining: 1.32s\n",
      "367:\tlearn: 0.2338760\ttotal: 768ms\tremaining: 1.32s\n",
      "368:\tlearn: 0.2335118\ttotal: 769ms\tremaining: 1.31s\n",
      "369:\tlearn: 0.2331534\ttotal: 771ms\tremaining: 1.31s\n",
      "370:\tlearn: 0.2327981\ttotal: 773ms\tremaining: 1.31s\n",
      "371:\tlearn: 0.2325471\ttotal: 774ms\tremaining: 1.31s\n",
      "372:\tlearn: 0.2320823\ttotal: 776ms\tremaining: 1.3s\n",
      "373:\tlearn: 0.2316150\ttotal: 778ms\tremaining: 1.3s\n",
      "374:\tlearn: 0.2312567\ttotal: 779ms\tremaining: 1.3s\n",
      "375:\tlearn: 0.2309665\ttotal: 781ms\tremaining: 1.29s\n",
      "376:\tlearn: 0.2305487\ttotal: 782ms\tremaining: 1.29s\n",
      "377:\tlearn: 0.2302362\ttotal: 784ms\tremaining: 1.29s\n",
      "378:\tlearn: 0.2298494\ttotal: 786ms\tremaining: 1.29s\n",
      "379:\tlearn: 0.2294705\ttotal: 787ms\tremaining: 1.28s\n",
      "380:\tlearn: 0.2289192\ttotal: 789ms\tremaining: 1.28s\n",
      "381:\tlearn: 0.2284711\ttotal: 791ms\tremaining: 1.28s\n",
      "382:\tlearn: 0.2282753\ttotal: 793ms\tremaining: 1.28s\n",
      "383:\tlearn: 0.2280230\ttotal: 794ms\tremaining: 1.27s\n",
      "384:\tlearn: 0.2278448\ttotal: 796ms\tremaining: 1.27s\n",
      "385:\tlearn: 0.2276390\ttotal: 797ms\tremaining: 1.27s\n",
      "386:\tlearn: 0.2272838\ttotal: 799ms\tremaining: 1.26s\n",
      "387:\tlearn: 0.2269429\ttotal: 800ms\tremaining: 1.26s\n",
      "388:\tlearn: 0.2264794\ttotal: 802ms\tremaining: 1.26s\n",
      "389:\tlearn: 0.2260882\ttotal: 804ms\tremaining: 1.26s\n",
      "390:\tlearn: 0.2257320\ttotal: 805ms\tremaining: 1.25s\n",
      "391:\tlearn: 0.2253825\ttotal: 807ms\tremaining: 1.25s\n",
      "392:\tlearn: 0.2250201\ttotal: 808ms\tremaining: 1.25s\n",
      "393:\tlearn: 0.2247848\ttotal: 810ms\tremaining: 1.25s\n",
      "394:\tlearn: 0.2245612\ttotal: 811ms\tremaining: 1.24s\n",
      "395:\tlearn: 0.2242187\ttotal: 813ms\tremaining: 1.24s\n",
      "396:\tlearn: 0.2239822\ttotal: 814ms\tremaining: 1.24s\n",
      "397:\tlearn: 0.2236989\ttotal: 816ms\tremaining: 1.23s\n",
      "398:\tlearn: 0.2235183\ttotal: 817ms\tremaining: 1.23s\n",
      "399:\tlearn: 0.2230596\ttotal: 819ms\tremaining: 1.23s\n",
      "400:\tlearn: 0.2227511\ttotal: 820ms\tremaining: 1.23s\n",
      "401:\tlearn: 0.2224446\ttotal: 822ms\tremaining: 1.22s\n",
      "402:\tlearn: 0.2220862\ttotal: 823ms\tremaining: 1.22s\n",
      "403:\tlearn: 0.2216683\ttotal: 825ms\tremaining: 1.22s\n",
      "404:\tlearn: 0.2212574\ttotal: 826ms\tremaining: 1.21s\n",
      "405:\tlearn: 0.2210520\ttotal: 828ms\tremaining: 1.21s\n",
      "406:\tlearn: 0.2206644\ttotal: 829ms\tremaining: 1.21s\n",
      "407:\tlearn: 0.2204110\ttotal: 831ms\tremaining: 1.21s\n",
      "408:\tlearn: 0.2199871\ttotal: 832ms\tremaining: 1.2s\n",
      "409:\tlearn: 0.2197389\ttotal: 834ms\tremaining: 1.2s\n",
      "410:\tlearn: 0.2194104\ttotal: 835ms\tremaining: 1.2s\n",
      "411:\tlearn: 0.2192345\ttotal: 837ms\tremaining: 1.19s\n",
      "412:\tlearn: 0.2189914\ttotal: 839ms\tremaining: 1.19s\n",
      "413:\tlearn: 0.2188487\ttotal: 840ms\tremaining: 1.19s\n",
      "414:\tlearn: 0.2183329\ttotal: 842ms\tremaining: 1.19s\n"
     ]
    },
    {
     "name": "stdout",
     "output_type": "stream",
     "text": [
      "415:\tlearn: 0.2179774\ttotal: 844ms\tremaining: 1.18s\n",
      "416:\tlearn: 0.2174186\ttotal: 846ms\tremaining: 1.18s\n",
      "417:\tlearn: 0.2168941\ttotal: 848ms\tremaining: 1.18s\n",
      "418:\tlearn: 0.2167618\ttotal: 849ms\tremaining: 1.18s\n",
      "419:\tlearn: 0.2164391\ttotal: 851ms\tremaining: 1.17s\n",
      "420:\tlearn: 0.2161196\ttotal: 852ms\tremaining: 1.17s\n",
      "421:\tlearn: 0.2157739\ttotal: 854ms\tremaining: 1.17s\n",
      "422:\tlearn: 0.2154251\ttotal: 855ms\tremaining: 1.17s\n",
      "423:\tlearn: 0.2152802\ttotal: 857ms\tremaining: 1.16s\n",
      "424:\tlearn: 0.2151494\ttotal: 858ms\tremaining: 1.16s\n",
      "425:\tlearn: 0.2147988\ttotal: 860ms\tremaining: 1.16s\n",
      "426:\tlearn: 0.2145900\ttotal: 861ms\tremaining: 1.16s\n",
      "427:\tlearn: 0.2145617\ttotal: 862ms\tremaining: 1.15s\n",
      "428:\tlearn: 0.2141954\ttotal: 864ms\tremaining: 1.15s\n",
      "429:\tlearn: 0.2137315\ttotal: 865ms\tremaining: 1.15s\n",
      "430:\tlearn: 0.2134406\ttotal: 867ms\tremaining: 1.14s\n",
      "431:\tlearn: 0.2130804\ttotal: 868ms\tremaining: 1.14s\n",
      "432:\tlearn: 0.2127306\ttotal: 870ms\tremaining: 1.14s\n",
      "433:\tlearn: 0.2124362\ttotal: 871ms\tremaining: 1.14s\n",
      "434:\tlearn: 0.2121918\ttotal: 873ms\tremaining: 1.13s\n",
      "435:\tlearn: 0.2117953\ttotal: 874ms\tremaining: 1.13s\n",
      "436:\tlearn: 0.2115265\ttotal: 876ms\tremaining: 1.13s\n",
      "437:\tlearn: 0.2114720\ttotal: 877ms\tremaining: 1.13s\n",
      "438:\tlearn: 0.2110566\ttotal: 879ms\tremaining: 1.12s\n",
      "439:\tlearn: 0.2106894\ttotal: 880ms\tremaining: 1.12s\n",
      "440:\tlearn: 0.2103009\ttotal: 882ms\tremaining: 1.12s\n",
      "441:\tlearn: 0.2100871\ttotal: 883ms\tremaining: 1.11s\n",
      "442:\tlearn: 0.2096908\ttotal: 884ms\tremaining: 1.11s\n",
      "443:\tlearn: 0.2095228\ttotal: 886ms\tremaining: 1.11s\n",
      "444:\tlearn: 0.2092186\ttotal: 888ms\tremaining: 1.11s\n",
      "445:\tlearn: 0.2088236\ttotal: 889ms\tremaining: 1.1s\n",
      "446:\tlearn: 0.2086837\ttotal: 891ms\tremaining: 1.1s\n",
      "447:\tlearn: 0.2083093\ttotal: 892ms\tremaining: 1.1s\n",
      "448:\tlearn: 0.2080790\ttotal: 894ms\tremaining: 1.1s\n",
      "449:\tlearn: 0.2078829\ttotal: 895ms\tremaining: 1.09s\n",
      "450:\tlearn: 0.2077081\ttotal: 897ms\tremaining: 1.09s\n",
      "451:\tlearn: 0.2073887\ttotal: 898ms\tremaining: 1.09s\n",
      "452:\tlearn: 0.2071469\ttotal: 900ms\tremaining: 1.09s\n",
      "453:\tlearn: 0.2068551\ttotal: 901ms\tremaining: 1.08s\n",
      "454:\tlearn: 0.2064547\ttotal: 903ms\tremaining: 1.08s\n",
      "455:\tlearn: 0.2062674\ttotal: 904ms\tremaining: 1.08s\n",
      "456:\tlearn: 0.2061274\ttotal: 906ms\tremaining: 1.08s\n",
      "457:\tlearn: 0.2057086\ttotal: 907ms\tremaining: 1.07s\n",
      "458:\tlearn: 0.2053246\ttotal: 909ms\tremaining: 1.07s\n",
      "459:\tlearn: 0.2049620\ttotal: 910ms\tremaining: 1.07s\n",
      "460:\tlearn: 0.2045728\ttotal: 912ms\tremaining: 1.07s\n",
      "461:\tlearn: 0.2043178\ttotal: 913ms\tremaining: 1.06s\n",
      "462:\tlearn: 0.2038485\ttotal: 915ms\tremaining: 1.06s\n",
      "463:\tlearn: 0.2035840\ttotal: 916ms\tremaining: 1.06s\n",
      "464:\tlearn: 0.2032158\ttotal: 918ms\tremaining: 1.05s\n",
      "465:\tlearn: 0.2028198\ttotal: 919ms\tremaining: 1.05s\n",
      "466:\tlearn: 0.2025824\ttotal: 920ms\tremaining: 1.05s\n",
      "467:\tlearn: 0.2022490\ttotal: 922ms\tremaining: 1.05s\n",
      "468:\tlearn: 0.2020143\ttotal: 923ms\tremaining: 1.04s\n",
      "469:\tlearn: 0.2016580\ttotal: 925ms\tremaining: 1.04s\n",
      "470:\tlearn: 0.2013781\ttotal: 926ms\tremaining: 1.04s\n",
      "471:\tlearn: 0.2011222\ttotal: 928ms\tremaining: 1.04s\n",
      "472:\tlearn: 0.2009132\ttotal: 929ms\tremaining: 1.03s\n",
      "473:\tlearn: 0.2007324\ttotal: 931ms\tremaining: 1.03s\n",
      "474:\tlearn: 0.2005490\ttotal: 933ms\tremaining: 1.03s\n",
      "475:\tlearn: 0.2001918\ttotal: 934ms\tremaining: 1.03s\n",
      "476:\tlearn: 0.1998944\ttotal: 936ms\tremaining: 1.03s\n",
      "477:\tlearn: 0.1996890\ttotal: 937ms\tremaining: 1.02s\n",
      "478:\tlearn: 0.1993151\ttotal: 939ms\tremaining: 1.02s\n",
      "479:\tlearn: 0.1989393\ttotal: 940ms\tremaining: 1.02s\n",
      "480:\tlearn: 0.1985244\ttotal: 942ms\tremaining: 1.02s\n",
      "481:\tlearn: 0.1983378\ttotal: 943ms\tremaining: 1.01s\n",
      "482:\tlearn: 0.1981128\ttotal: 945ms\tremaining: 1.01s\n",
      "483:\tlearn: 0.1977741\ttotal: 947ms\tremaining: 1.01s\n",
      "484:\tlearn: 0.1974381\ttotal: 948ms\tremaining: 1.01s\n",
      "485:\tlearn: 0.1972434\ttotal: 950ms\tremaining: 1s\n",
      "486:\tlearn: 0.1971477\ttotal: 951ms\tremaining: 1s\n",
      "487:\tlearn: 0.1969988\ttotal: 953ms\tremaining: 1000ms\n",
      "488:\tlearn: 0.1968648\ttotal: 954ms\tremaining: 997ms\n",
      "489:\tlearn: 0.1964348\ttotal: 956ms\tremaining: 995ms\n",
      "490:\tlearn: 0.1962840\ttotal: 958ms\tremaining: 993ms\n",
      "491:\tlearn: 0.1959971\ttotal: 959ms\tremaining: 991ms\n",
      "492:\tlearn: 0.1957026\ttotal: 961ms\tremaining: 988ms\n",
      "493:\tlearn: 0.1955695\ttotal: 963ms\tremaining: 986ms\n",
      "494:\tlearn: 0.1953952\ttotal: 964ms\tremaining: 984ms\n",
      "495:\tlearn: 0.1950400\ttotal: 966ms\tremaining: 982ms\n",
      "496:\tlearn: 0.1947469\ttotal: 968ms\tremaining: 979ms\n",
      "497:\tlearn: 0.1945522\ttotal: 969ms\tremaining: 977ms\n",
      "498:\tlearn: 0.1943765\ttotal: 971ms\tremaining: 974ms\n",
      "499:\tlearn: 0.1940251\ttotal: 972ms\tremaining: 972ms\n",
      "500:\tlearn: 0.1937779\ttotal: 974ms\tremaining: 970ms\n",
      "501:\tlearn: 0.1934710\ttotal: 975ms\tremaining: 968ms\n",
      "502:\tlearn: 0.1932006\ttotal: 977ms\tremaining: 965ms\n",
      "503:\tlearn: 0.1928386\ttotal: 979ms\tremaining: 963ms\n",
      "504:\tlearn: 0.1926002\ttotal: 980ms\tremaining: 961ms\n",
      "505:\tlearn: 0.1924010\ttotal: 982ms\tremaining: 958ms\n",
      "506:\tlearn: 0.1920762\ttotal: 983ms\tremaining: 956ms\n",
      "507:\tlearn: 0.1919134\ttotal: 985ms\tremaining: 954ms\n",
      "508:\tlearn: 0.1915182\ttotal: 986ms\tremaining: 952ms\n",
      "509:\tlearn: 0.1912839\ttotal: 988ms\tremaining: 949ms\n",
      "510:\tlearn: 0.1911050\ttotal: 990ms\tremaining: 947ms\n",
      "511:\tlearn: 0.1907812\ttotal: 992ms\tremaining: 945ms\n",
      "512:\tlearn: 0.1907129\ttotal: 993ms\tremaining: 943ms\n",
      "513:\tlearn: 0.1904574\ttotal: 995ms\tremaining: 941ms\n",
      "514:\tlearn: 0.1900422\ttotal: 997ms\tremaining: 939ms\n",
      "515:\tlearn: 0.1898838\ttotal: 999ms\tremaining: 937ms\n",
      "516:\tlearn: 0.1896718\ttotal: 1s\tremaining: 935ms\n",
      "517:\tlearn: 0.1894975\ttotal: 1s\tremaining: 933ms\n",
      "518:\tlearn: 0.1891323\ttotal: 1s\tremaining: 931ms\n",
      "519:\tlearn: 0.1888891\ttotal: 1.01s\tremaining: 929ms\n",
      "520:\tlearn: 0.1886605\ttotal: 1.01s\tremaining: 928ms\n",
      "521:\tlearn: 0.1882819\ttotal: 1.01s\tremaining: 925ms\n",
      "522:\tlearn: 0.1879103\ttotal: 1.01s\tremaining: 923ms\n",
      "523:\tlearn: 0.1876983\ttotal: 1.01s\tremaining: 921ms\n",
      "524:\tlearn: 0.1873621\ttotal: 1.02s\tremaining: 919ms\n",
      "525:\tlearn: 0.1872114\ttotal: 1.02s\tremaining: 917ms\n",
      "526:\tlearn: 0.1869436\ttotal: 1.02s\tremaining: 915ms\n",
      "527:\tlearn: 0.1867206\ttotal: 1.02s\tremaining: 913ms\n",
      "528:\tlearn: 0.1864837\ttotal: 1.02s\tremaining: 911ms\n",
      "529:\tlearn: 0.1861921\ttotal: 1.02s\tremaining: 909ms\n",
      "530:\tlearn: 0.1859058\ttotal: 1.03s\tremaining: 908ms\n",
      "531:\tlearn: 0.1855492\ttotal: 1.03s\tremaining: 906ms\n",
      "532:\tlearn: 0.1853847\ttotal: 1.03s\tremaining: 904ms\n",
      "533:\tlearn: 0.1848786\ttotal: 1.03s\tremaining: 902ms\n",
      "534:\tlearn: 0.1847220\ttotal: 1.03s\tremaining: 899ms\n",
      "535:\tlearn: 0.1845289\ttotal: 1.04s\tremaining: 897ms\n",
      "536:\tlearn: 0.1842170\ttotal: 1.04s\tremaining: 895ms\n",
      "537:\tlearn: 0.1840775\ttotal: 1.04s\tremaining: 893ms\n",
      "538:\tlearn: 0.1838168\ttotal: 1.04s\tremaining: 891ms\n",
      "539:\tlearn: 0.1833460\ttotal: 1.04s\tremaining: 888ms\n",
      "540:\tlearn: 0.1829860\ttotal: 1.04s\tremaining: 886ms\n",
      "541:\tlearn: 0.1828049\ttotal: 1.05s\tremaining: 884ms\n",
      "542:\tlearn: 0.1825575\ttotal: 1.05s\tremaining: 882ms\n",
      "543:\tlearn: 0.1824638\ttotal: 1.05s\tremaining: 880ms\n",
      "544:\tlearn: 0.1820996\ttotal: 1.05s\tremaining: 878ms\n",
      "545:\tlearn: 0.1818372\ttotal: 1.05s\tremaining: 875ms\n",
      "546:\tlearn: 0.1815645\ttotal: 1.07s\tremaining: 887ms\n",
      "547:\tlearn: 0.1813658\ttotal: 1.07s\tremaining: 885ms\n",
      "548:\tlearn: 0.1810980\ttotal: 1.07s\tremaining: 883ms\n",
      "549:\tlearn: 0.1807709\ttotal: 1.08s\tremaining: 881ms\n",
      "550:\tlearn: 0.1804222\ttotal: 1.08s\tremaining: 878ms\n",
      "551:\tlearn: 0.1800695\ttotal: 1.08s\tremaining: 876ms\n",
      "552:\tlearn: 0.1799603\ttotal: 1.08s\tremaining: 874ms\n",
      "553:\tlearn: 0.1796782\ttotal: 1.08s\tremaining: 871ms\n",
      "554:\tlearn: 0.1795038\ttotal: 1.08s\tremaining: 869ms\n",
      "555:\tlearn: 0.1791343\ttotal: 1.09s\tremaining: 867ms\n",
      "556:\tlearn: 0.1790667\ttotal: 1.09s\tremaining: 865ms\n",
      "557:\tlearn: 0.1787021\ttotal: 1.09s\tremaining: 863ms\n",
      "558:\tlearn: 0.1784697\ttotal: 1.09s\tremaining: 861ms\n",
      "559:\tlearn: 0.1782168\ttotal: 1.09s\tremaining: 859ms\n",
      "560:\tlearn: 0.1781041\ttotal: 1.09s\tremaining: 856ms\n",
      "561:\tlearn: 0.1779691\ttotal: 1.1s\tremaining: 854ms\n",
      "562:\tlearn: 0.1776914\ttotal: 1.1s\tremaining: 852ms\n",
      "563:\tlearn: 0.1774607\ttotal: 1.1s\tremaining: 850ms\n",
      "564:\tlearn: 0.1771881\ttotal: 1.1s\tremaining: 848ms\n",
      "565:\tlearn: 0.1770475\ttotal: 1.1s\tremaining: 845ms\n",
      "566:\tlearn: 0.1768182\ttotal: 1.1s\tremaining: 843ms\n",
      "567:\tlearn: 0.1765421\ttotal: 1.1s\tremaining: 841ms\n",
      "568:\tlearn: 0.1763251\ttotal: 1.11s\tremaining: 839ms\n",
      "569:\tlearn: 0.1760322\ttotal: 1.11s\tremaining: 837ms\n",
      "570:\tlearn: 0.1757642\ttotal: 1.11s\tremaining: 835ms\n",
      "571:\tlearn: 0.1754087\ttotal: 1.11s\tremaining: 832ms\n",
      "572:\tlearn: 0.1751396\ttotal: 1.11s\tremaining: 830ms\n",
      "573:\tlearn: 0.1749395\ttotal: 1.11s\tremaining: 828ms\n",
      "574:\tlearn: 0.1747539\ttotal: 1.12s\tremaining: 826ms\n",
      "575:\tlearn: 0.1745199\ttotal: 1.12s\tremaining: 824ms\n",
      "576:\tlearn: 0.1742043\ttotal: 1.12s\tremaining: 822ms\n",
      "577:\tlearn: 0.1738340\ttotal: 1.12s\tremaining: 819ms\n",
      "578:\tlearn: 0.1736564\ttotal: 1.12s\tremaining: 817ms\n",
      "579:\tlearn: 0.1734342\ttotal: 1.13s\tremaining: 815ms\n",
      "580:\tlearn: 0.1730258\ttotal: 1.13s\tremaining: 813ms\n",
      "581:\tlearn: 0.1727580\ttotal: 1.13s\tremaining: 810ms\n",
      "582:\tlearn: 0.1725132\ttotal: 1.13s\tremaining: 808ms\n",
      "583:\tlearn: 0.1723444\ttotal: 1.13s\tremaining: 806ms\n",
      "584:\tlearn: 0.1721916\ttotal: 1.13s\tremaining: 804ms\n",
      "585:\tlearn: 0.1720102\ttotal: 1.14s\tremaining: 802ms\n",
      "586:\tlearn: 0.1716866\ttotal: 1.14s\tremaining: 800ms\n",
      "587:\tlearn: 0.1715266\ttotal: 1.14s\tremaining: 798ms\n",
      "588:\tlearn: 0.1713855\ttotal: 1.14s\tremaining: 796ms\n",
      "589:\tlearn: 0.1710948\ttotal: 1.14s\tremaining: 793ms\n",
      "590:\tlearn: 0.1708467\ttotal: 1.14s\tremaining: 791ms\n",
      "591:\tlearn: 0.1706715\ttotal: 1.14s\tremaining: 789ms\n",
      "592:\tlearn: 0.1704347\ttotal: 1.15s\tremaining: 787ms\n",
      "593:\tlearn: 0.1700939\ttotal: 1.15s\tremaining: 785ms\n",
      "594:\tlearn: 0.1699999\ttotal: 1.15s\tremaining: 783ms\n",
      "595:\tlearn: 0.1697974\ttotal: 1.15s\tremaining: 780ms\n",
      "596:\tlearn: 0.1696126\ttotal: 1.15s\tremaining: 778ms\n",
      "597:\tlearn: 0.1695729\ttotal: 1.15s\tremaining: 776ms\n",
      "598:\tlearn: 0.1693371\ttotal: 1.16s\tremaining: 774ms\n",
      "599:\tlearn: 0.1692269\ttotal: 1.16s\tremaining: 771ms\n",
      "600:\tlearn: 0.1691468\ttotal: 1.16s\tremaining: 769ms\n",
      "601:\tlearn: 0.1689636\ttotal: 1.16s\tremaining: 767ms\n",
      "602:\tlearn: 0.1686352\ttotal: 1.16s\tremaining: 765ms\n",
      "603:\tlearn: 0.1683739\ttotal: 1.16s\tremaining: 763ms\n",
      "604:\tlearn: 0.1681890\ttotal: 1.16s\tremaining: 760ms\n",
      "605:\tlearn: 0.1680077\ttotal: 1.17s\tremaining: 758ms\n",
      "606:\tlearn: 0.1677377\ttotal: 1.17s\tremaining: 756ms\n",
      "607:\tlearn: 0.1676205\ttotal: 1.17s\tremaining: 754ms\n",
      "608:\tlearn: 0.1675041\ttotal: 1.17s\tremaining: 752ms\n"
     ]
    },
    {
     "name": "stdout",
     "output_type": "stream",
     "text": [
      "609:\tlearn: 0.1671551\ttotal: 1.17s\tremaining: 750ms\n",
      "610:\tlearn: 0.1671136\ttotal: 1.17s\tremaining: 747ms\n",
      "611:\tlearn: 0.1669804\ttotal: 1.18s\tremaining: 745ms\n",
      "612:\tlearn: 0.1668549\ttotal: 1.18s\tremaining: 743ms\n",
      "613:\tlearn: 0.1665932\ttotal: 1.18s\tremaining: 741ms\n",
      "614:\tlearn: 0.1663617\ttotal: 1.18s\tremaining: 739ms\n",
      "615:\tlearn: 0.1661127\ttotal: 1.18s\tremaining: 737ms\n",
      "616:\tlearn: 0.1659293\ttotal: 1.18s\tremaining: 735ms\n",
      "617:\tlearn: 0.1658495\ttotal: 1.19s\tremaining: 733ms\n",
      "618:\tlearn: 0.1657121\ttotal: 1.19s\tremaining: 730ms\n",
      "619:\tlearn: 0.1654821\ttotal: 1.19s\tremaining: 728ms\n",
      "620:\tlearn: 0.1653202\ttotal: 1.19s\tremaining: 726ms\n",
      "621:\tlearn: 0.1650090\ttotal: 1.19s\tremaining: 724ms\n",
      "622:\tlearn: 0.1648093\ttotal: 1.19s\tremaining: 722ms\n",
      "623:\tlearn: 0.1646301\ttotal: 1.2s\tremaining: 720ms\n",
      "624:\tlearn: 0.1643550\ttotal: 1.2s\tremaining: 718ms\n",
      "625:\tlearn: 0.1640660\ttotal: 1.2s\tremaining: 716ms\n",
      "626:\tlearn: 0.1638388\ttotal: 1.2s\tremaining: 714ms\n",
      "627:\tlearn: 0.1636262\ttotal: 1.2s\tremaining: 712ms\n",
      "628:\tlearn: 0.1633787\ttotal: 1.2s\tremaining: 710ms\n",
      "629:\tlearn: 0.1630749\ttotal: 1.2s\tremaining: 707ms\n",
      "630:\tlearn: 0.1627860\ttotal: 1.21s\tremaining: 705ms\n",
      "631:\tlearn: 0.1626501\ttotal: 1.21s\tremaining: 703ms\n",
      "632:\tlearn: 0.1622232\ttotal: 1.21s\tremaining: 701ms\n",
      "633:\tlearn: 0.1619684\ttotal: 1.21s\tremaining: 699ms\n",
      "634:\tlearn: 0.1616990\ttotal: 1.21s\tremaining: 697ms\n",
      "635:\tlearn: 0.1615642\ttotal: 1.21s\tremaining: 695ms\n",
      "636:\tlearn: 0.1612695\ttotal: 1.22s\tremaining: 692ms\n",
      "637:\tlearn: 0.1611546\ttotal: 1.22s\tremaining: 690ms\n",
      "638:\tlearn: 0.1610593\ttotal: 1.22s\tremaining: 688ms\n",
      "639:\tlearn: 0.1609504\ttotal: 1.22s\tremaining: 686ms\n",
      "640:\tlearn: 0.1607561\ttotal: 1.22s\tremaining: 684ms\n",
      "641:\tlearn: 0.1605486\ttotal: 1.22s\tremaining: 682ms\n",
      "642:\tlearn: 0.1602481\ttotal: 1.22s\tremaining: 680ms\n",
      "643:\tlearn: 0.1600717\ttotal: 1.23s\tremaining: 677ms\n",
      "644:\tlearn: 0.1598147\ttotal: 1.23s\tremaining: 675ms\n",
      "645:\tlearn: 0.1596441\ttotal: 1.23s\tremaining: 673ms\n",
      "646:\tlearn: 0.1595233\ttotal: 1.23s\tremaining: 671ms\n",
      "647:\tlearn: 0.1593869\ttotal: 1.23s\tremaining: 669ms\n",
      "648:\tlearn: 0.1592369\ttotal: 1.23s\tremaining: 667ms\n",
      "649:\tlearn: 0.1589425\ttotal: 1.23s\tremaining: 665ms\n",
      "650:\tlearn: 0.1587452\ttotal: 1.24s\tremaining: 663ms\n",
      "651:\tlearn: 0.1585819\ttotal: 1.24s\tremaining: 661ms\n",
      "652:\tlearn: 0.1583509\ttotal: 1.24s\tremaining: 659ms\n",
      "653:\tlearn: 0.1581090\ttotal: 1.24s\tremaining: 657ms\n",
      "654:\tlearn: 0.1579869\ttotal: 1.24s\tremaining: 654ms\n",
      "655:\tlearn: 0.1577992\ttotal: 1.24s\tremaining: 652ms\n",
      "656:\tlearn: 0.1575755\ttotal: 1.25s\tremaining: 650ms\n",
      "657:\tlearn: 0.1572688\ttotal: 1.25s\tremaining: 648ms\n",
      "658:\tlearn: 0.1570961\ttotal: 1.25s\tremaining: 646ms\n",
      "659:\tlearn: 0.1567847\ttotal: 1.25s\tremaining: 644ms\n",
      "660:\tlearn: 0.1566086\ttotal: 1.25s\tremaining: 642ms\n",
      "661:\tlearn: 0.1564884\ttotal: 1.25s\tremaining: 640ms\n",
      "662:\tlearn: 0.1563095\ttotal: 1.25s\tremaining: 638ms\n",
      "663:\tlearn: 0.1560766\ttotal: 1.26s\tremaining: 636ms\n",
      "664:\tlearn: 0.1558256\ttotal: 1.26s\tremaining: 634ms\n",
      "665:\tlearn: 0.1556056\ttotal: 1.26s\tremaining: 632ms\n",
      "666:\tlearn: 0.1554083\ttotal: 1.26s\tremaining: 630ms\n",
      "667:\tlearn: 0.1552606\ttotal: 1.26s\tremaining: 628ms\n",
      "668:\tlearn: 0.1551123\ttotal: 1.26s\tremaining: 626ms\n",
      "669:\tlearn: 0.1550174\ttotal: 1.27s\tremaining: 624ms\n",
      "670:\tlearn: 0.1547661\ttotal: 1.27s\tremaining: 622ms\n",
      "671:\tlearn: 0.1546316\ttotal: 1.27s\tremaining: 620ms\n",
      "672:\tlearn: 0.1543919\ttotal: 1.27s\tremaining: 618ms\n",
      "673:\tlearn: 0.1542865\ttotal: 1.27s\tremaining: 616ms\n",
      "674:\tlearn: 0.1541636\ttotal: 1.27s\tremaining: 614ms\n",
      "675:\tlearn: 0.1540625\ttotal: 1.28s\tremaining: 612ms\n",
      "676:\tlearn: 0.1538702\ttotal: 1.28s\tremaining: 610ms\n",
      "677:\tlearn: 0.1536403\ttotal: 1.28s\tremaining: 607ms\n",
      "678:\tlearn: 0.1535085\ttotal: 1.28s\tremaining: 605ms\n",
      "679:\tlearn: 0.1532990\ttotal: 1.28s\tremaining: 603ms\n",
      "680:\tlearn: 0.1531506\ttotal: 1.28s\tremaining: 601ms\n",
      "681:\tlearn: 0.1530192\ttotal: 1.28s\tremaining: 599ms\n",
      "682:\tlearn: 0.1527739\ttotal: 1.29s\tremaining: 597ms\n",
      "683:\tlearn: 0.1525751\ttotal: 1.29s\tremaining: 595ms\n",
      "684:\tlearn: 0.1523523\ttotal: 1.29s\tremaining: 593ms\n",
      "685:\tlearn: 0.1520159\ttotal: 1.29s\tremaining: 591ms\n",
      "686:\tlearn: 0.1516476\ttotal: 1.29s\tremaining: 589ms\n",
      "687:\tlearn: 0.1514887\ttotal: 1.29s\tremaining: 587ms\n",
      "688:\tlearn: 0.1512333\ttotal: 1.29s\tremaining: 585ms\n",
      "689:\tlearn: 0.1510675\ttotal: 1.3s\tremaining: 583ms\n",
      "690:\tlearn: 0.1509699\ttotal: 1.3s\tremaining: 581ms\n",
      "691:\tlearn: 0.1507375\ttotal: 1.3s\tremaining: 579ms\n",
      "692:\tlearn: 0.1506512\ttotal: 1.3s\tremaining: 577ms\n",
      "693:\tlearn: 0.1504299\ttotal: 1.3s\tremaining: 575ms\n",
      "694:\tlearn: 0.1502647\ttotal: 1.3s\tremaining: 573ms\n",
      "695:\tlearn: 0.1500966\ttotal: 1.31s\tremaining: 571ms\n",
      "696:\tlearn: 0.1498462\ttotal: 1.31s\tremaining: 568ms\n",
      "697:\tlearn: 0.1496598\ttotal: 1.31s\tremaining: 566ms\n",
      "698:\tlearn: 0.1494506\ttotal: 1.31s\tremaining: 564ms\n",
      "699:\tlearn: 0.1494411\ttotal: 1.31s\tremaining: 562ms\n",
      "700:\tlearn: 0.1493661\ttotal: 1.31s\tremaining: 560ms\n",
      "701:\tlearn: 0.1491756\ttotal: 1.31s\tremaining: 558ms\n",
      "702:\tlearn: 0.1489936\ttotal: 1.32s\tremaining: 556ms\n",
      "703:\tlearn: 0.1487279\ttotal: 1.32s\tremaining: 554ms\n",
      "704:\tlearn: 0.1485930\ttotal: 1.32s\tremaining: 552ms\n",
      "705:\tlearn: 0.1484617\ttotal: 1.32s\tremaining: 550ms\n",
      "706:\tlearn: 0.1483623\ttotal: 1.32s\tremaining: 548ms\n",
      "707:\tlearn: 0.1481696\ttotal: 1.32s\tremaining: 546ms\n",
      "708:\tlearn: 0.1479452\ttotal: 1.32s\tremaining: 544ms\n",
      "709:\tlearn: 0.1477040\ttotal: 1.33s\tremaining: 542ms\n",
      "710:\tlearn: 0.1474634\ttotal: 1.33s\tremaining: 540ms\n",
      "711:\tlearn: 0.1472643\ttotal: 1.33s\tremaining: 538ms\n",
      "712:\tlearn: 0.1470676\ttotal: 1.33s\tremaining: 536ms\n",
      "713:\tlearn: 0.1470008\ttotal: 1.33s\tremaining: 534ms\n",
      "714:\tlearn: 0.1468556\ttotal: 1.33s\tremaining: 532ms\n",
      "715:\tlearn: 0.1467601\ttotal: 1.34s\tremaining: 531ms\n",
      "716:\tlearn: 0.1464833\ttotal: 1.34s\tremaining: 529ms\n",
      "717:\tlearn: 0.1462551\ttotal: 1.34s\tremaining: 527ms\n",
      "718:\tlearn: 0.1460498\ttotal: 1.34s\tremaining: 525ms\n",
      "719:\tlearn: 0.1457588\ttotal: 1.34s\tremaining: 523ms\n",
      "720:\tlearn: 0.1455599\ttotal: 1.35s\tremaining: 521ms\n",
      "721:\tlearn: 0.1454410\ttotal: 1.35s\tremaining: 519ms\n",
      "722:\tlearn: 0.1452848\ttotal: 1.35s\tremaining: 517ms\n",
      "723:\tlearn: 0.1451279\ttotal: 1.35s\tremaining: 515ms\n",
      "724:\tlearn: 0.1449805\ttotal: 1.35s\tremaining: 513ms\n",
      "725:\tlearn: 0.1448067\ttotal: 1.35s\tremaining: 511ms\n",
      "726:\tlearn: 0.1446343\ttotal: 1.35s\tremaining: 509ms\n",
      "727:\tlearn: 0.1445055\ttotal: 1.36s\tremaining: 507ms\n",
      "728:\tlearn: 0.1443396\ttotal: 1.36s\tremaining: 505ms\n",
      "729:\tlearn: 0.1441348\ttotal: 1.36s\tremaining: 503ms\n",
      "730:\tlearn: 0.1440498\ttotal: 1.36s\tremaining: 501ms\n",
      "731:\tlearn: 0.1439401\ttotal: 1.36s\tremaining: 499ms\n",
      "732:\tlearn: 0.1436774\ttotal: 1.36s\tremaining: 497ms\n",
      "733:\tlearn: 0.1434709\ttotal: 1.37s\tremaining: 495ms\n",
      "734:\tlearn: 0.1433030\ttotal: 1.37s\tremaining: 493ms\n",
      "735:\tlearn: 0.1430589\ttotal: 1.37s\tremaining: 491ms\n",
      "736:\tlearn: 0.1428575\ttotal: 1.37s\tremaining: 489ms\n",
      "737:\tlearn: 0.1427387\ttotal: 1.37s\tremaining: 487ms\n",
      "738:\tlearn: 0.1425947\ttotal: 1.37s\tremaining: 485ms\n",
      "739:\tlearn: 0.1423947\ttotal: 1.38s\tremaining: 483ms\n",
      "740:\tlearn: 0.1421849\ttotal: 1.38s\tremaining: 481ms\n",
      "741:\tlearn: 0.1419284\ttotal: 1.38s\tremaining: 479ms\n",
      "742:\tlearn: 0.1417437\ttotal: 1.38s\tremaining: 478ms\n",
      "743:\tlearn: 0.1415807\ttotal: 1.38s\tremaining: 476ms\n",
      "744:\tlearn: 0.1413847\ttotal: 1.38s\tremaining: 474ms\n",
      "745:\tlearn: 0.1413049\ttotal: 1.39s\tremaining: 472ms\n",
      "746:\tlearn: 0.1410806\ttotal: 1.39s\tremaining: 470ms\n",
      "747:\tlearn: 0.1409042\ttotal: 1.39s\tremaining: 468ms\n",
      "748:\tlearn: 0.1407720\ttotal: 1.39s\tremaining: 466ms\n",
      "749:\tlearn: 0.1405259\ttotal: 1.39s\tremaining: 464ms\n",
      "750:\tlearn: 0.1403464\ttotal: 1.39s\tremaining: 462ms\n",
      "751:\tlearn: 0.1401728\ttotal: 1.39s\tremaining: 460ms\n",
      "752:\tlearn: 0.1398976\ttotal: 1.4s\tremaining: 458ms\n",
      "753:\tlearn: 0.1397434\ttotal: 1.4s\tremaining: 456ms\n",
      "754:\tlearn: 0.1395691\ttotal: 1.4s\tremaining: 454ms\n",
      "755:\tlearn: 0.1392868\ttotal: 1.4s\tremaining: 452ms\n",
      "756:\tlearn: 0.1392358\ttotal: 1.4s\tremaining: 450ms\n",
      "757:\tlearn: 0.1391223\ttotal: 1.4s\tremaining: 448ms\n",
      "758:\tlearn: 0.1390406\ttotal: 1.41s\tremaining: 446ms\n",
      "759:\tlearn: 0.1388841\ttotal: 1.41s\tremaining: 444ms\n",
      "760:\tlearn: 0.1387690\ttotal: 1.41s\tremaining: 442ms\n",
      "761:\tlearn: 0.1386842\ttotal: 1.41s\tremaining: 440ms\n",
      "762:\tlearn: 0.1385086\ttotal: 1.41s\tremaining: 439ms\n",
      "763:\tlearn: 0.1382354\ttotal: 1.41s\tremaining: 437ms\n",
      "764:\tlearn: 0.1381040\ttotal: 1.41s\tremaining: 435ms\n",
      "765:\tlearn: 0.1379493\ttotal: 1.42s\tremaining: 433ms\n",
      "766:\tlearn: 0.1378239\ttotal: 1.42s\tremaining: 431ms\n",
      "767:\tlearn: 0.1377584\ttotal: 1.42s\tremaining: 429ms\n",
      "768:\tlearn: 0.1376206\ttotal: 1.42s\tremaining: 427ms\n",
      "769:\tlearn: 0.1374952\ttotal: 1.42s\tremaining: 425ms\n",
      "770:\tlearn: 0.1372894\ttotal: 1.42s\tremaining: 423ms\n",
      "771:\tlearn: 0.1370975\ttotal: 1.43s\tremaining: 421ms\n",
      "772:\tlearn: 0.1369155\ttotal: 1.43s\tremaining: 419ms\n",
      "773:\tlearn: 0.1366199\ttotal: 1.43s\tremaining: 418ms\n",
      "774:\tlearn: 0.1364509\ttotal: 1.43s\tremaining: 416ms\n",
      "775:\tlearn: 0.1362974\ttotal: 1.43s\tremaining: 414ms\n",
      "776:\tlearn: 0.1362117\ttotal: 1.44s\tremaining: 412ms\n",
      "777:\tlearn: 0.1361791\ttotal: 1.44s\tremaining: 410ms\n",
      "778:\tlearn: 0.1359627\ttotal: 1.44s\tremaining: 408ms\n",
      "779:\tlearn: 0.1357030\ttotal: 1.44s\tremaining: 406ms\n",
      "780:\tlearn: 0.1355830\ttotal: 1.44s\tremaining: 404ms\n",
      "781:\tlearn: 0.1354795\ttotal: 1.44s\tremaining: 403ms\n",
      "782:\tlearn: 0.1353910\ttotal: 1.45s\tremaining: 401ms\n",
      "783:\tlearn: 0.1351965\ttotal: 1.45s\tremaining: 399ms\n",
      "784:\tlearn: 0.1350559\ttotal: 1.45s\tremaining: 397ms\n",
      "785:\tlearn: 0.1349489\ttotal: 1.45s\tremaining: 395ms\n",
      "786:\tlearn: 0.1349225\ttotal: 1.45s\tremaining: 393ms\n",
      "787:\tlearn: 0.1346507\ttotal: 1.45s\tremaining: 391ms\n",
      "788:\tlearn: 0.1345084\ttotal: 1.45s\tremaining: 389ms\n",
      "789:\tlearn: 0.1343839\ttotal: 1.46s\tremaining: 387ms\n",
      "790:\tlearn: 0.1342481\ttotal: 1.46s\tremaining: 385ms\n",
      "791:\tlearn: 0.1341588\ttotal: 1.46s\tremaining: 383ms\n",
      "792:\tlearn: 0.1340350\ttotal: 1.46s\tremaining: 381ms\n",
      "793:\tlearn: 0.1338994\ttotal: 1.46s\tremaining: 379ms\n",
      "794:\tlearn: 0.1336861\ttotal: 1.46s\tremaining: 377ms\n",
      "795:\tlearn: 0.1336016\ttotal: 1.46s\tremaining: 375ms\n",
      "796:\tlearn: 0.1334253\ttotal: 1.47s\tremaining: 373ms\n",
      "797:\tlearn: 0.1332247\ttotal: 1.47s\tremaining: 371ms\n",
      "798:\tlearn: 0.1330072\ttotal: 1.47s\tremaining: 370ms\n",
      "799:\tlearn: 0.1328775\ttotal: 1.47s\tremaining: 368ms\n",
      "800:\tlearn: 0.1327155\ttotal: 1.47s\tremaining: 366ms\n",
      "801:\tlearn: 0.1325859\ttotal: 1.47s\tremaining: 364ms\n",
      "802:\tlearn: 0.1324660\ttotal: 1.47s\tremaining: 362ms\n",
      "803:\tlearn: 0.1321868\ttotal: 1.48s\tremaining: 360ms\n",
      "804:\tlearn: 0.1320399\ttotal: 1.48s\tremaining: 358ms\n",
      "805:\tlearn: 0.1318822\ttotal: 1.48s\tremaining: 356ms\n",
      "806:\tlearn: 0.1316557\ttotal: 1.48s\tremaining: 354ms\n",
      "807:\tlearn: 0.1315612\ttotal: 1.48s\tremaining: 352ms\n",
      "808:\tlearn: 0.1314292\ttotal: 1.48s\tremaining: 350ms\n",
      "809:\tlearn: 0.1313618\ttotal: 1.49s\tremaining: 348ms\n",
      "810:\tlearn: 0.1312125\ttotal: 1.49s\tremaining: 346ms\n",
      "811:\tlearn: 0.1310585\ttotal: 1.49s\tremaining: 345ms\n",
      "812:\tlearn: 0.1308586\ttotal: 1.49s\tremaining: 343ms\n",
      "813:\tlearn: 0.1307935\ttotal: 1.49s\tremaining: 341ms\n",
      "814:\tlearn: 0.1305831\ttotal: 1.49s\tremaining: 339ms\n",
      "815:\tlearn: 0.1304437\ttotal: 1.49s\tremaining: 337ms\n",
      "816:\tlearn: 0.1302982\ttotal: 1.5s\tremaining: 335ms\n",
      "817:\tlearn: 0.1302370\ttotal: 1.5s\tremaining: 333ms\n"
     ]
    },
    {
     "name": "stdout",
     "output_type": "stream",
     "text": [
      "818:\tlearn: 0.1300777\ttotal: 1.5s\tremaining: 331ms\n",
      "819:\tlearn: 0.1299202\ttotal: 1.5s\tremaining: 330ms\n",
      "820:\tlearn: 0.1296712\ttotal: 1.5s\tremaining: 328ms\n",
      "821:\tlearn: 0.1295493\ttotal: 1.5s\tremaining: 326ms\n",
      "822:\tlearn: 0.1294479\ttotal: 1.5s\tremaining: 324ms\n",
      "823:\tlearn: 0.1291381\ttotal: 1.51s\tremaining: 322ms\n",
      "824:\tlearn: 0.1289627\ttotal: 1.51s\tremaining: 320ms\n",
      "825:\tlearn: 0.1288439\ttotal: 1.51s\tremaining: 318ms\n",
      "826:\tlearn: 0.1287441\ttotal: 1.51s\tremaining: 316ms\n",
      "827:\tlearn: 0.1286802\ttotal: 1.51s\tremaining: 314ms\n",
      "828:\tlearn: 0.1285093\ttotal: 1.51s\tremaining: 312ms\n",
      "829:\tlearn: 0.1283655\ttotal: 1.52s\tremaining: 311ms\n",
      "830:\tlearn: 0.1282872\ttotal: 1.52s\tremaining: 309ms\n",
      "831:\tlearn: 0.1281096\ttotal: 1.52s\tremaining: 307ms\n",
      "832:\tlearn: 0.1278886\ttotal: 1.52s\tremaining: 305ms\n",
      "833:\tlearn: 0.1276895\ttotal: 1.52s\tremaining: 303ms\n",
      "834:\tlearn: 0.1274980\ttotal: 1.52s\tremaining: 301ms\n",
      "835:\tlearn: 0.1273755\ttotal: 1.52s\tremaining: 299ms\n",
      "836:\tlearn: 0.1272936\ttotal: 1.53s\tremaining: 297ms\n",
      "837:\tlearn: 0.1270482\ttotal: 1.53s\tremaining: 296ms\n",
      "838:\tlearn: 0.1269587\ttotal: 1.53s\tremaining: 294ms\n",
      "839:\tlearn: 0.1268197\ttotal: 1.53s\tremaining: 292ms\n",
      "840:\tlearn: 0.1267505\ttotal: 1.53s\tremaining: 290ms\n",
      "841:\tlearn: 0.1265725\ttotal: 1.53s\tremaining: 288ms\n",
      "842:\tlearn: 0.1263458\ttotal: 1.54s\tremaining: 286ms\n",
      "843:\tlearn: 0.1262174\ttotal: 1.54s\tremaining: 284ms\n",
      "844:\tlearn: 0.1260175\ttotal: 1.54s\tremaining: 282ms\n",
      "845:\tlearn: 0.1258431\ttotal: 1.54s\tremaining: 280ms\n",
      "846:\tlearn: 0.1256894\ttotal: 1.54s\tremaining: 279ms\n",
      "847:\tlearn: 0.1254398\ttotal: 1.54s\tremaining: 277ms\n",
      "848:\tlearn: 0.1252930\ttotal: 1.54s\tremaining: 275ms\n",
      "849:\tlearn: 0.1250774\ttotal: 1.55s\tremaining: 273ms\n",
      "850:\tlearn: 0.1249228\ttotal: 1.55s\tremaining: 271ms\n",
      "851:\tlearn: 0.1247322\ttotal: 1.55s\tremaining: 269ms\n",
      "852:\tlearn: 0.1246216\ttotal: 1.55s\tremaining: 267ms\n",
      "853:\tlearn: 0.1245102\ttotal: 1.55s\tremaining: 266ms\n",
      "854:\tlearn: 0.1242668\ttotal: 1.55s\tremaining: 264ms\n",
      "855:\tlearn: 0.1241821\ttotal: 1.56s\tremaining: 262ms\n",
      "856:\tlearn: 0.1240366\ttotal: 1.56s\tremaining: 260ms\n",
      "857:\tlearn: 0.1238676\ttotal: 1.56s\tremaining: 258ms\n",
      "858:\tlearn: 0.1237400\ttotal: 1.56s\tremaining: 256ms\n",
      "859:\tlearn: 0.1235778\ttotal: 1.56s\tremaining: 254ms\n",
      "860:\tlearn: 0.1234006\ttotal: 1.56s\tremaining: 253ms\n",
      "861:\tlearn: 0.1231671\ttotal: 1.57s\tremaining: 251ms\n",
      "862:\tlearn: 0.1229332\ttotal: 1.57s\tremaining: 249ms\n",
      "863:\tlearn: 0.1227329\ttotal: 1.57s\tremaining: 247ms\n",
      "864:\tlearn: 0.1226497\ttotal: 1.57s\tremaining: 245ms\n",
      "865:\tlearn: 0.1223937\ttotal: 1.57s\tremaining: 243ms\n",
      "866:\tlearn: 0.1222421\ttotal: 1.57s\tremaining: 241ms\n",
      "867:\tlearn: 0.1220761\ttotal: 1.57s\tremaining: 240ms\n",
      "868:\tlearn: 0.1219545\ttotal: 1.58s\tremaining: 238ms\n",
      "869:\tlearn: 0.1217851\ttotal: 1.58s\tremaining: 236ms\n",
      "870:\tlearn: 0.1215689\ttotal: 1.58s\tremaining: 234ms\n",
      "871:\tlearn: 0.1214961\ttotal: 1.58s\tremaining: 232ms\n",
      "872:\tlearn: 0.1213314\ttotal: 1.58s\tremaining: 230ms\n",
      "873:\tlearn: 0.1211686\ttotal: 1.58s\tremaining: 228ms\n",
      "874:\tlearn: 0.1210148\ttotal: 1.58s\tremaining: 227ms\n",
      "875:\tlearn: 0.1209580\ttotal: 1.59s\tremaining: 225ms\n",
      "876:\tlearn: 0.1208999\ttotal: 1.59s\tremaining: 223ms\n",
      "877:\tlearn: 0.1207556\ttotal: 1.59s\tremaining: 221ms\n",
      "878:\tlearn: 0.1205692\ttotal: 1.59s\tremaining: 219ms\n",
      "879:\tlearn: 0.1205092\ttotal: 1.59s\tremaining: 217ms\n",
      "880:\tlearn: 0.1204401\ttotal: 1.59s\tremaining: 215ms\n",
      "881:\tlearn: 0.1203387\ttotal: 1.6s\tremaining: 214ms\n",
      "882:\tlearn: 0.1201902\ttotal: 1.6s\tremaining: 212ms\n",
      "883:\tlearn: 0.1200906\ttotal: 1.6s\tremaining: 210ms\n",
      "884:\tlearn: 0.1199352\ttotal: 1.6s\tremaining: 208ms\n",
      "885:\tlearn: 0.1197389\ttotal: 1.6s\tremaining: 206ms\n",
      "886:\tlearn: 0.1195640\ttotal: 1.6s\tremaining: 204ms\n",
      "887:\tlearn: 0.1194203\ttotal: 1.61s\tremaining: 203ms\n",
      "888:\tlearn: 0.1193073\ttotal: 1.61s\tremaining: 201ms\n",
      "889:\tlearn: 0.1191582\ttotal: 1.61s\tremaining: 199ms\n",
      "890:\tlearn: 0.1189901\ttotal: 1.61s\tremaining: 197ms\n",
      "891:\tlearn: 0.1188384\ttotal: 1.61s\tremaining: 195ms\n",
      "892:\tlearn: 0.1186287\ttotal: 1.61s\tremaining: 193ms\n",
      "893:\tlearn: 0.1184102\ttotal: 1.61s\tremaining: 192ms\n",
      "894:\tlearn: 0.1182496\ttotal: 1.62s\tremaining: 190ms\n",
      "895:\tlearn: 0.1180809\ttotal: 1.62s\tremaining: 188ms\n",
      "896:\tlearn: 0.1179469\ttotal: 1.62s\tremaining: 186ms\n",
      "897:\tlearn: 0.1177292\ttotal: 1.62s\tremaining: 184ms\n",
      "898:\tlearn: 0.1176395\ttotal: 1.62s\tremaining: 182ms\n",
      "899:\tlearn: 0.1174623\ttotal: 1.63s\tremaining: 181ms\n",
      "900:\tlearn: 0.1173363\ttotal: 1.63s\tremaining: 179ms\n",
      "901:\tlearn: 0.1171877\ttotal: 1.63s\tremaining: 177ms\n",
      "902:\tlearn: 0.1170180\ttotal: 1.63s\tremaining: 175ms\n",
      "903:\tlearn: 0.1169921\ttotal: 1.63s\tremaining: 173ms\n",
      "904:\tlearn: 0.1168433\ttotal: 1.63s\tremaining: 171ms\n",
      "905:\tlearn: 0.1167147\ttotal: 1.64s\tremaining: 170ms\n",
      "906:\tlearn: 0.1165727\ttotal: 1.64s\tremaining: 168ms\n",
      "907:\tlearn: 0.1164528\ttotal: 1.64s\tremaining: 166ms\n",
      "908:\tlearn: 0.1162043\ttotal: 1.64s\tremaining: 164ms\n",
      "909:\tlearn: 0.1160309\ttotal: 1.64s\tremaining: 162ms\n",
      "910:\tlearn: 0.1159105\ttotal: 1.64s\tremaining: 161ms\n",
      "911:\tlearn: 0.1158198\ttotal: 1.64s\tremaining: 159ms\n",
      "912:\tlearn: 0.1156171\ttotal: 1.65s\tremaining: 157ms\n",
      "913:\tlearn: 0.1154151\ttotal: 1.65s\tremaining: 155ms\n",
      "914:\tlearn: 0.1152010\ttotal: 1.65s\tremaining: 153ms\n",
      "915:\tlearn: 0.1149801\ttotal: 1.65s\tremaining: 151ms\n",
      "916:\tlearn: 0.1148697\ttotal: 1.65s\tremaining: 150ms\n",
      "917:\tlearn: 0.1147496\ttotal: 1.65s\tremaining: 148ms\n",
      "918:\tlearn: 0.1145556\ttotal: 1.66s\tremaining: 146ms\n",
      "919:\tlearn: 0.1144583\ttotal: 1.66s\tremaining: 144ms\n",
      "920:\tlearn: 0.1143388\ttotal: 1.66s\tremaining: 142ms\n",
      "921:\tlearn: 0.1141903\ttotal: 1.66s\tremaining: 141ms\n",
      "922:\tlearn: 0.1141102\ttotal: 1.66s\tremaining: 139ms\n",
      "923:\tlearn: 0.1139413\ttotal: 1.67s\tremaining: 137ms\n",
      "924:\tlearn: 0.1138215\ttotal: 1.67s\tremaining: 135ms\n",
      "925:\tlearn: 0.1136710\ttotal: 1.67s\tremaining: 133ms\n",
      "926:\tlearn: 0.1135234\ttotal: 1.67s\tremaining: 131ms\n",
      "927:\tlearn: 0.1133317\ttotal: 1.67s\tremaining: 130ms\n",
      "928:\tlearn: 0.1131934\ttotal: 1.67s\tremaining: 128ms\n",
      "929:\tlearn: 0.1130751\ttotal: 1.67s\tremaining: 126ms\n",
      "930:\tlearn: 0.1129860\ttotal: 1.68s\tremaining: 124ms\n",
      "931:\tlearn: 0.1127993\ttotal: 1.68s\tremaining: 122ms\n",
      "932:\tlearn: 0.1126122\ttotal: 1.68s\tremaining: 121ms\n",
      "933:\tlearn: 0.1124583\ttotal: 1.68s\tremaining: 119ms\n",
      "934:\tlearn: 0.1124221\ttotal: 1.68s\tremaining: 117ms\n",
      "935:\tlearn: 0.1122122\ttotal: 1.68s\tremaining: 115ms\n",
      "936:\tlearn: 0.1121434\ttotal: 1.68s\tremaining: 113ms\n",
      "937:\tlearn: 0.1120469\ttotal: 1.69s\tremaining: 111ms\n",
      "938:\tlearn: 0.1119567\ttotal: 1.69s\tremaining: 110ms\n",
      "939:\tlearn: 0.1118173\ttotal: 1.69s\tremaining: 108ms\n",
      "940:\tlearn: 0.1116181\ttotal: 1.69s\tremaining: 106ms\n",
      "941:\tlearn: 0.1115276\ttotal: 1.69s\tremaining: 104ms\n",
      "942:\tlearn: 0.1113526\ttotal: 1.69s\tremaining: 102ms\n",
      "943:\tlearn: 0.1111999\ttotal: 1.7s\tremaining: 101ms\n",
      "944:\tlearn: 0.1110753\ttotal: 1.7s\tremaining: 98.8ms\n",
      "945:\tlearn: 0.1109783\ttotal: 1.7s\tremaining: 97ms\n",
      "946:\tlearn: 0.1107847\ttotal: 1.7s\tremaining: 95.1ms\n",
      "947:\tlearn: 0.1106468\ttotal: 1.7s\tremaining: 93.4ms\n",
      "948:\tlearn: 0.1105324\ttotal: 1.7s\tremaining: 91.6ms\n",
      "949:\tlearn: 0.1104533\ttotal: 1.71s\tremaining: 89.8ms\n",
      "950:\tlearn: 0.1103040\ttotal: 1.71s\tremaining: 88ms\n",
      "951:\tlearn: 0.1101347\ttotal: 1.71s\tremaining: 86.2ms\n",
      "952:\tlearn: 0.1099757\ttotal: 1.71s\tremaining: 84.4ms\n",
      "953:\tlearn: 0.1098641\ttotal: 1.71s\tremaining: 82.6ms\n",
      "954:\tlearn: 0.1097628\ttotal: 1.72s\tremaining: 80.9ms\n",
      "955:\tlearn: 0.1096428\ttotal: 1.72s\tremaining: 79.1ms\n",
      "956:\tlearn: 0.1096116\ttotal: 1.72s\tremaining: 77.4ms\n",
      "957:\tlearn: 0.1094983\ttotal: 1.72s\tremaining: 75.6ms\n",
      "958:\tlearn: 0.1093678\ttotal: 1.73s\tremaining: 73.8ms\n",
      "959:\tlearn: 0.1092846\ttotal: 1.73s\tremaining: 72ms\n",
      "960:\tlearn: 0.1091238\ttotal: 1.73s\tremaining: 70.2ms\n",
      "961:\tlearn: 0.1089827\ttotal: 1.73s\tremaining: 68.4ms\n",
      "962:\tlearn: 0.1088583\ttotal: 1.73s\tremaining: 66.6ms\n",
      "963:\tlearn: 0.1087581\ttotal: 1.73s\tremaining: 64.8ms\n",
      "964:\tlearn: 0.1086184\ttotal: 1.74s\tremaining: 63ms\n",
      "965:\tlearn: 0.1083970\ttotal: 1.74s\tremaining: 61.2ms\n",
      "966:\tlearn: 0.1082274\ttotal: 1.74s\tremaining: 59.4ms\n",
      "967:\tlearn: 0.1081591\ttotal: 1.74s\tremaining: 57.6ms\n",
      "968:\tlearn: 0.1080794\ttotal: 1.74s\tremaining: 55.8ms\n",
      "969:\tlearn: 0.1080102\ttotal: 1.75s\tremaining: 54ms\n",
      "970:\tlearn: 0.1079082\ttotal: 1.75s\tremaining: 52.2ms\n",
      "971:\tlearn: 0.1077906\ttotal: 1.75s\tremaining: 50.4ms\n",
      "972:\tlearn: 0.1076431\ttotal: 1.75s\tremaining: 48.6ms\n",
      "973:\tlearn: 0.1074290\ttotal: 1.75s\tremaining: 46.8ms\n",
      "974:\tlearn: 0.1072536\ttotal: 1.75s\tremaining: 45ms\n",
      "975:\tlearn: 0.1070567\ttotal: 1.75s\tremaining: 43.2ms\n",
      "976:\tlearn: 0.1069158\ttotal: 1.76s\tremaining: 41.4ms\n",
      "977:\tlearn: 0.1068812\ttotal: 1.76s\tremaining: 39.5ms\n",
      "978:\tlearn: 0.1067148\ttotal: 1.76s\tremaining: 37.7ms\n",
      "979:\tlearn: 0.1066399\ttotal: 1.76s\tremaining: 35.9ms\n",
      "980:\tlearn: 0.1064398\ttotal: 1.76s\tremaining: 34.1ms\n",
      "981:\tlearn: 0.1062855\ttotal: 1.76s\tremaining: 32.3ms\n",
      "982:\tlearn: 0.1062486\ttotal: 1.77s\tremaining: 30.5ms\n",
      "983:\tlearn: 0.1060985\ttotal: 1.77s\tremaining: 28.7ms\n",
      "984:\tlearn: 0.1060128\ttotal: 1.77s\tremaining: 26.9ms\n",
      "985:\tlearn: 0.1058541\ttotal: 1.77s\tremaining: 25.1ms\n",
      "986:\tlearn: 0.1057073\ttotal: 1.77s\tremaining: 23.3ms\n",
      "987:\tlearn: 0.1055392\ttotal: 1.77s\tremaining: 21.5ms\n",
      "988:\tlearn: 0.1053053\ttotal: 1.77s\tremaining: 19.7ms\n",
      "989:\tlearn: 0.1052015\ttotal: 1.78s\tremaining: 18ms\n",
      "990:\tlearn: 0.1050900\ttotal: 1.78s\tremaining: 16.2ms\n",
      "991:\tlearn: 0.1050499\ttotal: 1.78s\tremaining: 14.4ms\n",
      "992:\tlearn: 0.1048897\ttotal: 1.78s\tremaining: 12.6ms\n",
      "993:\tlearn: 0.1048020\ttotal: 1.78s\tremaining: 10.8ms\n",
      "994:\tlearn: 0.1046612\ttotal: 1.79s\tremaining: 8.98ms\n",
      "995:\tlearn: 0.1045945\ttotal: 1.79s\tremaining: 7.18ms\n",
      "996:\tlearn: 0.1043943\ttotal: 1.79s\tremaining: 5.39ms\n",
      "997:\tlearn: 0.1042829\ttotal: 1.79s\tremaining: 3.59ms\n",
      "998:\tlearn: 0.1041663\ttotal: 1.79s\tremaining: 1.79ms\n",
      "999:\tlearn: 0.1041315\ttotal: 1.79s\tremaining: 0us\n"
     ]
    },
    {
     "data": {
      "text/plain": [
       "<catboost.core.CatBoostClassifier at 0x189a39910f0>"
      ]
     },
     "execution_count": 61,
     "metadata": {},
     "output_type": "execute_result"
    }
   ],
   "source": [
    "model = CatBoostClassifier()\n",
    "\n",
    "model.fit(X_train, Y_train)"
   ]
  },
  {
   "cell_type": "code",
   "execution_count": 62,
   "id": "be5cae3c",
   "metadata": {},
   "outputs": [
    {
     "data": {
      "text/plain": [
       "0.8360655737704918"
      ]
     },
     "execution_count": 62,
     "metadata": {},
     "output_type": "execute_result"
    }
   ],
   "source": [
    "model.score(X_test, Y_test)"
   ]
  },
  {
   "cell_type": "code",
   "execution_count": 63,
   "id": "6664725e",
   "metadata": {},
   "outputs": [
    {
     "name": "stdout",
     "output_type": "stream",
     "text": [
      "Requirement already satisfied: xgboost in c:\\users\\kartik\\miniconda_projects\\env\\lib\\site-packages (1.7.1)\n",
      "Requirement already satisfied: scipy in c:\\users\\kartik\\miniconda_projects\\env\\lib\\site-packages (from xgboost) (1.7.3)\n",
      "Requirement already satisfied: numpy in c:\\users\\kartik\\miniconda_projects\\env\\lib\\site-packages (from xgboost) (1.22.3)\n",
      "Note: you may need to restart the kernel to use updated packages.\n"
     ]
    }
   ],
   "source": [
    "pip install xgboost"
   ]
  },
  {
   "cell_type": "code",
   "execution_count": 64,
   "id": "f0e967a0",
   "metadata": {},
   "outputs": [],
   "source": [
    "from xgboost import XGBRFClassifier\n",
    "\n",
    "model = XGBRFClassifier()\n",
    "\n",
    "model.fit(X_train, Y_train);\n"
   ]
  },
  {
   "cell_type": "code",
   "execution_count": 65,
   "id": "88f72e20",
   "metadata": {},
   "outputs": [
    {
     "data": {
      "text/plain": [
       "0.8524590163934426"
      ]
     },
     "execution_count": 65,
     "metadata": {},
     "output_type": "execute_result"
    }
   ],
   "source": [
    "model.score(X_test, Y_test)"
   ]
  },
  {
   "cell_type": "code",
   "execution_count": null,
   "id": "f8a17de7",
   "metadata": {},
   "outputs": [],
   "source": []
  }
 ],
 "metadata": {
  "kernelspec": {
   "display_name": "Python 3 (ipykernel)",
   "language": "python",
   "name": "python3"
  },
  "language_info": {
   "codemirror_mode": {
    "name": "ipython",
    "version": 3
   },
   "file_extension": ".py",
   "mimetype": "text/x-python",
   "name": "python",
   "nbconvert_exporter": "python",
   "pygments_lexer": "ipython3",
   "version": "3.10.9"
  }
 },
 "nbformat": 4,
 "nbformat_minor": 5
}
